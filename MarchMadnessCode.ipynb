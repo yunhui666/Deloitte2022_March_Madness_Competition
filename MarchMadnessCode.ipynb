{
  "cells": [
    {
      "cell_type": "markdown",
      "metadata": {
        "id": "view-in-github",
        "colab_type": "text"
      },
      "source": [
        "<a href=\"https://colab.research.google.com/github/yunhui666/Deloitte2022_March_Madness_Competition/blob/main/MarchMadnessCode.ipynb\" target=\"_parent\"><img src=\"https://colab.research.google.com/assets/colab-badge.svg\" alt=\"Open In Colab\"/></a>"
      ]
    },
    {
      "cell_type": "code",
      "execution_count": null,
      "id": "75d8fb69",
      "metadata": {
        "id": "75d8fb69"
      },
      "outputs": [],
      "source": [
        "import pandas as pd\n",
        "import numpy as np\n",
        "import pandas as pd\n",
        "import numpy as np\n",
        "from keras.models import Sequential\n",
        "from keras.layers import Dense\n",
        "import math"
      ]
    },
    {
      "cell_type": "code",
      "execution_count": null,
      "id": "30e66de8",
      "metadata": {
        "id": "30e66de8",
        "outputId": "fdfa2199-7613-431e-a268-e33a89390822",
        "colab": {
          "base_uri": "https://localhost:8080/"
        }
      },
      "outputs": [
        {
          "output_type": "stream",
          "name": "stdout",
          "text": [
            "Requirement already satisfied: tensorflow in /usr/local/lib/python3.7/dist-packages (2.8.0)\n",
            "Requirement already satisfied: termcolor>=1.1.0 in /usr/local/lib/python3.7/dist-packages (from tensorflow) (1.1.0)\n",
            "Requirement already satisfied: wrapt>=1.11.0 in /usr/local/lib/python3.7/dist-packages (from tensorflow) (1.13.3)\n",
            "Requirement already satisfied: keras-preprocessing>=1.1.1 in /usr/local/lib/python3.7/dist-packages (from tensorflow) (1.1.2)\n",
            "Requirement already satisfied: libclang>=9.0.1 in /usr/local/lib/python3.7/dist-packages (from tensorflow) (13.0.0)\n",
            "Requirement already satisfied: six>=1.12.0 in /usr/local/lib/python3.7/dist-packages (from tensorflow) (1.15.0)\n",
            "Requirement already satisfied: numpy>=1.20 in /usr/local/lib/python3.7/dist-packages (from tensorflow) (1.21.5)\n",
            "Requirement already satisfied: google-pasta>=0.1.1 in /usr/local/lib/python3.7/dist-packages (from tensorflow) (0.2.0)\n",
            "Requirement already satisfied: tensorflow-io-gcs-filesystem>=0.23.1 in /usr/local/lib/python3.7/dist-packages (from tensorflow) (0.24.0)\n",
            "Requirement already satisfied: setuptools in /usr/local/lib/python3.7/dist-packages (from tensorflow) (57.4.0)\n",
            "Requirement already satisfied: opt-einsum>=2.3.2 in /usr/local/lib/python3.7/dist-packages (from tensorflow) (3.3.0)\n",
            "Requirement already satisfied: typing-extensions>=3.6.6 in /usr/local/lib/python3.7/dist-packages (from tensorflow) (3.10.0.2)\n",
            "Requirement already satisfied: keras<2.9,>=2.8.0rc0 in /usr/local/lib/python3.7/dist-packages (from tensorflow) (2.8.0)\n",
            "Requirement already satisfied: grpcio<2.0,>=1.24.3 in /usr/local/lib/python3.7/dist-packages (from tensorflow) (1.44.0)\n",
            "Requirement already satisfied: flatbuffers>=1.12 in /usr/local/lib/python3.7/dist-packages (from tensorflow) (2.0)\n",
            "Requirement already satisfied: protobuf>=3.9.2 in /usr/local/lib/python3.7/dist-packages (from tensorflow) (3.17.3)\n",
            "Requirement already satisfied: h5py>=2.9.0 in /usr/local/lib/python3.7/dist-packages (from tensorflow) (3.1.0)\n",
            "Requirement already satisfied: astunparse>=1.6.0 in /usr/local/lib/python3.7/dist-packages (from tensorflow) (1.6.3)\n",
            "Requirement already satisfied: tf-estimator-nightly==2.8.0.dev2021122109 in /usr/local/lib/python3.7/dist-packages (from tensorflow) (2.8.0.dev2021122109)\n",
            "Requirement already satisfied: absl-py>=0.4.0 in /usr/local/lib/python3.7/dist-packages (from tensorflow) (1.0.0)\n",
            "Requirement already satisfied: tensorboard<2.9,>=2.8 in /usr/local/lib/python3.7/dist-packages (from tensorflow) (2.8.0)\n",
            "Requirement already satisfied: gast>=0.2.1 in /usr/local/lib/python3.7/dist-packages (from tensorflow) (0.5.3)\n",
            "Requirement already satisfied: wheel<1.0,>=0.23.0 in /usr/local/lib/python3.7/dist-packages (from astunparse>=1.6.0->tensorflow) (0.37.1)\n",
            "Requirement already satisfied: cached-property in /usr/local/lib/python3.7/dist-packages (from h5py>=2.9.0->tensorflow) (1.5.2)\n",
            "Requirement already satisfied: google-auth<3,>=1.6.3 in /usr/local/lib/python3.7/dist-packages (from tensorboard<2.9,>=2.8->tensorflow) (1.35.0)\n",
            "Requirement already satisfied: requests<3,>=2.21.0 in /usr/local/lib/python3.7/dist-packages (from tensorboard<2.9,>=2.8->tensorflow) (2.23.0)\n",
            "Requirement already satisfied: tensorboard-data-server<0.7.0,>=0.6.0 in /usr/local/lib/python3.7/dist-packages (from tensorboard<2.9,>=2.8->tensorflow) (0.6.1)\n",
            "Requirement already satisfied: tensorboard-plugin-wit>=1.6.0 in /usr/local/lib/python3.7/dist-packages (from tensorboard<2.9,>=2.8->tensorflow) (1.8.1)\n",
            "Requirement already satisfied: werkzeug>=0.11.15 in /usr/local/lib/python3.7/dist-packages (from tensorboard<2.9,>=2.8->tensorflow) (1.0.1)\n",
            "Requirement already satisfied: google-auth-oauthlib<0.5,>=0.4.1 in /usr/local/lib/python3.7/dist-packages (from tensorboard<2.9,>=2.8->tensorflow) (0.4.6)\n",
            "Requirement already satisfied: markdown>=2.6.8 in /usr/local/lib/python3.7/dist-packages (from tensorboard<2.9,>=2.8->tensorflow) (3.3.6)\n",
            "Requirement already satisfied: cachetools<5.0,>=2.0.0 in /usr/local/lib/python3.7/dist-packages (from google-auth<3,>=1.6.3->tensorboard<2.9,>=2.8->tensorflow) (4.2.4)\n",
            "Requirement already satisfied: rsa<5,>=3.1.4 in /usr/local/lib/python3.7/dist-packages (from google-auth<3,>=1.6.3->tensorboard<2.9,>=2.8->tensorflow) (4.8)\n",
            "Requirement already satisfied: pyasn1-modules>=0.2.1 in /usr/local/lib/python3.7/dist-packages (from google-auth<3,>=1.6.3->tensorboard<2.9,>=2.8->tensorflow) (0.2.8)\n",
            "Requirement already satisfied: requests-oauthlib>=0.7.0 in /usr/local/lib/python3.7/dist-packages (from google-auth-oauthlib<0.5,>=0.4.1->tensorboard<2.9,>=2.8->tensorflow) (1.3.1)\n",
            "Requirement already satisfied: importlib-metadata>=4.4 in /usr/local/lib/python3.7/dist-packages (from markdown>=2.6.8->tensorboard<2.9,>=2.8->tensorflow) (4.11.2)\n",
            "Requirement already satisfied: zipp>=0.5 in /usr/local/lib/python3.7/dist-packages (from importlib-metadata>=4.4->markdown>=2.6.8->tensorboard<2.9,>=2.8->tensorflow) (3.7.0)\n",
            "Requirement already satisfied: pyasn1<0.5.0,>=0.4.6 in /usr/local/lib/python3.7/dist-packages (from pyasn1-modules>=0.2.1->google-auth<3,>=1.6.3->tensorboard<2.9,>=2.8->tensorflow) (0.4.8)\n",
            "Requirement already satisfied: idna<3,>=2.5 in /usr/local/lib/python3.7/dist-packages (from requests<3,>=2.21.0->tensorboard<2.9,>=2.8->tensorflow) (2.10)\n",
            "Requirement already satisfied: urllib3!=1.25.0,!=1.25.1,<1.26,>=1.21.1 in /usr/local/lib/python3.7/dist-packages (from requests<3,>=2.21.0->tensorboard<2.9,>=2.8->tensorflow) (1.24.3)\n",
            "Requirement already satisfied: certifi>=2017.4.17 in /usr/local/lib/python3.7/dist-packages (from requests<3,>=2.21.0->tensorboard<2.9,>=2.8->tensorflow) (2021.10.8)\n",
            "Requirement already satisfied: chardet<4,>=3.0.2 in /usr/local/lib/python3.7/dist-packages (from requests<3,>=2.21.0->tensorboard<2.9,>=2.8->tensorflow) (3.0.4)\n",
            "Requirement already satisfied: oauthlib>=3.0.0 in /usr/local/lib/python3.7/dist-packages (from requests-oauthlib>=0.7.0->google-auth-oauthlib<0.5,>=0.4.1->tensorboard<2.9,>=2.8->tensorflow) (3.2.0)\n"
          ]
        }
      ],
      "source": [
        "pip install tensorflow"
      ]
    },
    {
      "cell_type": "code",
      "source": [
        "from google.colab import files\n",
        "uploaded = files.upload()"
      ],
      "metadata": {
        "colab": {
          "resources": {
            "http://localhost:8080/nbextensions/google.colab/files.js": {
              "data": "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",
              "ok": true,
              "headers": [
                [
                  "content-type",
                  "application/javascript"
                ]
              ],
              "status": 200,
              "status_text": ""
            }
          },
          "base_uri": "https://localhost:8080/",
          "height": 73
        },
        "id": "n4IN2kSTsLkT",
        "outputId": "1a7dca8f-c290-4627-a4d5-fad47792f969"
      },
      "id": "n4IN2kSTsLkT",
      "execution_count": null,
      "outputs": [
        {
          "output_type": "display_data",
          "data": {
            "text/plain": [
              "<IPython.core.display.HTML object>"
            ],
            "text/html": [
              "\n",
              "     <input type=\"file\" id=\"files-301e664c-5096-440d-8dc2-360bb9c04fb0\" name=\"files[]\" multiple disabled\n",
              "        style=\"border:none\" />\n",
              "     <output id=\"result-301e664c-5096-440d-8dc2-360bb9c04fb0\">\n",
              "      Upload widget is only available when the cell has been executed in the\n",
              "      current browser session. Please rerun this cell to enable.\n",
              "      </output>\n",
              "      <script src=\"/nbextensions/google.colab/files.js\"></script> "
            ]
          },
          "metadata": {}
        },
        {
          "output_type": "stream",
          "name": "stdout",
          "text": [
            "Saving NCAA_Tourney_2002_2021.csv to NCAA_Tourney_2002_2021 (5).csv\n"
          ]
        }
      ]
    },
    {
      "cell_type": "code",
      "source": [
        "from google.colab import files\n",
        "uploaded = files.upload()"
      ],
      "metadata": {
        "colab": {
          "resources": {
            "http://localhost:8080/nbextensions/google.colab/files.js": {
              "data": "Ly8gQ29weXJpZ2h0IDIwMTcgR29vZ2xlIExMQwovLwovLyBMaWNlbnNlZCB1bmRlciB0aGUgQXBhY2hlIExpY2Vuc2UsIFZlcnNpb24gMi4wICh0aGUgIkxpY2Vuc2UiKTsKLy8geW91IG1heSBub3QgdXNlIHRoaXMgZmlsZSBleGNlcHQgaW4gY29tcGxpYW5jZSB3aXRoIHRoZSBMaWNlbnNlLgovLyBZb3UgbWF5IG9idGFpbiBhIGNvcHkgb2YgdGhlIExpY2Vuc2UgYXQKLy8KLy8gICAgICBodHRwOi8vd3d3LmFwYWNoZS5vcmcvbGljZW5zZXMvTElDRU5TRS0yLjAKLy8KLy8gVW5sZXNzIHJlcXVpcmVkIGJ5IGFwcGxpY2FibGUgbGF3IG9yIGFncmVlZCB0byBpbiB3cml0aW5nLCBzb2Z0d2FyZQovLyBkaXN0cmlidXRlZCB1bmRlciB0aGUgTGljZW5zZSBpcyBkaXN0cmlidXRlZCBvbiBhbiAiQVMgSVMiIEJBU0lTLAovLyBXSVRIT1VUIFdBUlJBTlRJRVMgT1IgQ09ORElUSU9OUyBPRiBBTlkgS0lORCwgZWl0aGVyIGV4cHJlc3Mgb3IgaW1wbGllZC4KLy8gU2VlIHRoZSBMaWNlbnNlIGZvciB0aGUgc3BlY2lmaWMgbGFuZ3VhZ2UgZ292ZXJuaW5nIHBlcm1pc3Npb25zIGFuZAovLyBsaW1pdGF0aW9ucyB1bmRlciB0aGUgTGljZW5zZS4KCi8qKgogKiBAZmlsZW92ZXJ2aWV3IEhlbHBlcnMgZm9yIGdvb2dsZS5jb2xhYiBQeXRob24gbW9kdWxlLgogKi8KKGZ1bmN0aW9uKHNjb3BlKSB7CmZ1bmN0aW9uIHNwYW4odGV4dCwgc3R5bGVBdHRyaWJ1dGVzID0ge30pIHsKICBjb25zdCBlbGVtZW50ID0gZG9jdW1lbnQuY3JlYXRlRWxlbWVudCgnc3BhbicpOwogIGVsZW1lbnQudGV4dENvbnRlbnQgPSB0ZXh0OwogIGZvciAoY29uc3Qga2V5IG9mIE9iamVjdC5rZXlzKHN0eWxlQXR0cmlidXRlcykpIHsKICAgIGVsZW1lbnQuc3R5bGVba2V5XSA9IHN0eWxlQXR0cmlidXRlc1trZXldOwogIH0KICByZXR1cm4gZWxlbWVudDsKfQoKLy8gTWF4IG51bWJlciBvZiBieXRlcyB3aGljaCB3aWxsIGJlIHVwbG9hZGVkIGF0IGEgdGltZS4KY29uc3QgTUFYX1BBWUxPQURfU0laRSA9IDEwMCAqIDEwMjQ7CgpmdW5jdGlvbiBfdXBsb2FkRmlsZXMoaW5wdXRJZCwgb3V0cHV0SWQpIHsKICBjb25zdCBzdGVwcyA9IHVwbG9hZEZpbGVzU3RlcChpbnB1dElkLCBvdXRwdXRJZCk7CiAgY29uc3Qgb3V0cHV0RWxlbWVudCA9IGRvY3VtZW50LmdldEVsZW1lbnRCeUlkKG91dHB1dElkKTsKICAvLyBDYWNoZSBzdGVwcyBvbiB0aGUgb3V0cHV0RWxlbWVudCB0byBtYWtlIGl0IGF2YWlsYWJsZSBmb3IgdGhlIG5leHQgY2FsbAogIC8vIHRvIHVwbG9hZEZpbGVzQ29udGludWUgZnJvbSBQeXRob24uCiAgb3V0cHV0RWxlbWVudC5zdGVwcyA9IHN0ZXBzOwoKICByZXR1cm4gX3VwbG9hZEZpbGVzQ29udGludWUob3V0cHV0SWQpOwp9CgovLyBUaGlzIGlzIHJvdWdobHkgYW4gYXN5bmMgZ2VuZXJhdG9yIChub3Qgc3VwcG9ydGVkIGluIHRoZSBicm93c2VyIHlldCksCi8vIHdoZXJlIHRoZXJlIGFyZSBtdWx0aXBsZSBhc3luY2hyb25vdXMgc3RlcHMgYW5kIHRoZSBQeXRob24gc2lkZSBpcyBnb2luZwovLyB0byBwb2xsIGZvciBjb21wbGV0aW9uIG9mIGVhY2ggc3RlcC4KLy8gVGhpcyB1c2VzIGEgUHJvbWlzZSB0byBibG9jayB0aGUgcHl0aG9uIHNpZGUgb24gY29tcGxldGlvbiBvZiBlYWNoIHN0ZXAsCi8vIHRoZW4gcGFzc2VzIHRoZSByZXN1bHQgb2YgdGhlIHByZXZpb3VzIHN0ZXAgYXMgdGhlIGlucHV0IHRvIHRoZSBuZXh0IHN0ZXAuCmZ1bmN0aW9uIF91cGxvYWRGaWxlc0NvbnRpbnVlKG91dHB1dElkKSB7CiAgY29uc3Qgb3V0cHV0RWxlbWVudCA9IGRvY3VtZW50LmdldEVsZW1lbnRCeUlkKG91dHB1dElkKTsKICBjb25zdCBzdGVwcyA9IG91dHB1dEVsZW1lbnQuc3RlcHM7CgogIGNvbnN0IG5leHQgPSBzdGVwcy5uZXh0KG91dHB1dEVsZW1lbnQubGFzdFByb21pc2VWYWx1ZSk7CiAgcmV0dXJuIFByb21pc2UucmVzb2x2ZShuZXh0LnZhbHVlLnByb21pc2UpLnRoZW4oKHZhbHVlKSA9PiB7CiAgICAvLyBDYWNoZSB0aGUgbGFzdCBwcm9taXNlIHZhbHVlIHRvIG1ha2UgaXQgYXZhaWxhYmxlIHRvIHRoZSBuZXh0CiAgICAvLyBzdGVwIG9mIHRoZSBnZW5lcmF0b3IuCiAgICBvdXRwdXRFbGVtZW50Lmxhc3RQcm9taXNlVmFsdWUgPSB2YWx1ZTsKICAgIHJldHVybiBuZXh0LnZhbHVlLnJlc3BvbnNlOwogIH0pOwp9CgovKioKICogR2VuZXJhdG9yIGZ1bmN0aW9uIHdoaWNoIGlzIGNhbGxlZCBiZXR3ZWVuIGVhY2ggYXN5bmMgc3RlcCBvZiB0aGUgdXBsb2FkCiAqIHByb2Nlc3MuCiAqIEBwYXJhbSB7c3RyaW5nfSBpbnB1dElkIEVsZW1lbnQgSUQgb2YgdGhlIGlucHV0IGZpbGUgcGlja2VyIGVsZW1lbnQuCiAqIEBwYXJhbSB7c3RyaW5nfSBvdXRwdXRJZCBFbGVtZW50IElEIG9mIHRoZSBvdXRwdXQgZGlzcGxheS4KICogQHJldHVybiB7IUl0ZXJhYmxlPCFPYmplY3Q+fSBJdGVyYWJsZSBvZiBuZXh0IHN0ZXBzLgogKi8KZnVuY3Rpb24qIHVwbG9hZEZpbGVzU3RlcChpbnB1dElkLCBvdXRwdXRJZCkgewogIGNvbnN0IGlucHV0RWxlbWVudCA9IGRvY3VtZW50LmdldEVsZW1lbnRCeUlkKGlucHV0SWQpOwogIGlucHV0RWxlbWVudC5kaXNhYmxlZCA9IGZhbHNlOwoKICBjb25zdCBvdXRwdXRFbGVtZW50ID0gZG9jdW1lbnQuZ2V0RWxlbWVudEJ5SWQob3V0cHV0SWQpOwogIG91dHB1dEVsZW1lbnQuaW5uZXJIVE1MID0gJyc7CgogIGNvbnN0IHBpY2tlZFByb21pc2UgPSBuZXcgUHJvbWlzZSgocmVzb2x2ZSkgPT4gewogICAgaW5wdXRFbGVtZW50LmFkZEV2ZW50TGlzdGVuZXIoJ2NoYW5nZScsIChlKSA9PiB7CiAgICAgIHJlc29sdmUoZS50YXJnZXQuZmlsZXMpOwogICAgfSk7CiAgfSk7CgogIGNvbnN0IGNhbmNlbCA9IGRvY3VtZW50LmNyZWF0ZUVsZW1lbnQoJ2J1dHRvbicpOwogIGlucHV0RWxlbWVudC5wYXJlbnRFbGVtZW50LmFwcGVuZENoaWxkKGNhbmNlbCk7CiAgY2FuY2VsLnRleHRDb250ZW50ID0gJ0NhbmNlbCB1cGxvYWQnOwogIGNvbnN0IGNhbmNlbFByb21pc2UgPSBuZXcgUHJvbWlzZSgocmVzb2x2ZSkgPT4gewogICAgY2FuY2VsLm9uY2xpY2sgPSAoKSA9PiB7CiAgICAgIHJlc29sdmUobnVsbCk7CiAgICB9OwogIH0pOwoKICAvLyBXYWl0IGZvciB0aGUgdXNlciB0byBwaWNrIHRoZSBmaWxlcy4KICBjb25zdCBmaWxlcyA9IHlpZWxkIHsKICAgIHByb21pc2U6IFByb21pc2UucmFjZShbcGlja2VkUHJvbWlzZSwgY2FuY2VsUHJvbWlzZV0pLAogICAgcmVzcG9uc2U6IHsKICAgICAgYWN0aW9uOiAnc3RhcnRpbmcnLAogICAgfQogIH07CgogIGNhbmNlbC5yZW1vdmUoKTsKCiAgLy8gRGlzYWJsZSB0aGUgaW5wdXQgZWxlbWVudCBzaW5jZSBmdXJ0aGVyIHBpY2tzIGFyZSBub3QgYWxsb3dlZC4KICBpbnB1dEVsZW1lbnQuZGlzYWJsZWQgPSB0cnVlOwoKICBpZiAoIWZpbGVzKSB7CiAgICByZXR1cm4gewogICAgICByZXNwb25zZTogewogICAgICAgIGFjdGlvbjogJ2NvbXBsZXRlJywKICAgICAgfQogICAgfTsKICB9CgogIGZvciAoY29uc3QgZmlsZSBvZiBmaWxlcykgewogICAgY29uc3QgbGkgPSBkb2N1bWVudC5jcmVhdGVFbGVtZW50KCdsaScpOwogICAgbGkuYXBwZW5kKHNwYW4oZmlsZS5uYW1lLCB7Zm9udFdlaWdodDogJ2JvbGQnfSkpOwogICAgbGkuYXBwZW5kKHNwYW4oCiAgICAgICAgYCgke2ZpbGUudHlwZSB8fCAnbi9hJ30pIC0gJHtmaWxlLnNpemV9IGJ5dGVzLCBgICsKICAgICAgICBgbGFzdCBtb2RpZmllZDogJHsKICAgICAgICAgICAgZmlsZS5sYXN0TW9kaWZpZWREYXRlID8gZmlsZS5sYXN0TW9kaWZpZWREYXRlLnRvTG9jYWxlRGF0ZVN0cmluZygpIDoKICAgICAgICAgICAgICAgICAgICAgICAgICAgICAgICAgICAgJ24vYSd9IC0gYCkpOwogICAgY29uc3QgcGVyY2VudCA9IHNwYW4oJzAlIGRvbmUnKTsKICAgIGxpLmFwcGVuZENoaWxkKHBlcmNlbnQpOwoKICAgIG91dHB1dEVsZW1lbnQuYXBwZW5kQ2hpbGQobGkpOwoKICAgIGNvbnN0IGZpbGVEYXRhUHJvbWlzZSA9IG5ldyBQcm9taXNlKChyZXNvbHZlKSA9PiB7CiAgICAgIGNvbnN0IHJlYWRlciA9IG5ldyBGaWxlUmVhZGVyKCk7CiAgICAgIHJlYWRlci5vbmxvYWQgPSAoZSkgPT4gewogICAgICAgIHJlc29sdmUoZS50YXJnZXQucmVzdWx0KTsKICAgICAgfTsKICAgICAgcmVhZGVyLnJlYWRBc0FycmF5QnVmZmVyKGZpbGUpOwogICAgfSk7CiAgICAvLyBXYWl0IGZvciB0aGUgZGF0YSB0byBiZSByZWFkeS4KICAgIGxldCBmaWxlRGF0YSA9IHlpZWxkIHsKICAgICAgcHJvbWlzZTogZmlsZURhdGFQcm9taXNlLAogICAgICByZXNwb25zZTogewogICAgICAgIGFjdGlvbjogJ2NvbnRpbnVlJywKICAgICAgfQogICAgfTsKCiAgICAvLyBVc2UgYSBjaHVua2VkIHNlbmRpbmcgdG8gYXZvaWQgbWVzc2FnZSBzaXplIGxpbWl0cy4gU2VlIGIvNjIxMTU2NjAuCiAgICBsZXQgcG9zaXRpb24gPSAwOwogICAgZG8gewogICAgICBjb25zdCBsZW5ndGggPSBNYXRoLm1pbihmaWxlRGF0YS5ieXRlTGVuZ3RoIC0gcG9zaXRpb24sIE1BWF9QQVlMT0FEX1NJWkUpOwogICAgICBjb25zdCBjaHVuayA9IG5ldyBVaW50OEFycmF5KGZpbGVEYXRhLCBwb3NpdGlvbiwgbGVuZ3RoKTsKICAgICAgcG9zaXRpb24gKz0gbGVuZ3RoOwoKICAgICAgY29uc3QgYmFzZTY0ID0gYnRvYShTdHJpbmcuZnJvbUNoYXJDb2RlLmFwcGx5KG51bGwsIGNodW5rKSk7CiAgICAgIHlpZWxkIHsKICAgICAgICByZXNwb25zZTogewogICAgICAgICAgYWN0aW9uOiAnYXBwZW5kJywKICAgICAgICAgIGZpbGU6IGZpbGUubmFtZSwKICAgICAgICAgIGRhdGE6IGJhc2U2NCwKICAgICAgICB9LAogICAgICB9OwoKICAgICAgbGV0IHBlcmNlbnREb25lID0gZmlsZURhdGEuYnl0ZUxlbmd0aCA9PT0gMCA/CiAgICAgICAgICAxMDAgOgogICAgICAgICAgTWF0aC5yb3VuZCgocG9zaXRpb24gLyBmaWxlRGF0YS5ieXRlTGVuZ3RoKSAqIDEwMCk7CiAgICAgIHBlcmNlbnQudGV4dENvbnRlbnQgPSBgJHtwZXJjZW50RG9uZX0lIGRvbmVgOwoKICAgIH0gd2hpbGUgKHBvc2l0aW9uIDwgZmlsZURhdGEuYnl0ZUxlbmd0aCk7CiAgfQoKICAvLyBBbGwgZG9uZS4KICB5aWVsZCB7CiAgICByZXNwb25zZTogewogICAgICBhY3Rpb246ICdjb21wbGV0ZScsCiAgICB9CiAgfTsKfQoKc2NvcGUuZ29vZ2xlID0gc2NvcGUuZ29vZ2xlIHx8IHt9OwpzY29wZS5nb29nbGUuY29sYWIgPSBzY29wZS5nb29nbGUuY29sYWIgfHwge307CnNjb3BlLmdvb2dsZS5jb2xhYi5fZmlsZXMgPSB7CiAgX3VwbG9hZEZpbGVzLAogIF91cGxvYWRGaWxlc0NvbnRpbnVlLAp9Owp9KShzZWxmKTsK",
              "ok": true,
              "headers": [
                [
                  "content-type",
                  "application/javascript"
                ]
              ],
              "status": 200,
              "status_text": ""
            }
          },
          "base_uri": "https://localhost:8080/",
          "height": 73
        },
        "id": "Auw5sF0rsO8P",
        "outputId": "162eb8a7-5b5f-47da-fa6b-3c22b85bab93"
      },
      "id": "Auw5sF0rsO8P",
      "execution_count": null,
      "outputs": [
        {
          "output_type": "display_data",
          "data": {
            "text/plain": [
              "<IPython.core.display.HTML object>"
            ],
            "text/html": [
              "\n",
              "     <input type=\"file\" id=\"files-41e1d861-d45d-43a3-b22b-4df6de927ea9\" name=\"files[]\" multiple disabled\n",
              "        style=\"border:none\" />\n",
              "     <output id=\"result-41e1d861-d45d-43a3-b22b-4df6de927ea9\">\n",
              "      Upload widget is only available when the cell has been executed in the\n",
              "      current browser session. Please rerun this cell to enable.\n",
              "      </output>\n",
              "      <script src=\"/nbextensions/google.colab/files.js\"></script> "
            ]
          },
          "metadata": {}
        },
        {
          "output_type": "stream",
          "name": "stdout",
          "text": [
            "Saving NCAA_Tourney_2022.csv to NCAA_Tourney_2022 (5).csv\n"
          ]
        }
      ]
    },
    {
      "cell_type": "code",
      "execution_count": null,
      "id": "f21d2cfb",
      "metadata": {
        "id": "f21d2cfb"
      },
      "outputs": [],
      "source": [
        "df = pd.read_csv('NCAA_Tourney_2002_2021.csv')\n",
        "df2022= pd.read_csv('NCAA_Tourney_2022.csv')"
      ]
    },
    {
      "cell_type": "code",
      "source": [
        "df.head(5)"
      ],
      "metadata": {
        "colab": {
          "base_uri": "https://localhost:8080/",
          "height": 473
        },
        "id": "uLEM5h7FuGuf",
        "outputId": "c8cadfdc-567c-4851-f8af-07e599516362"
      },
      "id": "uLEM5h7FuGuf",
      "execution_count": null,
      "outputs": [
        {
          "output_type": "execute_result",
          "data": {
            "text/plain": [
              "   team1_id  team1_score  team2_id  team2_score WLoc  num_ot team1_position  \\\n",
              "0      1211           85      1425           66    N       0            X01   \n",
              "1      1211           83      1166           65    N       0            X01   \n",
              "2      1425           82      1332           78    N       0            X06   \n",
              "3      1211           87      1328           71    N       0            X01   \n",
              "4      1332           95      1234           80    N       0            X07   \n",
              "\n",
              "  team2_position  team1_seed  team2_seed  ...  team1_adjoe  team1_de  \\\n",
              "0            X06           1           6  ...      126.808   91.6576   \n",
              "1            X05           1           5  ...      126.808   91.6576   \n",
              "2            X07           6           7  ...      113.579   94.8746   \n",
              "3            X08           1           8  ...      126.808   91.6576   \n",
              "4            X02           7           2  ...      115.149   99.8891   \n",
              "\n",
              "  team1_adjde team2_tempo team2_adjtempo team2_oe team2_adjoe  team2_de  \\\n",
              "0     88.7549     67.5611        67.2953  108.537     113.579   94.8746   \n",
              "1     88.7549     69.5619        69.0682  109.643     115.567   97.5105   \n",
              "2     89.9260     67.8562        67.2410  109.767     115.149   99.8891   \n",
              "3     88.7549     69.1751        67.6945  106.109     112.124   98.5625   \n",
              "4     96.0406     70.9678        69.9884  117.408     124.192  101.0740   \n",
              "\n",
              "  team2_adjde         game_id  \n",
              "0     89.9260  2021-1211-1425  \n",
              "1     92.8330  2021-1211-1166  \n",
              "2     96.0406  2021-1425-1332  \n",
              "3     94.0513  2021-1211-1328  \n",
              "4     93.8602  2021-1332-1234  \n",
              "\n",
              "[5 rows x 104 columns]"
            ],
            "text/html": [
              "\n",
              "  <div id=\"df-165a0e87-1245-4618-8361-927de893b6be\">\n",
              "    <div class=\"colab-df-container\">\n",
              "      <div>\n",
              "<style scoped>\n",
              "    .dataframe tbody tr th:only-of-type {\n",
              "        vertical-align: middle;\n",
              "    }\n",
              "\n",
              "    .dataframe tbody tr th {\n",
              "        vertical-align: top;\n",
              "    }\n",
              "\n",
              "    .dataframe thead th {\n",
              "        text-align: right;\n",
              "    }\n",
              "</style>\n",
              "<table border=\"1\" class=\"dataframe\">\n",
              "  <thead>\n",
              "    <tr style=\"text-align: right;\">\n",
              "      <th></th>\n",
              "      <th>team1_id</th>\n",
              "      <th>team1_score</th>\n",
              "      <th>team2_id</th>\n",
              "      <th>team2_score</th>\n",
              "      <th>WLoc</th>\n",
              "      <th>num_ot</th>\n",
              "      <th>team1_position</th>\n",
              "      <th>team2_position</th>\n",
              "      <th>team1_seed</th>\n",
              "      <th>team2_seed</th>\n",
              "      <th>...</th>\n",
              "      <th>team1_adjoe</th>\n",
              "      <th>team1_de</th>\n",
              "      <th>team1_adjde</th>\n",
              "      <th>team2_tempo</th>\n",
              "      <th>team2_adjtempo</th>\n",
              "      <th>team2_oe</th>\n",
              "      <th>team2_adjoe</th>\n",
              "      <th>team2_de</th>\n",
              "      <th>team2_adjde</th>\n",
              "      <th>game_id</th>\n",
              "    </tr>\n",
              "  </thead>\n",
              "  <tbody>\n",
              "    <tr>\n",
              "      <th>0</th>\n",
              "      <td>1211</td>\n",
              "      <td>85</td>\n",
              "      <td>1425</td>\n",
              "      <td>66</td>\n",
              "      <td>N</td>\n",
              "      <td>0</td>\n",
              "      <td>X01</td>\n",
              "      <td>X06</td>\n",
              "      <td>1</td>\n",
              "      <td>6</td>\n",
              "      <td>...</td>\n",
              "      <td>126.808</td>\n",
              "      <td>91.6576</td>\n",
              "      <td>88.7549</td>\n",
              "      <td>67.5611</td>\n",
              "      <td>67.2953</td>\n",
              "      <td>108.537</td>\n",
              "      <td>113.579</td>\n",
              "      <td>94.8746</td>\n",
              "      <td>89.9260</td>\n",
              "      <td>2021-1211-1425</td>\n",
              "    </tr>\n",
              "    <tr>\n",
              "      <th>1</th>\n",
              "      <td>1211</td>\n",
              "      <td>83</td>\n",
              "      <td>1166</td>\n",
              "      <td>65</td>\n",
              "      <td>N</td>\n",
              "      <td>0</td>\n",
              "      <td>X01</td>\n",
              "      <td>X05</td>\n",
              "      <td>1</td>\n",
              "      <td>5</td>\n",
              "      <td>...</td>\n",
              "      <td>126.808</td>\n",
              "      <td>91.6576</td>\n",
              "      <td>88.7549</td>\n",
              "      <td>69.5619</td>\n",
              "      <td>69.0682</td>\n",
              "      <td>109.643</td>\n",
              "      <td>115.567</td>\n",
              "      <td>97.5105</td>\n",
              "      <td>92.8330</td>\n",
              "      <td>2021-1211-1166</td>\n",
              "    </tr>\n",
              "    <tr>\n",
              "      <th>2</th>\n",
              "      <td>1425</td>\n",
              "      <td>82</td>\n",
              "      <td>1332</td>\n",
              "      <td>78</td>\n",
              "      <td>N</td>\n",
              "      <td>0</td>\n",
              "      <td>X06</td>\n",
              "      <td>X07</td>\n",
              "      <td>6</td>\n",
              "      <td>7</td>\n",
              "      <td>...</td>\n",
              "      <td>113.579</td>\n",
              "      <td>94.8746</td>\n",
              "      <td>89.9260</td>\n",
              "      <td>67.8562</td>\n",
              "      <td>67.2410</td>\n",
              "      <td>109.767</td>\n",
              "      <td>115.149</td>\n",
              "      <td>99.8891</td>\n",
              "      <td>96.0406</td>\n",
              "      <td>2021-1425-1332</td>\n",
              "    </tr>\n",
              "    <tr>\n",
              "      <th>3</th>\n",
              "      <td>1211</td>\n",
              "      <td>87</td>\n",
              "      <td>1328</td>\n",
              "      <td>71</td>\n",
              "      <td>N</td>\n",
              "      <td>0</td>\n",
              "      <td>X01</td>\n",
              "      <td>X08</td>\n",
              "      <td>1</td>\n",
              "      <td>8</td>\n",
              "      <td>...</td>\n",
              "      <td>126.808</td>\n",
              "      <td>91.6576</td>\n",
              "      <td>88.7549</td>\n",
              "      <td>69.1751</td>\n",
              "      <td>67.6945</td>\n",
              "      <td>106.109</td>\n",
              "      <td>112.124</td>\n",
              "      <td>98.5625</td>\n",
              "      <td>94.0513</td>\n",
              "      <td>2021-1211-1328</td>\n",
              "    </tr>\n",
              "    <tr>\n",
              "      <th>4</th>\n",
              "      <td>1332</td>\n",
              "      <td>95</td>\n",
              "      <td>1234</td>\n",
              "      <td>80</td>\n",
              "      <td>N</td>\n",
              "      <td>0</td>\n",
              "      <td>X07</td>\n",
              "      <td>X02</td>\n",
              "      <td>7</td>\n",
              "      <td>2</td>\n",
              "      <td>...</td>\n",
              "      <td>115.149</td>\n",
              "      <td>99.8891</td>\n",
              "      <td>96.0406</td>\n",
              "      <td>70.9678</td>\n",
              "      <td>69.9884</td>\n",
              "      <td>117.408</td>\n",
              "      <td>124.192</td>\n",
              "      <td>101.0740</td>\n",
              "      <td>93.8602</td>\n",
              "      <td>2021-1332-1234</td>\n",
              "    </tr>\n",
              "  </tbody>\n",
              "</table>\n",
              "<p>5 rows × 104 columns</p>\n",
              "</div>\n",
              "      <button class=\"colab-df-convert\" onclick=\"convertToInteractive('df-165a0e87-1245-4618-8361-927de893b6be')\"\n",
              "              title=\"Convert this dataframe to an interactive table.\"\n",
              "              style=\"display:none;\">\n",
              "        \n",
              "  <svg xmlns=\"http://www.w3.org/2000/svg\" height=\"24px\"viewBox=\"0 0 24 24\"\n",
              "       width=\"24px\">\n",
              "    <path d=\"M0 0h24v24H0V0z\" fill=\"none\"/>\n",
              "    <path d=\"M18.56 5.44l.94 2.06.94-2.06 2.06-.94-2.06-.94-.94-2.06-.94 2.06-2.06.94zm-11 1L8.5 8.5l.94-2.06 2.06-.94-2.06-.94L8.5 2.5l-.94 2.06-2.06.94zm10 10l.94 2.06.94-2.06 2.06-.94-2.06-.94-.94-2.06-.94 2.06-2.06.94z\"/><path d=\"M17.41 7.96l-1.37-1.37c-.4-.4-.92-.59-1.43-.59-.52 0-1.04.2-1.43.59L10.3 9.45l-7.72 7.72c-.78.78-.78 2.05 0 2.83L4 21.41c.39.39.9.59 1.41.59.51 0 1.02-.2 1.41-.59l7.78-7.78 2.81-2.81c.8-.78.8-2.07 0-2.86zM5.41 20L4 18.59l7.72-7.72 1.47 1.35L5.41 20z\"/>\n",
              "  </svg>\n",
              "      </button>\n",
              "      \n",
              "  <style>\n",
              "    .colab-df-container {\n",
              "      display:flex;\n",
              "      flex-wrap:wrap;\n",
              "      gap: 12px;\n",
              "    }\n",
              "\n",
              "    .colab-df-convert {\n",
              "      background-color: #E8F0FE;\n",
              "      border: none;\n",
              "      border-radius: 50%;\n",
              "      cursor: pointer;\n",
              "      display: none;\n",
              "      fill: #1967D2;\n",
              "      height: 32px;\n",
              "      padding: 0 0 0 0;\n",
              "      width: 32px;\n",
              "    }\n",
              "\n",
              "    .colab-df-convert:hover {\n",
              "      background-color: #E2EBFA;\n",
              "      box-shadow: 0px 1px 2px rgba(60, 64, 67, 0.3), 0px 1px 3px 1px rgba(60, 64, 67, 0.15);\n",
              "      fill: #174EA6;\n",
              "    }\n",
              "\n",
              "    [theme=dark] .colab-df-convert {\n",
              "      background-color: #3B4455;\n",
              "      fill: #D2E3FC;\n",
              "    }\n",
              "\n",
              "    [theme=dark] .colab-df-convert:hover {\n",
              "      background-color: #434B5C;\n",
              "      box-shadow: 0px 1px 3px 1px rgba(0, 0, 0, 0.15);\n",
              "      filter: drop-shadow(0px 1px 2px rgba(0, 0, 0, 0.3));\n",
              "      fill: #FFFFFF;\n",
              "    }\n",
              "  </style>\n",
              "\n",
              "      <script>\n",
              "        const buttonEl =\n",
              "          document.querySelector('#df-165a0e87-1245-4618-8361-927de893b6be button.colab-df-convert');\n",
              "        buttonEl.style.display =\n",
              "          google.colab.kernel.accessAllowed ? 'block' : 'none';\n",
              "\n",
              "        async function convertToInteractive(key) {\n",
              "          const element = document.querySelector('#df-165a0e87-1245-4618-8361-927de893b6be');\n",
              "          const dataTable =\n",
              "            await google.colab.kernel.invokeFunction('convertToInteractive',\n",
              "                                                     [key], {});\n",
              "          if (!dataTable) return;\n",
              "\n",
              "          const docLinkHtml = 'Like what you see? Visit the ' +\n",
              "            '<a target=\"_blank\" href=https://colab.research.google.com/notebooks/data_table.ipynb>data table notebook</a>'\n",
              "            + ' to learn more about interactive tables.';\n",
              "          element.innerHTML = '';\n",
              "          dataTable['output_type'] = 'display_data';\n",
              "          await google.colab.output.renderOutput(dataTable, element);\n",
              "          const docLink = document.createElement('div');\n",
              "          docLink.innerHTML = docLinkHtml;\n",
              "          element.appendChild(docLink);\n",
              "        }\n",
              "      </script>\n",
              "    </div>\n",
              "  </div>\n",
              "  "
            ]
          },
          "metadata": {},
          "execution_count": 143
        }
      ]
    },
    {
      "cell_type": "code",
      "source": [
        "df2022.head(5)"
      ],
      "metadata": {
        "colab": {
          "base_uri": "https://localhost:8080/",
          "height": 473
        },
        "id": "hH7NI7i-uIkB",
        "outputId": "c6d9a9b6-1628-4d21-93a6-a6d6a50b45d2"
      },
      "id": "hH7NI7i-uIkB",
      "execution_count": null,
      "outputs": [
        {
          "output_type": "execute_result",
          "data": {
            "text/plain": [
              "          game_id  team1_id  team2_id  season  team1_seed  team2_seed  \\\n",
              "0  2022-1124-1246      1124      1246    2022           1           2   \n",
              "1  2022-1124-1345      1124      1345    2022           1           3   \n",
              "2  2022-1124-1417      1124      1417    2022           1           4   \n",
              "3  2022-1124-1388      1124      1388    2022           1           5   \n",
              "4  2022-1124-1400      1124      1400    2022           1           6   \n",
              "\n",
              "  team1_position team2_position  strongseed  weakseed  ...  team2_lat  \\\n",
              "0            W01            W02           1         2  ...  38.028081   \n",
              "1            W01            W03           1         3  ...  40.428206   \n",
              "2            W01            W04           1         4  ...  34.068892   \n",
              "3            W01            W05           1         5  ...  29.451793   \n",
              "4            W01            W06           1         6  ...  30.284730   \n",
              "\n",
              "   team2_long team1_coaches_preseason team2_coaches_preseason  \\\n",
              "0  -84.510698                     8.0                    11.0   \n",
              "1  -86.914435                     8.0                     7.0   \n",
              "2 -118.443901                     8.0                     2.0   \n",
              "3  -98.564307                     8.0                     NaN   \n",
              "4  -97.737277                     8.0                     5.0   \n",
              "\n",
              "   team1_ap_preseason  team2_ap_preseason team1_coaches_final  \\\n",
              "0                 8.0                10.0                 4.0   \n",
              "1                 8.0                 7.0                 4.0   \n",
              "2                 8.0                 2.0                 4.0   \n",
              "3                 8.0                 NaN                 4.0   \n",
              "4                 8.0                 5.0                 4.0   \n",
              "\n",
              "  team2_coaches_final team1_ap_final team2_ap_final  \n",
              "0                 6.0            4.0            7.0  \n",
              "1                 9.0            4.0           10.0  \n",
              "2                12.0            4.0           11.0  \n",
              "3                16.0            4.0           18.0  \n",
              "4                25.0            4.0           25.0  \n",
              "\n",
              "[5 rows x 102 columns]"
            ],
            "text/html": [
              "\n",
              "  <div id=\"df-181d8087-b9cd-4114-8640-c6c244fd08cc\">\n",
              "    <div class=\"colab-df-container\">\n",
              "      <div>\n",
              "<style scoped>\n",
              "    .dataframe tbody tr th:only-of-type {\n",
              "        vertical-align: middle;\n",
              "    }\n",
              "\n",
              "    .dataframe tbody tr th {\n",
              "        vertical-align: top;\n",
              "    }\n",
              "\n",
              "    .dataframe thead th {\n",
              "        text-align: right;\n",
              "    }\n",
              "</style>\n",
              "<table border=\"1\" class=\"dataframe\">\n",
              "  <thead>\n",
              "    <tr style=\"text-align: right;\">\n",
              "      <th></th>\n",
              "      <th>game_id</th>\n",
              "      <th>team1_id</th>\n",
              "      <th>team2_id</th>\n",
              "      <th>season</th>\n",
              "      <th>team1_seed</th>\n",
              "      <th>team2_seed</th>\n",
              "      <th>team1_position</th>\n",
              "      <th>team2_position</th>\n",
              "      <th>strongseed</th>\n",
              "      <th>weakseed</th>\n",
              "      <th>...</th>\n",
              "      <th>team2_lat</th>\n",
              "      <th>team2_long</th>\n",
              "      <th>team1_coaches_preseason</th>\n",
              "      <th>team2_coaches_preseason</th>\n",
              "      <th>team1_ap_preseason</th>\n",
              "      <th>team2_ap_preseason</th>\n",
              "      <th>team1_coaches_final</th>\n",
              "      <th>team2_coaches_final</th>\n",
              "      <th>team1_ap_final</th>\n",
              "      <th>team2_ap_final</th>\n",
              "    </tr>\n",
              "  </thead>\n",
              "  <tbody>\n",
              "    <tr>\n",
              "      <th>0</th>\n",
              "      <td>2022-1124-1246</td>\n",
              "      <td>1124</td>\n",
              "      <td>1246</td>\n",
              "      <td>2022</td>\n",
              "      <td>1</td>\n",
              "      <td>2</td>\n",
              "      <td>W01</td>\n",
              "      <td>W02</td>\n",
              "      <td>1</td>\n",
              "      <td>2</td>\n",
              "      <td>...</td>\n",
              "      <td>38.028081</td>\n",
              "      <td>-84.510698</td>\n",
              "      <td>8.0</td>\n",
              "      <td>11.0</td>\n",
              "      <td>8.0</td>\n",
              "      <td>10.0</td>\n",
              "      <td>4.0</td>\n",
              "      <td>6.0</td>\n",
              "      <td>4.0</td>\n",
              "      <td>7.0</td>\n",
              "    </tr>\n",
              "    <tr>\n",
              "      <th>1</th>\n",
              "      <td>2022-1124-1345</td>\n",
              "      <td>1124</td>\n",
              "      <td>1345</td>\n",
              "      <td>2022</td>\n",
              "      <td>1</td>\n",
              "      <td>3</td>\n",
              "      <td>W01</td>\n",
              "      <td>W03</td>\n",
              "      <td>1</td>\n",
              "      <td>3</td>\n",
              "      <td>...</td>\n",
              "      <td>40.428206</td>\n",
              "      <td>-86.914435</td>\n",
              "      <td>8.0</td>\n",
              "      <td>7.0</td>\n",
              "      <td>8.0</td>\n",
              "      <td>7.0</td>\n",
              "      <td>4.0</td>\n",
              "      <td>9.0</td>\n",
              "      <td>4.0</td>\n",
              "      <td>10.0</td>\n",
              "    </tr>\n",
              "    <tr>\n",
              "      <th>2</th>\n",
              "      <td>2022-1124-1417</td>\n",
              "      <td>1124</td>\n",
              "      <td>1417</td>\n",
              "      <td>2022</td>\n",
              "      <td>1</td>\n",
              "      <td>4</td>\n",
              "      <td>W01</td>\n",
              "      <td>W04</td>\n",
              "      <td>1</td>\n",
              "      <td>4</td>\n",
              "      <td>...</td>\n",
              "      <td>34.068892</td>\n",
              "      <td>-118.443901</td>\n",
              "      <td>8.0</td>\n",
              "      <td>2.0</td>\n",
              "      <td>8.0</td>\n",
              "      <td>2.0</td>\n",
              "      <td>4.0</td>\n",
              "      <td>12.0</td>\n",
              "      <td>4.0</td>\n",
              "      <td>11.0</td>\n",
              "    </tr>\n",
              "    <tr>\n",
              "      <th>3</th>\n",
              "      <td>2022-1124-1388</td>\n",
              "      <td>1124</td>\n",
              "      <td>1388</td>\n",
              "      <td>2022</td>\n",
              "      <td>1</td>\n",
              "      <td>5</td>\n",
              "      <td>W01</td>\n",
              "      <td>W05</td>\n",
              "      <td>1</td>\n",
              "      <td>5</td>\n",
              "      <td>...</td>\n",
              "      <td>29.451793</td>\n",
              "      <td>-98.564307</td>\n",
              "      <td>8.0</td>\n",
              "      <td>NaN</td>\n",
              "      <td>8.0</td>\n",
              "      <td>NaN</td>\n",
              "      <td>4.0</td>\n",
              "      <td>16.0</td>\n",
              "      <td>4.0</td>\n",
              "      <td>18.0</td>\n",
              "    </tr>\n",
              "    <tr>\n",
              "      <th>4</th>\n",
              "      <td>2022-1124-1400</td>\n",
              "      <td>1124</td>\n",
              "      <td>1400</td>\n",
              "      <td>2022</td>\n",
              "      <td>1</td>\n",
              "      <td>6</td>\n",
              "      <td>W01</td>\n",
              "      <td>W06</td>\n",
              "      <td>1</td>\n",
              "      <td>6</td>\n",
              "      <td>...</td>\n",
              "      <td>30.284730</td>\n",
              "      <td>-97.737277</td>\n",
              "      <td>8.0</td>\n",
              "      <td>5.0</td>\n",
              "      <td>8.0</td>\n",
              "      <td>5.0</td>\n",
              "      <td>4.0</td>\n",
              "      <td>25.0</td>\n",
              "      <td>4.0</td>\n",
              "      <td>25.0</td>\n",
              "    </tr>\n",
              "  </tbody>\n",
              "</table>\n",
              "<p>5 rows × 102 columns</p>\n",
              "</div>\n",
              "      <button class=\"colab-df-convert\" onclick=\"convertToInteractive('df-181d8087-b9cd-4114-8640-c6c244fd08cc')\"\n",
              "              title=\"Convert this dataframe to an interactive table.\"\n",
              "              style=\"display:none;\">\n",
              "        \n",
              "  <svg xmlns=\"http://www.w3.org/2000/svg\" height=\"24px\"viewBox=\"0 0 24 24\"\n",
              "       width=\"24px\">\n",
              "    <path d=\"M0 0h24v24H0V0z\" fill=\"none\"/>\n",
              "    <path d=\"M18.56 5.44l.94 2.06.94-2.06 2.06-.94-2.06-.94-.94-2.06-.94 2.06-2.06.94zm-11 1L8.5 8.5l.94-2.06 2.06-.94-2.06-.94L8.5 2.5l-.94 2.06-2.06.94zm10 10l.94 2.06.94-2.06 2.06-.94-2.06-.94-.94-2.06-.94 2.06-2.06.94z\"/><path d=\"M17.41 7.96l-1.37-1.37c-.4-.4-.92-.59-1.43-.59-.52 0-1.04.2-1.43.59L10.3 9.45l-7.72 7.72c-.78.78-.78 2.05 0 2.83L4 21.41c.39.39.9.59 1.41.59.51 0 1.02-.2 1.41-.59l7.78-7.78 2.81-2.81c.8-.78.8-2.07 0-2.86zM5.41 20L4 18.59l7.72-7.72 1.47 1.35L5.41 20z\"/>\n",
              "  </svg>\n",
              "      </button>\n",
              "      \n",
              "  <style>\n",
              "    .colab-df-container {\n",
              "      display:flex;\n",
              "      flex-wrap:wrap;\n",
              "      gap: 12px;\n",
              "    }\n",
              "\n",
              "    .colab-df-convert {\n",
              "      background-color: #E8F0FE;\n",
              "      border: none;\n",
              "      border-radius: 50%;\n",
              "      cursor: pointer;\n",
              "      display: none;\n",
              "      fill: #1967D2;\n",
              "      height: 32px;\n",
              "      padding: 0 0 0 0;\n",
              "      width: 32px;\n",
              "    }\n",
              "\n",
              "    .colab-df-convert:hover {\n",
              "      background-color: #E2EBFA;\n",
              "      box-shadow: 0px 1px 2px rgba(60, 64, 67, 0.3), 0px 1px 3px 1px rgba(60, 64, 67, 0.15);\n",
              "      fill: #174EA6;\n",
              "    }\n",
              "\n",
              "    [theme=dark] .colab-df-convert {\n",
              "      background-color: #3B4455;\n",
              "      fill: #D2E3FC;\n",
              "    }\n",
              "\n",
              "    [theme=dark] .colab-df-convert:hover {\n",
              "      background-color: #434B5C;\n",
              "      box-shadow: 0px 1px 3px 1px rgba(0, 0, 0, 0.15);\n",
              "      filter: drop-shadow(0px 1px 2px rgba(0, 0, 0, 0.3));\n",
              "      fill: #FFFFFF;\n",
              "    }\n",
              "  </style>\n",
              "\n",
              "      <script>\n",
              "        const buttonEl =\n",
              "          document.querySelector('#df-181d8087-b9cd-4114-8640-c6c244fd08cc button.colab-df-convert');\n",
              "        buttonEl.style.display =\n",
              "          google.colab.kernel.accessAllowed ? 'block' : 'none';\n",
              "\n",
              "        async function convertToInteractive(key) {\n",
              "          const element = document.querySelector('#df-181d8087-b9cd-4114-8640-c6c244fd08cc');\n",
              "          const dataTable =\n",
              "            await google.colab.kernel.invokeFunction('convertToInteractive',\n",
              "                                                     [key], {});\n",
              "          if (!dataTable) return;\n",
              "\n",
              "          const docLinkHtml = 'Like what you see? Visit the ' +\n",
              "            '<a target=\"_blank\" href=https://colab.research.google.com/notebooks/data_table.ipynb>data table notebook</a>'\n",
              "            + ' to learn more about interactive tables.';\n",
              "          element.innerHTML = '';\n",
              "          dataTable['output_type'] = 'display_data';\n",
              "          await google.colab.output.renderOutput(dataTable, element);\n",
              "          const docLink = document.createElement('div');\n",
              "          docLink.innerHTML = docLinkHtml;\n",
              "          element.appendChild(docLink);\n",
              "        }\n",
              "      </script>\n",
              "    </div>\n",
              "  </div>\n",
              "  "
            ]
          },
          "metadata": {},
          "execution_count": 144
        }
      ]
    },
    {
      "cell_type": "code",
      "execution_count": null,
      "id": "eb693968",
      "metadata": {
        "id": "eb693968"
      },
      "outputs": [],
      "source": [
        "# columns 0-12 is team 1; 13-25 is team 2\n",
        "feature = ['team1_score','team1_seed','team1_fg2pct','team1_fg3pct', 'team1_ftpct','team1_oppfg2pct','team1_oppfg3pct',\n",
        "           \n",
        "           'team1_oppftpct','team1_adjtempo','team1_adjoe', 'team1_adjde','team1_pt_overall_s16', 'team1_pt_overall_ff',\n",
        "          \n",
        "           'team2_score','team2_seed','team2_fg2pct','team2_fg3pct', 'team2_ftpct','team2_oppfg2pct','team2_oppfg3pct',\n",
        "           \n",
        "           'team2_oppftpct','team2_adjtempo','team2_adjoe', 'team2_adjde','team2_pt_overall_s16', 'team2_pt_overall_ff',\n",
        "          \n",
        "           'game_id']\n",
        "features = ['team1_score','team1_seed','team1_fg2pct','team1_fg3pct', 'team1_ftpct','team1_oppfg2pct','team1_oppfg3pct',\n",
        "           \n",
        "           'team1_oppftpct','team1_adjtempo','team1_adjoe', 'team1_adjde','team1_pt_overall_s16', 'team1_pt_overall_ff',\n",
        "          \n",
        "           'team2_score','team2_seed','team2_fg2pct','team2_fg3pct', 'team2_ftpct','team2_oppfg2pct','team2_oppfg3pct',\n",
        "           \n",
        "           'team2_oppftpct','team2_adjtempo','team2_adjoe', 'team2_adjde','team2_pt_overall_s16', 'team2_pt_overall_ff',\n",
        "          \n",
        "           'game_id']\n",
        "df = df[feature]"
      ]
    },
    {
      "cell_type": "markdown",
      "id": "fc9e8fbc",
      "metadata": {
        "id": "fc9e8fbc"
      },
      "source": [
        "# 2. swap"
      ]
    },
    {
      "cell_type": "code",
      "execution_count": null,
      "id": "d854cfb2",
      "metadata": {
        "id": "d854cfb2"
      },
      "outputs": [],
      "source": [
        "np.random.seed(42)\n",
        "idx = np.random.rand(len(df))<0.5\n",
        "for i in range(13):\n",
        "    df.iloc[idx,[i,i+13]] = df.iloc[idx,[i+13,i]].to_numpy()\n",
        "# 交换一半的数据使数据集有一半1和一半0，"
      ]
    },
    {
      "cell_type": "markdown",
      "id": "c44e4ce3",
      "metadata": {
        "id": "c44e4ce3"
      },
      "source": [
        "# 3. Add y column"
      ]
    },
    {
      "cell_type": "code",
      "execution_count": null,
      "id": "36570102",
      "metadata": {
        "id": "36570102",
        "colab": {
          "base_uri": "https://localhost:8080/"
        },
        "outputId": "46a561e2-1528-4dae-fcaf-5d6028c05cf8"
      },
      "outputs": [
        {
          "output_type": "stream",
          "name": "stdout",
          "text": [
            "0       0\n",
            "1       1\n",
            "2       1\n",
            "3       1\n",
            "4       0\n",
            "       ..\n",
            "1241    1\n",
            "1242    1\n",
            "1243    1\n",
            "1244    1\n",
            "1245    1\n",
            "Name: result, Length: 1246, dtype: int64\n"
          ]
        }
      ],
      "source": [
        "df['result'] = (df['team1_score']>df['team2_score']).astype(int)\n",
        "print(df['result'])\n",
        "game=df['game_id'].to_frame()"
      ]
    },
    {
      "cell_type": "code",
      "source": [],
      "metadata": {
        "id": "7qMcUVoMP7R1"
      },
      "id": "7qMcUVoMP7R1",
      "execution_count": null,
      "outputs": []
    },
    {
      "cell_type": "markdown",
      "id": "a5f3c9c5",
      "metadata": {
        "id": "a5f3c9c5"
      },
      "source": [
        "# 4. Remove score and game id columns"
      ]
    },
    {
      "cell_type": "code",
      "execution_count": null,
      "id": "9db48291",
      "metadata": {
        "id": "9db48291"
      },
      "outputs": [],
      "source": [
        "df1=df.drop(['game_id','team1_score','team2_score'],axis=1,inplace=True)\n",
        "#game=df_test['game_id']\n",
        "#df_test.drop(['game_id'],axis=1,inplace=True)"
      ]
    },
    {
      "cell_type": "markdown",
      "id": "996d3446",
      "metadata": {
        "id": "996d3446"
      },
      "source": [
        "# 5. Feature selection"
      ]
    },
    {
      "cell_type": "code",
      "execution_count": null,
      "id": "8637a8b9",
      "metadata": {
        "id": "8637a8b9",
        "outputId": "6b9107ff-5939-4afc-9af5-0284215356b3",
        "colab": {
          "base_uri": "https://localhost:8080/"
        }
      },
      "outputs": [
        {
          "output_type": "stream",
          "name": "stdout",
          "text": [
            "(1246, 6)\n",
            "(1246, 23) (1246, 23)\n",
            "['team1_fg2pct' 'team1_fg3pct' 'team1_ftpct' 'team1_oppfg2pct'\n",
            " 'team1_oppfg3pct' 'team1_oppftpct' 'team1_adjtempo' 'team1_adjoe'\n",
            " 'team1_adjde' 'team1_pt_overall_s16' 'team1_pt_overall_ff' 'team2_seed'\n",
            " 'team2_fg2pct' 'team2_fg3pct' 'team2_ftpct' 'team2_oppfg2pct'\n",
            " 'team2_oppfg3pct' 'team2_oppftpct' 'team2_adjtempo' 'team2_adjoe'\n",
            " 'team2_adjde' 'team2_pt_overall_s16' 'team2_pt_overall_ff'] \n",
            "\n",
            " ['team1_fg2pct' 'team1_fg3pct' 'team1_ftpct' 'team1_oppfg2pct'\n",
            " 'team1_oppfg3pct' 'team1_oppftpct' 'team1_adjtempo' 'team1_adjoe'\n",
            " 'team1_adjde' 'team1_pt_overall_s16' 'team1_pt_overall_ff' 'team2_seed'\n",
            " 'team2_fg2pct' 'team2_fg3pct' 'team2_ftpct' 'team2_oppfg2pct'\n",
            " 'team2_oppfg3pct' 'team2_oppftpct' 'team2_adjtempo' 'team2_adjoe'\n",
            " 'team2_adjde' 'team2_pt_overall_s16' 'team2_pt_overall_ff']\n"
          ]
        }
      ],
      "source": [
        "from sklearn.ensemble import RandomForestClassifier\n",
        "from sklearn.feature_selection import SelectFromModel\n",
        "import matplotlib.pyplot as plt\n",
        "print(x.shape)\n",
        "x = df.iloc[:,1:24]\n",
        "y = df['result']\n",
        "print(x.shape,x.shape)\n",
        "print(x.columns.values,'\\n\\n',x.columns.values)"
      ]
    },
    {
      "cell_type": "code",
      "execution_count": null,
      "id": "5848b763",
      "metadata": {
        "id": "5848b763",
        "outputId": "875b275a-fb8d-4c68-b946-e30c762bdaa2",
        "colab": {
          "base_uri": "https://localhost:8080/"
        }
      },
      "outputs": [
        {
          "output_type": "stream",
          "name": "stdout",
          "text": [
            "('team1_score', 0.03988641735498246)\n",
            "('team1_seed', 0.043490129647900826)\n",
            "('team1_fg2pct', 0.039709234892694636)\n",
            "('team1_fg3pct', 0.04118132154178959)\n",
            "('team1_ftpct', 0.03944359669956939)\n",
            "('team1_oppfg2pct', 0.03694574537325151)\n",
            "('team1_oppfg3pct', 0.03805410566701758)\n",
            "('team1_oppftpct', 0.08035978070661581)\n",
            "('team1_adjtempo', 0.06771666404659848)\n",
            "('team1_adjoe', 0.04072794323950016)\n",
            "('team1_adjde', 0.019331431954749182)\n",
            "('team1_pt_overall_s16', 0.08188952304176383)\n",
            "('team1_pt_overall_ff', 0.039119658976477165)\n",
            "('team2_score', 0.032077816632761685)\n",
            "('team2_seed', 0.03680932444372943)\n",
            "('team2_fg2pct', 0.04025919798657538)\n",
            "('team2_fg3pct', 0.04182926353130195)\n",
            "('team2_ftpct', 0.03548296574533403)\n",
            "('team2_oppfg2pct', 0.03664382037474103)\n",
            "('team2_oppfg3pct', 0.06845913381810459)\n",
            "('team2_oppftpct', 0.0592512950901022)\n",
            "('team2_adjtempo', 0.027168850256292627)\n",
            "('team2_adjoe', 0.014162778978146502)\n"
          ]
        }
      ],
      "source": [
        "clf = RandomForestClassifier(n_estimators=100)\n",
        "clf.fit(x, y)\n",
        "# Print the name and gini importance of each feature\n",
        "for feature in zip(features, clf.feature_importances_):\n",
        "    print(feature)"
      ]
    },
    {
      "cell_type": "code",
      "execution_count": null,
      "id": "a3cd223a",
      "metadata": {
        "id": "a3cd223a",
        "outputId": "ce110fda-c019-4908-c887-7a444260d89b",
        "colab": {
          "base_uri": "https://localhost:8080/",
          "height": 265
        }
      },
      "outputs": [
        {
          "output_type": "display_data",
          "data": {
            "text/plain": [
              "<Figure size 432x288 with 1 Axes>"
            ],
            "image/png": "[encoded data removed]"
          },
          "metadata": {
            "needs_background": "light"
          }
        }
      ],
      "source": [
        "f_i = list(zip(features,clf.feature_importances_))\n",
        "f_i.sort(key = lambda x : x[1])\n",
        "plt.barh([x[0] for x in f_i],[x[1] for x in f_i])\n",
        "plt.show()"
      ]
    },
    {
      "cell_type": "code",
      "execution_count": null,
      "id": "71ccb63e",
      "metadata": {
        "id": "71ccb63e",
        "outputId": "6505cca1-42a6-4e71-e676-d9266b8df9b6",
        "colab": {
          "base_uri": "https://localhost:8080/"
        }
      },
      "outputs": [
        {
          "output_type": "stream",
          "name": "stdout",
          "text": [
            "Index(['team1_oppfg2pct', 'team1_adjoe', 'team1_adjde', 'team2_seed',\n",
            "       'team2_adjoe', 'team2_adjde'],\n",
            "      dtype='object')\n",
            "(1246, 6)\n"
          ]
        }
      ],
      "source": [
        "sel = SelectFromModel(RandomForestClassifier(n_estimators=100))\n",
        "sel.fit(x,y)\n",
        "sel.get_support()\n",
        "selected_features = x.columns[(sel.get_support())]\n",
        "print(selected_features)\n",
        "x=x[selected_features]\n",
        "# x['game_id']=\n",
        "print(x.shape)"
      ]
    },
    {
      "cell_type": "markdown",
      "id": "52b00b43",
      "metadata": {
        "id": "52b00b43"
      },
      "source": [
        "# 6. PCA"
      ]
    },
    {
      "cell_type": "code",
      "execution_count": null,
      "id": "82e5b712",
      "metadata": {
        "id": "82e5b712"
      },
      "outputs": [],
      "source": [
        "from sklearn.decomposition import PCA\n",
        "import matplotlib.pyplot as plt"
      ]
    },
    {
      "cell_type": "code",
      "execution_count": null,
      "id": "29940b90",
      "metadata": {
        "id": "29940b90",
        "outputId": "1c72606e-283d-4f92-f804-469c0c6d2dae",
        "colab": {
          "base_uri": "https://localhost:8080/",
          "height": 295
        }
      },
      "outputs": [
        {
          "output_type": "display_data",
          "data": {
            "text/plain": [
              "<Figure size 432x288 with 1 Axes>"
            ],
            "image/png": "[encoded data removed]"
          },
          "metadata": {
            "needs_background": "light"
          }
        }
      ],
      "source": [
        "# Make a plot of PVE with PVE on y axis and number of components on x axis\n",
        "X = np.array(df[selected_features])\n",
        "pca_full = PCA(6)\n",
        "pca_full.fit(X)\n",
        "cumsum = np.cumsum(pca_full.explained_variance_ratio_)\n",
        "plt.plot(range(1,7),cumsum,marker='o')\n",
        "plt.xlabel('Number of components')\n",
        "plt.ylabel('PVE')\n",
        "plt.title('PVE against Number of Components')\n",
        "plt.show()"
      ]
    },
    {
      "cell_type": "code",
      "execution_count": null,
      "id": "d107ab5d",
      "metadata": {
        "id": "d107ab5d"
      },
      "outputs": [],
      "source": [
        "#X = np.array(df)\n",
        "#pca = PCA(n_components=4)\n",
        "#X_pca = pca.fit_transform(X)\n",
        "\n",
        "#X_2019 = np.array(df_2019)\n",
        "#X_pca_2019 = pca.transform(X_2019)"
      ]
    },
    {
      "cell_type": "markdown",
      "id": "dba077e9",
      "metadata": {
        "id": "dba077e9"
      },
      "source": [
        "# 5. Model"
      ]
    },
    {
      "cell_type": "code",
      "execution_count": null,
      "id": "5cdea5c5",
      "metadata": {
        "id": "5cdea5c5"
      },
      "outputs": [],
      "source": [
        "from sklearn.linear_model import LogisticRegression\n",
        "from sklearn import metrics\n",
        "from sklearn.metrics import log_loss"
      ]
    },
    {
      "cell_type": "code",
      "execution_count": null,
      "id": "09db58eb",
      "metadata": {
        "id": "09db58eb"
      },
      "outputs": [],
      "source": [
        "# Logistic\n",
        "from sklearn.linear_model import LogisticRegression\n",
        "from sklearn import metrics\n",
        "from sklearn.model_selection import train_test_split\n",
        "from sklearn.metrics import classification_report"
      ]
    },
    {
      "cell_type": "code",
      "source": [
        "x_train, x_test, y_train, y_test = train_test_split(x, y, test_size=0.3, random_state=0)\n",
        "logreg = LogisticRegression()\n",
        "logreg.fit(x_train, y_train)"
      ],
      "metadata": {
        "colab": {
          "base_uri": "https://localhost:8080/"
        },
        "id": "Bg6eVUpJtjd0",
        "outputId": "96d1e611-e700-4422-d432-1827df8b5020"
      },
      "id": "Bg6eVUpJtjd0",
      "execution_count": null,
      "outputs": [
        {
          "output_type": "execute_result",
          "data": {
            "text/plain": [
              "LogisticRegression()"
            ]
          },
          "metadata": {},
          "execution_count": 397
        }
      ]
    },
    {
      "cell_type": "code",
      "source": [
        "\n",
        "y_game=game.iloc[y_test.index,:]"
      ],
      "metadata": {
        "id": "fQYqCkseOpOs"
      },
      "id": "fQYqCkseOpOs",
      "execution_count": null,
      "outputs": []
    },
    {
      "cell_type": "code",
      "source": [
        "y_pred_logit = logreg.predict(x_test)\n",
        "y_proba_logit = list(logreg.predict_proba(x_test)[:,1])\n",
        "print(classification_report(y_test, y_pred_logit))"
      ],
      "metadata": {
        "colab": {
          "base_uri": "https://localhost:8080/"
        },
        "id": "oGmlllh6tmZ8",
        "outputId": "a08dc039-360d-4943-eaf0-3438a7613017"
      },
      "id": "oGmlllh6tmZ8",
      "execution_count": null,
      "outputs": [
        {
          "output_type": "stream",
          "name": "stdout",
          "text": [
            "              precision    recall  f1-score   support\n",
            "\n",
            "           0       0.71      0.69      0.70       183\n",
            "           1       0.71      0.73      0.72       191\n",
            "\n",
            "    accuracy                           0.71       374\n",
            "   macro avg       0.71      0.71      0.71       374\n",
            "weighted avg       0.71      0.71      0.71       374\n",
            "\n"
          ]
        }
      ]
    },
    {
      "cell_type": "code",
      "execution_count": null,
      "id": "a8fdfc74",
      "metadata": {
        "id": "a8fdfc74",
        "outputId": "5d422382-685b-4f12-d0ce-b66f1b7a6e40",
        "colab": {
          "base_uri": "https://localhost:8080/"
        }
      },
      "outputs": [
        {
          "output_type": "stream",
          "name": "stdout",
          "text": [
            "0.7112299465240641\n"
          ]
        }
      ],
      "source": [
        "accuracy_score = logreg.score(x_test, y_test)\n",
        "print(accuracy_score)"
      ]
    },
    {
      "cell_type": "code",
      "source": [
        "print(log_loss(y_test,y_proba_logit,labels=[0,1]))"
      ],
      "metadata": {
        "colab": {
          "base_uri": "https://localhost:8080/"
        },
        "id": "SVtJrriQbqnw",
        "outputId": "6263a90a-0db5-49d6-fe7f-b2c42c871115"
      },
      "id": "SVtJrriQbqnw",
      "execution_count": null,
      "outputs": [
        {
          "output_type": "stream",
          "name": "stdout",
          "text": [
            "0.5641403303529975\n"
          ]
        }
      ]
    },
    {
      "cell_type": "code",
      "execution_count": null,
      "id": "ed07643e",
      "metadata": {
        "id": "ed07643e",
        "colab": {
          "base_uri": "https://localhost:8080/"
        },
        "outputId": "c4f6055b-c665-45f2-9df3-e5c90c78dbcf"
      },
      "outputs": [
        {
          "output_type": "stream",
          "name": "stdout",
          "text": [
            "              precision    recall  f1-score   support\n",
            "\n",
            "           0       0.71      0.65      0.68       183\n",
            "           1       0.69      0.75      0.72       191\n",
            "\n",
            "    accuracy                           0.70       374\n",
            "   macro avg       0.70      0.70      0.70       374\n",
            "weighted avg       0.70      0.70      0.70       374\n",
            "\n"
          ]
        }
      ],
      "source": [
        "# random forest\n",
        "from sklearn.ensemble import RandomForestClassifier\n",
        "rf = RandomForestClassifier(max_depth=1, random_state=8).fit(x_train,y_train)\n",
        "y_pred_rf = rf.predict(x_test)\n",
        "y_proba_rf = list(rf.predict_proba(x_test)[:,1])\n",
        "print(classification_report(y_test, y_pred_rf))"
      ]
    },
    {
      "cell_type": "code",
      "source": [
        "score = rf.score(x_test, y_test)\n",
        "print(score)"
      ],
      "metadata": {
        "colab": {
          "base_uri": "https://localhost:8080/"
        },
        "id": "S-dOTfF7fFt5",
        "outputId": "2dd14516-1fe8-48bc-d046-479fc144340d"
      },
      "id": "S-dOTfF7fFt5",
      "execution_count": null,
      "outputs": [
        {
          "output_type": "stream",
          "name": "stdout",
          "text": [
            "0.7005347593582888\n"
          ]
        }
      ]
    },
    {
      "cell_type": "code",
      "source": [
        "print(log_loss(y_test,y_proba_rf,labels=[0,1]))"
      ],
      "metadata": {
        "colab": {
          "base_uri": "https://localhost:8080/"
        },
        "id": "OVjbDXJVfF3W",
        "outputId": "699b3f9a-d245-405e-c12e-c53cda13c13e"
      },
      "id": "OVjbDXJVfF3W",
      "execution_count": null,
      "outputs": [
        {
          "output_type": "stream",
          "name": "stdout",
          "text": [
            "0.6268059524476608\n"
          ]
        }
      ]
    },
    {
      "cell_type": "code",
      "execution_count": null,
      "id": "f3060838",
      "metadata": {
        "id": "f3060838",
        "colab": {
          "base_uri": "https://localhost:8080/"
        },
        "outputId": "e4544cef-88e6-476b-b4b9-ef52a9a89367"
      },
      "outputs": [
        {
          "output_type": "stream",
          "name": "stdout",
          "text": [
            "              precision    recall  f1-score   support\n",
            "\n",
            "           0       0.72      0.72      0.72       183\n",
            "           1       0.73      0.73      0.73       191\n",
            "\n",
            "    accuracy                           0.72       374\n",
            "   macro avg       0.72      0.72      0.72       374\n",
            "weighted avg       0.72      0.72      0.72       374\n",
            "\n"
          ]
        }
      ],
      "source": [
        "#gaussian naive bayes\n",
        "from sklearn.naive_bayes import GaussianNB\n",
        "classifier = GaussianNB().fit(x_train,y_train)\n",
        "y_pred_nb =  classifier.predict(x_test)\n",
        "y_proba_nb = classifier.predict_proba(x_test)[:,1]\n",
        "print(classification_report(y_test, y_pred_nb))"
      ]
    },
    {
      "cell_type": "code",
      "source": [
        "print(\"Accuracy:\",metrics.accuracy_score(y_test, y_pred_nb))"
      ],
      "metadata": {
        "colab": {
          "base_uri": "https://localhost:8080/"
        },
        "id": "kUwXm6yfhmJ1",
        "outputId": "d86f4d8f-6acd-4001-f95c-9a8296d3f0c2"
      },
      "id": "kUwXm6yfhmJ1",
      "execution_count": null,
      "outputs": [
        {
          "output_type": "stream",
          "name": "stdout",
          "text": [
            "Accuracy: 0.7219251336898396\n"
          ]
        }
      ]
    },
    {
      "cell_type": "code",
      "source": [
        "print(log_loss(y_test,y_proba_nb,labels=[0,1]))"
      ],
      "metadata": {
        "colab": {
          "base_uri": "https://localhost:8080/"
        },
        "id": "3FHUvLmGhmRn",
        "outputId": "6d89e38a-5de4-4d5f-aca4-60f8cb3f5828"
      },
      "id": "3FHUvLmGhmRn",
      "execution_count": null,
      "outputs": [
        {
          "output_type": "stream",
          "name": "stdout",
          "text": [
            "0.6103073394007402\n"
          ]
        }
      ]
    },
    {
      "cell_type": "code",
      "execution_count": null,
      "id": "e9eacb3d",
      "metadata": {
        "id": "e9eacb3d",
        "colab": {
          "base_uri": "https://localhost:8080/"
        },
        "outputId": "5cdc09e8-a9db-42af-d6c6-8880dc86e78f"
      },
      "outputs": [
        {
          "output_type": "stream",
          "name": "stdout",
          "text": [
            "              precision    recall  f1-score   support\n",
            "\n",
            "           0       0.70      0.69      0.70       183\n",
            "           1       0.71      0.71      0.71       191\n",
            "\n",
            "    accuracy                           0.70       374\n",
            "   macro avg       0.70      0.70      0.70       374\n",
            "weighted avg       0.70      0.70      0.70       374\n",
            "\n"
          ]
        }
      ],
      "source": [
        "#nearest neighbor\n",
        "from sklearn.neighbors import KNeighborsClassifier\n",
        "k=20\n",
        "knn = KNeighborsClassifier(n_neighbors=k).fit(x_train, y_train)\n",
        "y_pred_knn = knn.predict(x_test)\n",
        "y_proba_knn = knn.predict_proba(x_test)[:,1]\n",
        "print(classification_report(y_test, y_pred_knn))"
      ]
    },
    {
      "cell_type": "code",
      "source": [
        "score = knn.score(x_test, y_test)\n",
        "print(score)"
      ],
      "metadata": {
        "colab": {
          "base_uri": "https://localhost:8080/"
        },
        "id": "_CawVLTaisW0",
        "outputId": "15c02854-9626-4a37-ad73-1be4bf5a08bd"
      },
      "id": "_CawVLTaisW0",
      "execution_count": null,
      "outputs": [
        {
          "output_type": "stream",
          "name": "stdout",
          "text": [
            "0.7032085561497327\n"
          ]
        }
      ]
    },
    {
      "cell_type": "code",
      "source": [
        "print(log_loss(y_test,y_proba_knn,labels=[0,1]))"
      ],
      "metadata": {
        "colab": {
          "base_uri": "https://localhost:8080/"
        },
        "id": "owjRF2tMiscY",
        "outputId": "a90cb623-f871-4029-fce1-f8377a2b7a65"
      },
      "id": "owjRF2tMiscY",
      "execution_count": null,
      "outputs": [
        {
          "output_type": "stream",
          "name": "stdout",
          "text": [
            "0.7316294958825319\n"
          ]
        }
      ]
    },
    {
      "cell_type": "code",
      "source": [
        "#SVM\n",
        "from sklearn import svm\n",
        "clf = svm.SVC()\n",
        "clf.fit(x_train,y_train)\n",
        "y_pred = clf.predict(x_test)\n",
        "print(classification_report(y_test, y_pred4))"
      ],
      "metadata": {
        "id": "GmG09nQYl04r"
      },
      "id": "GmG09nQYl04r",
      "execution_count": null,
      "outputs": []
    },
    {
      "cell_type": "code",
      "source": [],
      "metadata": {
        "id": "aVFfHmuhl1Am"
      },
      "id": "aVFfHmuhl1Am",
      "execution_count": null,
      "outputs": []
    },
    {
      "cell_type": "code",
      "source": [
        "print(x_train.shape)"
      ],
      "metadata": {
        "colab": {
          "base_uri": "https://localhost:8080/"
        },
        "id": "25bZHGL9l1Dw",
        "outputId": "e30c1ce9-b792-4ff6-ae0d-fad6dcdd5d67"
      },
      "id": "25bZHGL9l1Dw",
      "execution_count": null,
      "outputs": [
        {
          "output_type": "stream",
          "name": "stdout",
          "text": [
            "(872, 23)\n"
          ]
        }
      ]
    },
    {
      "cell_type": "markdown",
      "source": [
        "deep neural network"
      ],
      "metadata": {
        "id": "MgKNq04JCOb6"
      },
      "id": "MgKNq04JCOb6"
    },
    {
      "cell_type": "code",
      "source": [
        "model = Sequential()\n",
        "model.add(Dense(12, input_dim=6, activation='relu'))\n",
        "model.add(Dense(8, activation='relu'))\n",
        "model.add(Dense(1, activation='sigmoid'))\n",
        "model.compile(loss='binary_crossentropy', optimizer='adam', metrics=['accuracy'])\n",
        "model.fit(x_train, y_train, epochs=50, batch_size=10,verbose=1)\n",
        "loss, accuracy = model.evaluate(x_train, y_train)\n",
        "print(accuracy,loss)\n",
        "y_pred_dnn = list(model.predict(x_test))\n",
        "print(y_pred_dnn)"
      ],
      "metadata": {
        "colab": {
          "base_uri": "https://localhost:8080/"
        },
        "id": "Nspu5DgJCUQQ",
        "outputId": "a8ca113a-0911-4217-882d-73b081e22951"
      },
      "id": "Nspu5DgJCUQQ",
      "execution_count": null,
      "outputs": [
        {
          "output_type": "stream",
          "name": "stdout",
          "text": [
            "Epoch 1/50\n",
            "88/88 [==============================] - 1s 2ms/step - loss: 3.3712 - accuracy: 0.4083\n",
            "Epoch 2/50\n",
            "88/88 [==============================] - 0s 2ms/step - loss: 1.2798 - accuracy: 0.3452\n",
            "Epoch 3/50\n",
            "88/88 [==============================] - 0s 2ms/step - loss: 1.1518 - accuracy: 0.4002\n",
            "Epoch 4/50\n",
            "88/88 [==============================] - 0s 2ms/step - loss: 1.0049 - accuracy: 0.4300\n",
            "Epoch 5/50\n",
            "88/88 [==============================] - 0s 2ms/step - loss: 0.9470 - accuracy: 0.4690\n",
            "Epoch 6/50\n",
            "88/88 [==============================] - 0s 2ms/step - loss: 0.7989 - accuracy: 0.5287\n",
            "Epoch 7/50\n",
            "88/88 [==============================] - 0s 2ms/step - loss: 0.7533 - accuracy: 0.5539\n",
            "Epoch 8/50\n",
            "88/88 [==============================] - 0s 2ms/step - loss: 0.7251 - accuracy: 0.5940\n",
            "Epoch 9/50\n",
            "88/88 [==============================] - 0s 2ms/step - loss: 0.6935 - accuracy: 0.6193\n",
            "Epoch 10/50\n",
            "88/88 [==============================] - 0s 2ms/step - loss: 0.6647 - accuracy: 0.6112\n",
            "Epoch 11/50\n",
            "88/88 [==============================] - 0s 2ms/step - loss: 0.6620 - accuracy: 0.6204\n",
            "Epoch 12/50\n",
            "88/88 [==============================] - 0s 2ms/step - loss: 0.6359 - accuracy: 0.6433\n",
            "Epoch 13/50\n",
            "88/88 [==============================] - 0s 2ms/step - loss: 0.6429 - accuracy: 0.6365\n",
            "Epoch 14/50\n",
            "88/88 [==============================] - 0s 2ms/step - loss: 0.6164 - accuracy: 0.6537\n",
            "Epoch 15/50\n",
            "88/88 [==============================] - 0s 2ms/step - loss: 0.6231 - accuracy: 0.6456\n",
            "Epoch 16/50\n",
            "88/88 [==============================] - 0s 2ms/step - loss: 0.6125 - accuracy: 0.6537\n",
            "Epoch 17/50\n",
            "88/88 [==============================] - 0s 2ms/step - loss: 0.6079 - accuracy: 0.6606\n",
            "Epoch 18/50\n",
            "88/88 [==============================] - 0s 2ms/step - loss: 0.6138 - accuracy: 0.6755\n",
            "Epoch 19/50\n",
            "88/88 [==============================] - 0s 2ms/step - loss: 0.6225 - accuracy: 0.6525\n",
            "Epoch 20/50\n",
            "88/88 [==============================] - 0s 2ms/step - loss: 0.6180 - accuracy: 0.6594\n",
            "Epoch 21/50\n",
            "88/88 [==============================] - 0s 2ms/step - loss: 0.6035 - accuracy: 0.6640\n",
            "Epoch 22/50\n",
            "88/88 [==============================] - 0s 2ms/step - loss: 0.6231 - accuracy: 0.6571\n",
            "Epoch 23/50\n",
            "88/88 [==============================] - 0s 2ms/step - loss: 0.6037 - accuracy: 0.6732\n",
            "Epoch 24/50\n",
            "88/88 [==============================] - 0s 2ms/step - loss: 0.6036 - accuracy: 0.6651\n",
            "Epoch 25/50\n",
            "88/88 [==============================] - 0s 2ms/step - loss: 0.6304 - accuracy: 0.6789\n",
            "Epoch 26/50\n",
            "88/88 [==============================] - 0s 2ms/step - loss: 0.6200 - accuracy: 0.6709\n",
            "Epoch 27/50\n",
            "88/88 [==============================] - 0s 2ms/step - loss: 0.6221 - accuracy: 0.6606\n",
            "Epoch 28/50\n",
            "88/88 [==============================] - 0s 2ms/step - loss: 0.6129 - accuracy: 0.6766\n",
            "Epoch 29/50\n",
            "88/88 [==============================] - 0s 2ms/step - loss: 0.5955 - accuracy: 0.6800\n",
            "Epoch 30/50\n",
            "88/88 [==============================] - 0s 2ms/step - loss: 0.5829 - accuracy: 0.6904\n",
            "Epoch 31/50\n",
            "88/88 [==============================] - 0s 2ms/step - loss: 0.5869 - accuracy: 0.6789\n",
            "Epoch 32/50\n",
            "88/88 [==============================] - 0s 2ms/step - loss: 0.5990 - accuracy: 0.6927\n",
            "Epoch 33/50\n",
            "88/88 [==============================] - 0s 2ms/step - loss: 0.5950 - accuracy: 0.6835\n",
            "Epoch 34/50\n",
            "88/88 [==============================] - 0s 2ms/step - loss: 0.6084 - accuracy: 0.6720\n",
            "Epoch 35/50\n",
            "88/88 [==============================] - 0s 2ms/step - loss: 0.6077 - accuracy: 0.6881\n",
            "Epoch 36/50\n",
            "88/88 [==============================] - 0s 2ms/step - loss: 0.6165 - accuracy: 0.6583\n",
            "Epoch 37/50\n",
            "88/88 [==============================] - 0s 2ms/step - loss: 0.5792 - accuracy: 0.6892\n",
            "Epoch 38/50\n",
            "88/88 [==============================] - 0s 2ms/step - loss: 0.5794 - accuracy: 0.6812\n",
            "Epoch 39/50\n",
            "88/88 [==============================] - 0s 2ms/step - loss: 0.5981 - accuracy: 0.6823\n",
            "Epoch 40/50\n",
            "88/88 [==============================] - 0s 2ms/step - loss: 0.5825 - accuracy: 0.6606\n",
            "Epoch 41/50\n",
            "88/88 [==============================] - 0s 2ms/step - loss: 0.6124 - accuracy: 0.6594\n",
            "Epoch 42/50\n",
            "88/88 [==============================] - 0s 2ms/step - loss: 0.5908 - accuracy: 0.6697\n",
            "Epoch 43/50\n",
            "88/88 [==============================] - 0s 2ms/step - loss: 0.5705 - accuracy: 0.6972\n",
            "Epoch 44/50\n",
            "88/88 [==============================] - 0s 2ms/step - loss: 0.5984 - accuracy: 0.6800\n",
            "Epoch 45/50\n",
            "88/88 [==============================] - 0s 3ms/step - loss: 0.6043 - accuracy: 0.6686\n",
            "Epoch 46/50\n",
            "88/88 [==============================] - 0s 3ms/step - loss: 0.6021 - accuracy: 0.6674\n",
            "Epoch 47/50\n",
            "88/88 [==============================] - 0s 2ms/step - loss: 0.6067 - accuracy: 0.6823\n",
            "Epoch 48/50\n",
            "88/88 [==============================] - 0s 3ms/step - loss: 0.6155 - accuracy: 0.6674\n",
            "Epoch 49/50\n",
            "88/88 [==============================] - 0s 3ms/step - loss: 0.6145 - accuracy: 0.6766\n",
            "Epoch 50/50\n",
            "88/88 [==============================] - 0s 3ms/step - loss: 0.5776 - accuracy: 0.6881\n",
            "28/28 [==============================] - 0s 2ms/step - loss: 0.5918 - accuracy: 0.6892\n",
            "0.6892201900482178 0.5917879939079285\n",
            "[array([0.98096544], dtype=float32), array([0.7842026], dtype=float32), array([0.8037488], dtype=float32), array([0.7734283], dtype=float32), array([0.45310616], dtype=float32), array([0.72475237], dtype=float32), array([0.8089607], dtype=float32), array([0.88952047], dtype=float32), array([0.43174285], dtype=float32), array([0.7857152], dtype=float32), array([0.8460356], dtype=float32), array([0.37883788], dtype=float32), array([0.8146929], dtype=float32), array([0.6648234], dtype=float32), array([0.64921427], dtype=float32), array([0.7639178], dtype=float32), array([0.3690846], dtype=float32), array([0.17828766], dtype=float32), array([0.37361473], dtype=float32), array([0.5326265], dtype=float32), array([0.5037219], dtype=float32), array([0.8966062], dtype=float32), array([0.9243295], dtype=float32), array([0.8693677], dtype=float32), array([0.87817013], dtype=float32), array([0.9194286], dtype=float32), array([0.5422051], dtype=float32), array([0.94008327], dtype=float32), array([0.3209839], dtype=float32), array([0.799975], dtype=float32), array([0.8956109], dtype=float32), array([0.4328223], dtype=float32), array([0.6258893], dtype=float32), array([0.23970047], dtype=float32), array([0.9178237], dtype=float32), array([0.4918285], dtype=float32), array([0.05779871], dtype=float32), array([0.1427356], dtype=float32), array([0.7805887], dtype=float32), array([0.7350002], dtype=float32), array([0.25896734], dtype=float32), array([0.08850327], dtype=float32), array([0.5695008], dtype=float32), array([0.877612], dtype=float32), array([0.9443992], dtype=float32), array([0.5975487], dtype=float32), array([0.3371147], dtype=float32), array([0.8723128], dtype=float32), array([0.76768255], dtype=float32), array([0.35972786], dtype=float32), array([0.81785166], dtype=float32), array([0.751214], dtype=float32), array([0.7281888], dtype=float32), array([0.16161063], dtype=float32), array([0.16268146], dtype=float32), array([0.09262452], dtype=float32), array([0.23728278], dtype=float32), array([0.90660787], dtype=float32), array([0.7241344], dtype=float32), array([0.85393083], dtype=float32), array([0.8849714], dtype=float32), array([0.51806766], dtype=float32), array([0.66448784], dtype=float32), array([0.86013746], dtype=float32), array([0.28080803], dtype=float32), array([0.88217807], dtype=float32), array([0.89486635], dtype=float32), array([0.17486656], dtype=float32), array([0.27608538], dtype=float32), array([0.83765954], dtype=float32), array([0.59200937], dtype=float32), array([0.54667413], dtype=float32), array([0.6499059], dtype=float32), array([0.83565766], dtype=float32), array([0.6477412], dtype=float32), array([0.7302957], dtype=float32), array([0.88178706], dtype=float32), array([0.40792826], dtype=float32), array([0.83853805], dtype=float32), array([0.46921295], dtype=float32), array([0.463537], dtype=float32), array([0.28406274], dtype=float32), array([0.56206197], dtype=float32), array([0.2482577], dtype=float32), array([0.37734193], dtype=float32), array([0.6926497], dtype=float32), array([0.86195123], dtype=float32), array([0.1861718], dtype=float32), array([0.7230796], dtype=float32), array([0.87434185], dtype=float32), array([0.67870104], dtype=float32), array([0.50237155], dtype=float32), array([0.76689553], dtype=float32), array([0.10550192], dtype=float32), array([0.48814285], dtype=float32), array([0.8236321], dtype=float32), array([0.09521064], dtype=float32), array([0.7019895], dtype=float32), array([0.5905279], dtype=float32), array([0.6503545], dtype=float32), array([0.3028323], dtype=float32), array([0.31912327], dtype=float32), array([0.37310845], dtype=float32), array([0.4655859], dtype=float32), array([0.54978037], dtype=float32), array([0.58926547], dtype=float32), array([0.5437405], dtype=float32), array([0.9407093], dtype=float32), array([0.3928595], dtype=float32), array([0.65224165], dtype=float32), array([0.6274892], dtype=float32), array([0.5718033], dtype=float32), array([0.5234584], dtype=float32), array([0.7956685], dtype=float32), array([0.7403953], dtype=float32), array([0.7344775], dtype=float32), array([0.9778354], dtype=float32), array([0.70856327], dtype=float32), array([0.9174136], dtype=float32), array([0.88557327], dtype=float32), array([0.7807456], dtype=float32), array([0.8683484], dtype=float32), array([0.43694866], dtype=float32), array([0.69853413], dtype=float32), array([0.9683602], dtype=float32), array([0.5338643], dtype=float32), array([0.8100941], dtype=float32), array([0.6575041], dtype=float32), array([0.48046944], dtype=float32), array([0.7898642], dtype=float32), array([0.9248186], dtype=float32), array([0.2979346], dtype=float32), array([0.8926828], dtype=float32), array([0.95645916], dtype=float32), array([0.767349], dtype=float32), array([0.58684754], dtype=float32), array([0.4110825], dtype=float32), array([0.26597583], dtype=float32), array([0.17371872], dtype=float32), array([0.65273356], dtype=float32), array([0.6043057], dtype=float32), array([0.91192234], dtype=float32), array([0.39330995], dtype=float32), array([0.08774814], dtype=float32), array([0.84809947], dtype=float32), array([0.58326876], dtype=float32), array([0.6068039], dtype=float32), array([0.8627355], dtype=float32), array([0.41746724], dtype=float32), array([0.7128887], dtype=float32), array([0.39392957], dtype=float32), array([0.18263602], dtype=float32), array([0.34514862], dtype=float32), array([0.08972403], dtype=float32), array([0.8949166], dtype=float32), array([0.43693972], dtype=float32), array([0.732132], dtype=float32), array([0.521989], dtype=float32), array([0.27519214], dtype=float32), array([0.89559144], dtype=float32), array([0.34046018], dtype=float32), array([0.91691184], dtype=float32), array([0.71738154], dtype=float32), array([0.19359839], dtype=float32), array([0.24371469], dtype=float32), array([0.8817749], dtype=float32), array([0.6643145], dtype=float32), array([0.84975755], dtype=float32), array([0.9655298], dtype=float32), array([0.44845298], dtype=float32), array([0.44726276], dtype=float32), array([0.91444016], dtype=float32), array([0.9640095], dtype=float32), array([0.5089157], dtype=float32), array([0.5460175], dtype=float32), array([0.5480885], dtype=float32), array([0.6563624], dtype=float32), array([0.5186662], dtype=float32), array([0.22918427], dtype=float32), array([0.3663996], dtype=float32), array([0.74992913], dtype=float32), array([0.93791693], dtype=float32), array([0.2650067], dtype=float32), array([0.16457689], dtype=float32), array([0.5715775], dtype=float32), array([0.7204524], dtype=float32), array([0.3387553], dtype=float32), array([0.8689961], dtype=float32), array([0.88177574], dtype=float32), array([0.32829747], dtype=float32), array([0.0797663], dtype=float32), array([0.8627764], dtype=float32), array([0.6813194], dtype=float32), array([0.9393077], dtype=float32), array([0.96235263], dtype=float32), array([0.5828127], dtype=float32), array([0.5313721], dtype=float32), array([0.7305295], dtype=float32), array([0.5284134], dtype=float32), array([0.5557277], dtype=float32), array([0.47949514], dtype=float32), array([0.957039], dtype=float32), array([0.6920114], dtype=float32), array([0.7705439], dtype=float32), array([0.89986384], dtype=float32), array([0.8576286], dtype=float32), array([0.84307665], dtype=float32), array([0.87782085], dtype=float32), array([0.9637456], dtype=float32), array([0.2106055], dtype=float32), array([0.89419806], dtype=float32), array([0.44620794], dtype=float32), array([0.35039148], dtype=float32), array([0.87299573], dtype=float32), array([0.4153018], dtype=float32), array([0.13374275], dtype=float32), array([0.7903578], dtype=float32), array([0.8102065], dtype=float32), array([0.62819564], dtype=float32), array([0.50623554], dtype=float32), array([0.7887968], dtype=float32), array([0.6281754], dtype=float32), array([0.78152335], dtype=float32), array([0.6977117], dtype=float32), array([0.17683315], dtype=float32), array([0.69355464], dtype=float32), array([0.85708416], dtype=float32), array([0.51821834], dtype=float32), array([0.27542943], dtype=float32), array([0.88818467], dtype=float32), array([0.5940475], dtype=float32), array([0.66335577], dtype=float32), array([0.7763765], dtype=float32), array([0.51619565], dtype=float32), array([0.90911776], dtype=float32), array([0.79810417], dtype=float32), array([0.6462756], dtype=float32), array([0.52988493], dtype=float32), array([0.8495687], dtype=float32), array([0.98746306], dtype=float32), array([0.6916284], dtype=float32), array([0.16121975], dtype=float32), array([0.31321812], dtype=float32), array([0.57241493], dtype=float32), array([0.43761137], dtype=float32), array([0.61230767], dtype=float32), array([0.09999353], dtype=float32), array([0.7159873], dtype=float32), array([0.88628006], dtype=float32), array([0.33972067], dtype=float32), array([0.8768748], dtype=float32), array([0.21556807], dtype=float32), array([0.8074149], dtype=float32), array([0.82649267], dtype=float32), array([0.9470843], dtype=float32), array([0.9329858], dtype=float32), array([0.21918947], dtype=float32), array([0.77378726], dtype=float32), array([0.4993427], dtype=float32), array([0.670355], dtype=float32), array([0.8203621], dtype=float32), array([0.94442207], dtype=float32), array([0.10406992], dtype=float32), array([0.62392753], dtype=float32), array([0.27520812], dtype=float32), array([0.48953286], dtype=float32), array([0.74002963], dtype=float32), array([0.5496921], dtype=float32), array([0.43558595], dtype=float32), array([0.15395868], dtype=float32), array([0.67875946], dtype=float32), array([0.41416287], dtype=float32), array([0.5707746], dtype=float32), array([0.87637943], dtype=float32), array([0.72747487], dtype=float32), array([0.9486993], dtype=float32), array([0.5851739], dtype=float32), array([0.8499335], dtype=float32), array([0.4749927], dtype=float32), array([0.52264905], dtype=float32), array([0.5727445], dtype=float32), array([0.513796], dtype=float32), array([0.7119325], dtype=float32), array([0.9359925], dtype=float32), array([0.844191], dtype=float32), array([0.14881566], dtype=float32), array([0.92676663], dtype=float32), array([0.0856587], dtype=float32), array([0.78611964], dtype=float32), array([0.3020094], dtype=float32), array([0.8036705], dtype=float32), array([0.8846898], dtype=float32), array([0.9271508], dtype=float32), array([0.9282776], dtype=float32), array([0.7477006], dtype=float32), array([0.72787595], dtype=float32), array([0.655869], dtype=float32), array([0.72870195], dtype=float32), array([0.29829276], dtype=float32), array([0.7537631], dtype=float32), array([0.524114], dtype=float32), array([0.83353555], dtype=float32), array([0.7287785], dtype=float32), array([0.2779911], dtype=float32), array([0.7425038], dtype=float32), array([0.25561687], dtype=float32), array([0.94524515], dtype=float32), array([0.87552804], dtype=float32), array([0.5255529], dtype=float32), array([0.93191504], dtype=float32), array([0.38946742], dtype=float32), array([0.887399], dtype=float32), array([0.4260434], dtype=float32), array([0.56531703], dtype=float32), array([0.79414093], dtype=float32), array([0.45821947], dtype=float32), array([0.7683809], dtype=float32), array([0.69959307], dtype=float32), array([0.588255], dtype=float32), array([0.61386067], dtype=float32), array([0.69347924], dtype=float32), array([0.52060777], dtype=float32), array([0.38213834], dtype=float32), array([0.56632614], dtype=float32), array([0.9346317], dtype=float32), array([0.4463663], dtype=float32), array([0.9456528], dtype=float32), array([0.94171196], dtype=float32), array([0.24295807], dtype=float32), array([0.8429201], dtype=float32), array([0.9620038], dtype=float32), array([0.9754578], dtype=float32), array([0.18970808], dtype=float32), array([0.8193658], dtype=float32), array([0.41534904], dtype=float32), array([0.47374403], dtype=float32), array([0.3729661], dtype=float32), array([0.19037893], dtype=float32), array([0.67028165], dtype=float32), array([0.95195067], dtype=float32), array([0.24579099], dtype=float32), array([0.7129287], dtype=float32), array([0.90053976], dtype=float32), array([0.38644075], dtype=float32), array([0.35608912], dtype=float32), array([0.7295988], dtype=float32), array([0.722427], dtype=float32), array([0.58797896], dtype=float32), array([0.27517864], dtype=float32), array([0.14936155], dtype=float32), array([0.8373833], dtype=float32), array([0.37521875], dtype=float32), array([0.37549224], dtype=float32), array([0.31353205], dtype=float32), array([0.22430095], dtype=float32), array([0.47285753], dtype=float32), array([0.70519996], dtype=float32), array([0.90143335], dtype=float32), array([0.79564583], dtype=float32), array([0.7435319], dtype=float32), array([0.40341312], dtype=float32), array([0.6615017], dtype=float32), array([0.8544171], dtype=float32), array([0.4131516], dtype=float32), array([0.85110193], dtype=float32), array([0.3755969], dtype=float32), array([0.4405981], dtype=float32), array([0.8280469], dtype=float32), array([0.44644266], dtype=float32), array([0.56512463], dtype=float32), array([0.48345268], dtype=float32), array([0.90699744], dtype=float32), array([0.936183], dtype=float32), array([0.42564794], dtype=float32)]\n"
          ]
        }
      ]
    },
    {
      "cell_type": "code",
      "source": [
        "print(y_pred_dnn[1][0])"
      ],
      "metadata": {
        "colab": {
          "base_uri": "https://localhost:8080/"
        },
        "id": "6NtzmhbCJz9G",
        "outputId": "e05a3531-e71b-4a66-8706-6ffb1c4cc879"
      },
      "id": "6NtzmhbCJz9G",
      "execution_count": null,
      "outputs": [
        {
          "output_type": "stream",
          "name": "stdout",
          "text": [
            "0.7842026\n"
          ]
        }
      ]
    },
    {
      "cell_type": "markdown",
      "id": "0b547a74",
      "metadata": {
        "id": "0b547a74"
      },
      "source": [
        "gradiant boosting tree"
      ]
    },
    {
      "cell_type": "code",
      "execution_count": null,
      "id": "6e0cf33d",
      "metadata": {
        "id": "6e0cf33d"
      },
      "outputs": [],
      "source": [
        "from sklearn.ensemble import GradientBoostingClassifier"
      ]
    },
    {
      "cell_type": "code",
      "execution_count": null,
      "id": "65cf2393",
      "metadata": {
        "id": "65cf2393",
        "outputId": "812f84f6-5d18-4bc1-fe64-3156bff11de9",
        "colab": {
          "base_uri": "https://localhost:8080/"
        }
      },
      "outputs": [
        {
          "output_type": "stream",
          "name": "stdout",
          "text": [
            "              precision    recall  f1-score   support\n",
            "\n",
            "           0       0.70      0.69      0.70       183\n",
            "           1       0.71      0.71      0.71       191\n",
            "\n",
            "    accuracy                           0.70       374\n",
            "   macro avg       0.70      0.70      0.70       374\n",
            "weighted avg       0.70      0.70      0.70       374\n",
            "\n"
          ]
        }
      ],
      "source": [
        "gbt = GradientBoostingClassifier(n_estimators=100, learning_rate=1.0,max_depth=1, random_state=0).fit(x_train, y_train)\n",
        "y_pred_gbt=gbt.predict(x_test)\n",
        "y_proba_gbt=list(gbt.predict_proba(x_test)[:,1])\n",
        "print(classification_report(y_test, y_pred_knn))"
      ]
    },
    {
      "cell_type": "code",
      "source": [
        "score = gbt.score(x_test, y_test)\n",
        "print(score)"
      ],
      "metadata": {
        "colab": {
          "base_uri": "https://localhost:8080/"
        },
        "id": "Twf7GhJUBqWQ",
        "outputId": "181e1b2b-371e-4b9f-c80e-e9e83948133b"
      },
      "id": "Twf7GhJUBqWQ",
      "execution_count": null,
      "outputs": [
        {
          "output_type": "stream",
          "name": "stdout",
          "text": [
            "0.6657754010695187\n"
          ]
        }
      ]
    },
    {
      "cell_type": "code",
      "source": [
        "print(log_loss(y_test,y_proba_gbt,labels=[0,1]))"
      ],
      "metadata": {
        "colab": {
          "base_uri": "https://localhost:8080/"
        },
        "id": "BAvsj0gtFUwe",
        "outputId": "4a8c6994-89cb-4685-a545-d97da485a51b"
      },
      "id": "BAvsj0gtFUwe",
      "execution_count": null,
      "outputs": [
        {
          "output_type": "stream",
          "name": "stdout",
          "text": [
            "0.6618468250241061\n"
          ]
        }
      ]
    },
    {
      "cell_type": "code",
      "source": [
        "print(type(y_pred_dnn[0]))\n",
        "l=[(y_proba_logit[i]+y_proba_rf[i]+y_pred_dnn[i][0]+y_proba_gbt[i])/4 for i in range(len(y_pred_dnn))]\n",
        "print(l)"
      ],
      "metadata": {
        "colab": {
          "base_uri": "https://localhost:8080/"
        },
        "id": "24vQivsSFaML",
        "outputId": "e0673b68-3525-400d-e060-bf9605e90b07"
      },
      "id": "24vQivsSFaML",
      "execution_count": null,
      "outputs": [
        {
          "output_type": "stream",
          "name": "stdout",
          "text": [
            "<class 'numpy.ndarray'>\n",
            "[0.8940833088763207, 0.6807852265783945, 0.5928265931738179, 0.6584735314950645, 0.4209952743555957, 0.5723059365471351, 0.7177068759444589, 0.8074017787078689, 0.34759240217845544, 0.7092197170879496, 0.7773180006119226, 0.37218936875804, 0.5924480415141469, 0.552368872227801, 0.5723558125912961, 0.6331219235148922, 0.3310517107488199, 0.1873198892310971, 0.38615315946760753, 0.4527298464680327, 0.46891365726234846, 0.8154305023105072, 0.8204844866667127, 0.7392277882951666, 0.7667295432948559, 0.8408923616653621, 0.5163764808015634, 0.852391996200866, 0.33650893370960266, 0.65191446435289, 0.7842249342853131, 0.3540098464637263, 0.673260760561215, 0.2208174887278251, 0.8464921631511506, 0.49536746141286553, 0.09938446328151361, 0.1541050300447149, 0.6520836552998354, 0.6743747435503913, 0.2594414975188723, 0.12511310327895342, 0.5903085582401549, 0.7243602208276715, 0.8710631650931082, 0.45189234888732427, 0.3019199079629745, 0.7301790893357372, 0.7570958465404076, 0.40026661800618046, 0.6493166402023713, 0.7110628284099724, 0.6155790220061681, 0.15424885920677675, 0.1463950879088995, 0.12892541529134502, 0.38477931260533493, 0.8396807240667619, 0.7085426644560068, 0.7301004270825634, 0.7890723769020033, 0.3618154565940538, 0.6182820666666431, 0.7519765375958296, 0.274901723057672, 0.7799097970912476, 0.7935448786847608, 0.13693315899052094, 0.2798154614975681, 0.7786574929180954, 0.488642705515954, 0.36475280489068684, 0.5041934924405136, 0.7227239940088175, 0.5191561441506645, 0.7036711113383667, 0.7969546010709252, 0.3664960887182505, 0.7578215642009942, 0.3889569604583848, 0.5082816574931114, 0.27690506549921284, 0.3776017559744687, 0.2418545775662062, 0.39551542659276284, 0.598036551393892, 0.7726902406125543, 0.15041149151665112, 0.5541052202780627, 0.7475640643281817, 0.6876883922051134, 0.34624125175261733, 0.6347869869248012, 0.1207107929601088, 0.34254898859737787, 0.7002388922129005, 0.11039150199148004, 0.5603400902657658, 0.5491761105771669, 0.42431392153756753, 0.21689878201169768, 0.29032159771589966, 0.3696569575666853, 0.48217649541663116, 0.5281204283431185, 0.43570390001156384, 0.4903563003448207, 0.889906892535983, 0.3668037738892655, 0.4151580301501937, 0.6216453812522755, 0.49507582578178033, 0.4378669917795831, 0.6466352135906736, 0.7043209665311979, 0.5071964042111432, 0.9033117546708986, 0.6450736140671095, 0.8673569464669608, 0.7785245527982716, 0.7501934405771482, 0.7652564136177697, 0.3282342876878914, 0.5618115541768122, 0.8700873301109123, 0.39307692762290825, 0.6454885365783726, 0.5902780987862971, 0.3108438799566279, 0.6905732331438235, 0.8190019559021064, 0.2747190039951628, 0.8023605724129699, 0.8823462788896993, 0.6982244906716849, 0.6923636716109133, 0.30614677285756237, 0.27593278329422755, 0.19850263204259802, 0.5973719343688331, 0.473606853568002, 0.7913903352197618, 0.3283027974187298, 0.11485188649015933, 0.5907129430824609, 0.4744663150597244, 0.5547706254727268, 0.7929558639194424, 0.4228024119605828, 0.6338187567295008, 0.35294277800190554, 0.1836194431817283, 0.3505677016587165, 0.10737246340614301, 0.6866614000755762, 0.44953630778141446, 0.49369979191099606, 0.4385296301121364, 0.2389849436222947, 0.8121428764165268, 0.2567643697093847, 0.8173595226352651, 0.49952536552675886, 0.15400283099817066, 0.1882203776915949, 0.7500087459089376, 0.5053248256446295, 0.7985324047385524, 0.8851361522895468, 0.40453855548380324, 0.3280418127754708, 0.8127408830218756, 0.8569967942245375, 0.3655414632249891, 0.46587670473791676, 0.48894146350380935, 0.6187131317208265, 0.37081529122505286, 0.19372467618510578, 0.2851908611587556, 0.6255247844698515, 0.8695383680137126, 0.24505027917402114, 0.15375180517273815, 0.5164508321881577, 0.6770173630307424, 0.28290236315284384, 0.814099196219932, 0.7783985700615041, 0.28368244664252584, 0.11142404856282312, 0.7409140763622991, 0.5849357691714561, 0.8565943460213998, 0.8459845207619966, 0.43815341438907224, 0.4910514761465428, 0.44179775921061487, 0.4816137597755429, 0.45826467548147515, 0.4705462115606939, 0.8463399849810568, 0.5452514614537176, 0.6705218305063492, 0.7801319306797969, 0.7524857176058376, 0.6485271408830944, 0.693117947684739, 0.8702586914972843, 0.23099269947862405, 0.8552402443966811, 0.33883079384981074, 0.2956622791106294, 0.6908334998503859, 0.5519885206409503, 0.13904087755464975, 0.6914109667884158, 0.7303405585017743, 0.6080542197207718, 0.4620971862313653, 0.5686251424868691, 0.5506601744776243, 0.5488385640165119, 0.5930173831794223, 0.26413532759984915, 0.5784606825569135, 0.7444851689794307, 0.4386116137185572, 0.24178700637217898, 0.675072418763091, 0.4902020544658202, 0.5413871004881723, 0.5875285778727345, 0.4266003424319082, 0.8341507968172229, 0.7157988890374065, 0.5321731338865275, 0.5354565379849225, 0.772898871490789, 0.9022125398798153, 0.48109248306919233, 0.24796491499564763, 0.27001077934606094, 0.48775405213255196, 0.2838692355620096, 0.5287742834604162, 0.12129542012921961, 0.6635382792296218, 0.7502469018974397, 0.2714585292384489, 0.7503496710569368, 0.1524981954399992, 0.7376474632531725, 0.6462901815135882, 0.8823789437226446, 0.8209858726845914, 0.15416524719972988, 0.5938652974808712, 0.4072701596952532, 0.5131119697353046, 0.7410212380431563, 0.8656950533323465, 0.12341747881195819, 0.39930379279873934, 0.1909993780315037, 0.4519197520998819, 0.701863338619371, 0.48974611237296445, 0.41986779524105633, 0.1501140324276083, 0.5678460126409485, 0.3221379427420409, 0.43793160681650134, 0.7606833921152277, 0.5474386832745194, 0.7990721960473265, 0.4711446860566864, 0.6442770425588412, 0.4543656313009433, 0.5105341811983558, 0.5354610121304562, 0.42848710740632523, 0.666295824288062, 0.8034305251111069, 0.7533284460359873, 0.1252868989887528, 0.8407001887675664, 0.11513953813287496, 0.7273109457066189, 0.2643797950086869, 0.7273953820491276, 0.850779387405854, 0.8060778930309068, 0.8125809030195261, 0.536658442958743, 0.6251679446303002, 0.5130939107503661, 0.6363585051310707, 0.2737208867208035, 0.6717092637298572, 0.5441811027221616, 0.5659984515795111, 0.4764619685199186, 0.2203531643572994, 0.6621990182800054, 0.2473562334644449, 0.8644326648733525, 0.7496865631331461, 0.33892041184045485, 0.8473360209834777, 0.3495701621406431, 0.5829251524437262, 0.43852672801139725, 0.3920579511806758, 0.6815611265285492, 0.43190330519941167, 0.5560032419006954, 0.516687662694816, 0.5135239408288172, 0.507789677307012, 0.5713403908797607, 0.33195450155219847, 0.23313142056940828, 0.5470548492719208, 0.8463368502920893, 0.4190103564432252, 0.8660185629875684, 0.8688321301133468, 0.3134607953399257, 0.7450981885676888, 0.8616120047644252, 0.8912910704977178, 0.21647170121836565, 0.7279107740080263, 0.3501772356099368, 0.4552921091841854, 0.28432178357137877, 0.17480072914405684, 0.5966396052884659, 0.8283482400476221, 0.17375856505644918, 0.5458989207394414, 0.6947325421236068, 0.3526802709716763, 0.3090633912701387, 0.633784306491185, 0.5065042575191081, 0.5896856221690502, 0.2676443036936993, 0.15370132865926533, 0.7031270110922647, 0.30917864412640117, 0.35700170890235094, 0.33381611692931756, 0.2122725328187771, 0.4373233794895362, 0.4342663279411192, 0.8186878646963458, 0.7248326892782146, 0.5458951658570304, 0.4486406616404835, 0.555697643652531, 0.6205917069910202, 0.4097757903583458, 0.783259263066524, 0.30656623262820026, 0.4383433654183223, 0.6687747120171877, 0.37771394370588496, 0.4721175605132802, 0.4066468815804662, 0.7670894200555272, 0.8055357206104057, 0.3072486445035634]\n"
          ]
        }
      ]
    },
    {
      "cell_type": "code",
      "source": [
        "from google.colab import files\n",
        "uploaded = files.upload()"
      ],
      "metadata": {
        "colab": {
          "resources": {
            "http://localhost:8080/nbextensions/google.colab/files.js": {
              "data": "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",
              "ok": true,
              "headers": [
                [
                  "content-type",
                  "application/javascript"
                ]
              ],
              "status": 200,
              "status_text": ""
            }
          },
          "base_uri": "https://localhost:8080/",
          "height": 73
        },
        "id": "jeyyFpM7NTAE",
        "outputId": "456a0707-c63f-4bea-e623-046ffd6baca1"
      },
      "id": "jeyyFpM7NTAE",
      "execution_count": null,
      "outputs": [
        {
          "output_type": "display_data",
          "data": {
            "text/plain": [
              "<IPython.core.display.HTML object>"
            ],
            "text/html": [
              "\n",
              "     <input type=\"file\" id=\"files-36d072d3-2233-46c3-b8b9-1748b05e89cf\" name=\"files[]\" multiple disabled\n",
              "        style=\"border:none\" />\n",
              "     <output id=\"result-36d072d3-2233-46c3-b8b9-1748b05e89cf\">\n",
              "      Upload widget is only available when the cell has been executed in the\n",
              "      current browser session. Please rerun this cell to enable.\n",
              "      </output>\n",
              "      <script src=\"/nbextensions/google.colab/files.js\"></script> "
            ]
          },
          "metadata": {}
        },
        {
          "output_type": "stream",
          "name": "stdout",
          "text": [
            "Saving NCAA_Tourney_2002_2021.csv to NCAA_Tourney_2002_2021 (6).csv\n"
          ]
        }
      ]
    },
    {
      "cell_type": "code",
      "source": [
        "y_game['probability']=l\n"
      ],
      "metadata": {
        "colab": {
          "base_uri": "https://localhost:8080/"
        },
        "id": "jSEX0J80NWTB",
        "outputId": "d3917f73-67f1-432a-8a93-2092d37d1a25"
      },
      "id": "jSEX0J80NWTB",
      "execution_count": null,
      "outputs": [
        {
          "output_type": "stream",
          "name": "stdout",
          "text": [
            "             game_id  probability\n",
            "1068  2016-1292-1277     0.894083\n",
            "124   2019-1345-1397     0.680785\n",
            "184   2002-1245-1338     0.592827\n",
            "553   2008-1390-1266     0.658474\n",
            "18    2021-1124-1458     0.420995\n",
            "...              ...          ...\n",
            "526   2008-1345-1124     0.472118\n",
            "571   2008-1172-1458     0.406647\n",
            "367   2005-1181-1280     0.767089\n",
            "717   2011-1163-1137     0.805536\n",
            "963   2014-1112-1361     0.307249\n",
            "\n",
            "[374 rows x 2 columns]\n"
          ]
        },
        {
          "output_type": "stream",
          "name": "stderr",
          "text": [
            "/usr/local/lib/python3.7/dist-packages/ipykernel_launcher.py:1: SettingWithCopyWarning: \n",
            "A value is trying to be set on a copy of a slice from a DataFrame.\n",
            "Try using .loc[row_indexer,col_indexer] = value instead\n",
            "\n",
            "See the caveats in the documentation: https://pandas.pydata.org/pandas-docs/stable/user_guide/indexing.html#returning-a-view-versus-a-copy\n",
            "  \"\"\"Entry point for launching an IPython kernel.\n"
          ]
        }
      ]
    },
    {
      "cell_type": "code",
      "source": [
        "from google.colab import files\n",
        "y_game.to_csv('new.csv') \n",
        "files.download('new.csv')"
      ],
      "metadata": {
        "colab": {
          "base_uri": "https://localhost:8080/",
          "height": 17
        },
        "id": "JHDRdEepR55L",
        "outputId": "986aad20-86d4-4fd1-eb99-8c6b04d5f349"
      },
      "id": "JHDRdEepR55L",
      "execution_count": null,
      "outputs": [
        {
          "output_type": "display_data",
          "data": {
            "text/plain": [
              "<IPython.core.display.Javascript object>"
            ],
            "application/javascript": [
              "\n",
              "    async function download(id, filename, size) {\n",
              "      if (!google.colab.kernel.accessAllowed) {\n",
              "        return;\n",
              "      }\n",
              "      const div = document.createElement('div');\n",
              "      const label = document.createElement('label');\n",
              "      label.textContent = `Downloading \"${filename}\": `;\n",
              "      div.appendChild(label);\n",
              "      const progress = document.createElement('progress');\n",
              "      progress.max = size;\n",
              "      div.appendChild(progress);\n",
              "      document.body.appendChild(div);\n",
              "\n",
              "      const buffers = [];\n",
              "      let downloaded = 0;\n",
              "\n",
              "      const channel = await google.colab.kernel.comms.open(id);\n",
              "      // Send a message to notify the kernel that we're ready.\n",
              "      channel.send({})\n",
              "\n",
              "      for await (const message of channel.messages) {\n",
              "        // Send a message to notify the kernel that we're ready.\n",
              "        channel.send({})\n",
              "        if (message.buffers) {\n",
              "          for (const buffer of message.buffers) {\n",
              "            buffers.push(buffer);\n",
              "            downloaded += buffer.byteLength;\n",
              "            progress.value = downloaded;\n",
              "          }\n",
              "        }\n",
              "      }\n",
              "      const blob = new Blob(buffers, {type: 'application/binary'});\n",
              "      const a = document.createElement('a');\n",
              "      a.href = window.URL.createObjectURL(blob);\n",
              "      a.download = filename;\n",
              "      div.appendChild(a);\n",
              "      a.click();\n",
              "      div.remove();\n",
              "    }\n",
              "  "
            ]
          },
          "metadata": {}
        },
        {
          "output_type": "display_data",
          "data": {
            "text/plain": [
              "<IPython.core.display.Javascript object>"
            ],
            "application/javascript": [
              "download(\"download_5bc9af2e-da49-4ece-a8b8-0faf124b1b4e\", \"new.csv\", 14344)"
            ]
          },
          "metadata": {}
        }
      ]
    },
    {
      "cell_type": "code",
      "source": [
        "#2022 Test"
      ],
      "metadata": {
        "id": "JOYLaTbXNWeF"
      },
      "id": "JOYLaTbXNWeF",
      "execution_count": null,
      "outputs": []
    },
    {
      "cell_type": "code",
      "source": [
        "x_train1=x[selected_features]\n",
        "x_test1=df2022[selected_features]\n",
        "y_train1=y\n"
      ],
      "metadata": {
        "id": "SmPNeZ2gNWhJ"
      },
      "id": "SmPNeZ2gNWhJ",
      "execution_count": null,
      "outputs": []
    },
    {
      "cell_type": "markdown",
      "metadata": {
        "id": "tfqX-r-GYJpT"
      },
      "source": [
        "# 5. Model"
      ],
      "id": "tfqX-r-GYJpT"
    },
    {
      "cell_type": "code",
      "execution_count": null,
      "metadata": {
        "id": "DDOsojRHYJpe"
      },
      "outputs": [],
      "source": [
        "from sklearn.linear_model import LogisticRegression\n",
        "from sklearn import metrics\n",
        "from sklearn.metrics import log_loss"
      ],
      "id": "DDOsojRHYJpe"
    },
    {
      "cell_type": "code",
      "execution_count": null,
      "metadata": {
        "id": "qcw6pUwDYJpe"
      },
      "outputs": [],
      "source": [
        "# Logistic\n",
        "from sklearn.linear_model import LogisticRegression\n",
        "from sklearn import metrics\n",
        "from sklearn.model_selection import train_test_split\n",
        "from sklearn.metrics import classification_report"
      ],
      "id": "qcw6pUwDYJpe"
    },
    {
      "cell_type": "code",
      "source": [
        "\n",
        "y_game=game.iloc[y_test.index,:]"
      ],
      "metadata": {
        "id": "-BPJKxAMYJpe"
      },
      "execution_count": null,
      "outputs": [],
      "id": "-BPJKxAMYJpe"
    },
    {
      "cell_type": "code",
      "source": [
        "logreg = LogisticRegression()\n",
        "logreg.fit(x_train1, y_train1)\n",
        "y_pred_logit1 = logreg.predict(x_test1)\n",
        "y_proba_logit1 = list(logreg.predict_proba(x_test1)[:,1])\n",
        "print(y_proba_logit1)\n",
        "# print(classification_report(y_test1, y_pred_logit))"
      ],
      "metadata": {
        "colab": {
          "base_uri": "https://localhost:8080/"
        },
        "outputId": "1badcc09-5d87-4f39-da02-e7c5cb94eb81",
        "id": "W_-vzrviYJpe"
      },
      "execution_count": null,
      "outputs": [
        {
          "output_type": "stream",
          "name": "stdout",
          "text": [
            "[0.49218536328715284, 0.5909432145914677, 0.5598322573912738, 0.6802495812585974, 0.6809000939649378, 0.7634781396850162, 0.7792220697340662, 0.8181673459713291, 0.7629044638787822, 0.7803462127951573, 0.8529319167744571, 0.8312628579835172, 0.9357911444570811, 0.9466283291875224, 0.9387419401576073, 0.959064553478986, 0.5019505579690962, 0.5400674056513088, 0.7343531534336799, 0.7732258309247358, 0.6109400699182477, 0.7063383701161067, 0.7940036444304518, 0.7464749957456526, 0.8256898770461213, 0.8430472595631875, 0.8359208650621243, 0.8885725236025657, 0.8763122361311774, 0.9351963996444865, 0.9481292885234482, 0.9640722175114069, 0.9766845765162268, 0.46385240369578234, 0.5472857683082683, 0.5478075862077524, 0.6712313180592807, 0.5509864442723764, 0.7618656612911742, 0.772323092874892, 0.7961003009292105, 0.8058245303273838, 0.7737590624435137, 0.8128389177209421, 0.8417235384788608, 0.8785315176694556, 0.9441675552696659, 0.9478670822822638, 0.9623341998246026, 0.9627609912377434, 0.3396707050345894, 0.5558431391737806, 0.5517355294104032, 0.6823518335280075, 0.6886483512355437, 0.7357999315224691, 0.7874268155859592, 0.7741544588732796, 0.777299591472241, 0.8106253483251372, 0.870294452656678, 0.8387450200523846, 0.8835411522413571, 0.8602976794111182, 0.9376100469689967, 0.9488040407556954, 0.9527459584941009, 0.5972610602771312, 0.5662779422708485, 0.6859211938227321, 0.6865654845277435, 0.7681765783260197, 0.783696365637323, 0.8220326365668664, 0.7676108297137139, 0.7848040183976634, 0.8561880999763701, 0.8349059442399501, 0.9373475285368034, 0.9479366411770178, 0.9402313670305554, 0.9600808690040035, 0.508499699417262, 0.546568099002958, 0.7394326950926801, 0.7777869926597184, 0.6171491585260688, 0.711743321821621, 0.7982559347233936, 0.751401216898521, 0.8294285960506627, 0.8464829047544796, 0.8394828032092976, 0.8911403141620108, 0.8791241249717398, 0.9367662258381878, 0.9494027737558375, 0.9649687476068003, 0.9772738009887403, 0.47037392342671497, 0.5537687350225712, 0.5542891660352633, 0.6769869357718343, 0.5574592683702407, 0.7665863385746214, 0.776897172663634, 0.8003201952282977, 0.8098912316158523, 0.7783125740786219, 0.8167921132499643, 0.8451828383802839, 0.8812997879028707, 0.9455327179829075, 0.9491466597012523, 0.963272447610905, 0.963689008874682, 0.34557162676513037, 0.562301568054607, 0.5582062134871651, 0.6880032597287594, 0.6942379512711742, 0.7408615709689261, 0.7917792658312977, 0.7787022884701148, 0.7818019385264151, 0.8146146351921987, 0.8732233564474787, 0.84225721884692, 0.8862100403517784, 0.863416894870601, 0.9391252100151536, 0.9500618325812585, 0.9539116088603614, 0.4392536341629026, 0.5671532988528636, 0.5678877414775361, 0.6653372737607776, 0.6849178955588916, 0.7348376112073567, 0.6646301222762031, 0.686328920324664, 0.7812748507995054, 0.7521162336495558, 0.8997615714853593, 0.9161348520816118, 0.9041986395439737, 0.9351899531763296, 0.3829913281970996, 0.419686860498645, 0.6299842538461325, 0.6774206953748855, 0.4916488948205655, 0.5970030459616903, 0.7036117726843706, 0.6445634844275449, 0.7447319565672732, 0.7678846840089173, 0.7583238820314337, 0.8308367812358675, 0.8135567986084552, 0.8988691631080363, 0.9184194678159603, 0.9429444663098827, 0.9626866089188191, 0.347620271893952, 0.4267892790174529, 0.4273046485075007, 0.5570224374464022, 0.4304498842638347, 0.6633507453327073, 0.6762962389850403, 0.7062881220905461, 0.7187825730272271, 0.6780854132884104, 0.7278794555496418, 0.7661029247283548, 0.8166665066147265, 0.9123982418318106, 0.9180200641140683, 0.9402477334569966, 0.9409094198285403, 0.24059229562421885, 0.435274068206113, 0.43119246535173694, 0.5695285797700903, 0.5766740580300851, 0.6317143828468316, 0.6952566486341615, 0.6785785583869466, 0.6825088259437211, 0.7250010143695472, 0.8051646176963075, 0.7621035437522777, 0.8237156245682455, 0.7913515598718903, 0.9024947700529979, 0.919447861120245, 0.9254725604886737, 0.6430522716497374, 0.6437388270613691, 0.7321506310664693, 0.7492951041978625, 0.7921110847530143, 0.7315276906768754, 0.7505228411531057, 0.8308272835598672, 0.8066396636347611, 0.9250459967941465, 0.9375757714072961, 0.9284528441508961, 0.9520144224167298, 0.460462697207847, 0.4985829194774793, 0.7006803900333786, 0.7427543932983371, 0.5707674778726057, 0.6707068712705094, 0.7654773086982298, 0.7137398070487404, 0.8004486639013868, 0.8197708752805496, 0.8118235242333042, 0.8710146513052932, 0.8571330959468226, 0.924359768255411, 0.9393149933424402, 0.9578466274788732, 0.972582310632116, 0.42284005727052615, 0.5058566454956925, 0.5063831462341031, 0.6335500506875386, 0.5095925175964445, 0.7303999960622154, 0.7417708649529196, 0.7677793933034676, 0.7784784497044439, 0.7433354912102484, 0.7862186143402684, 0.8182931557834171, 0.8596413831565062, 0.9347263968935342, 0.9390110969761893, 0.9558212458568971, 0.956318485796311, 0.30342429140731086, 0.5145024287883436, 0.5103492901615618, 0.6452715536336308, 0.6519281514166416, 0.7022361976650331, 0.7582670005132652, 0.7437664505883986, 0.7471965749418752, 0.7837739562356054, 0.8503415500797911, 0.8149706384727144, 0.8653106485491829, 0.8390912789472519, 0.9271455892844845, 0.9400971608026036, 0.9446703847043187, 0.4979293154083555, 0.6000443057617594, 0.6212705558361883, 0.676511520762658, 0.5992822821741349, 0.6228096422254756, 0.7294018547970429, 0.6960185836079597, 0.8713622010038388, 0.8918165749016903, 0.876884360121739, 0.91588977610207, 0.31899551130022097, 0.3530680891955361, 0.5623310987457494, 0.6131143632816567, 0.42191216653693014, 0.5278391977500889, 0.6417655607659916, 0.5777894801850888, 0.6876571850013611, 0.7139985675017887, 0.7030764572609446, 0.7875212194046726, 0.7670571146391157, 0.8702534162517588, 0.8946875053059664, 0.9257702573302606, 0.9511470782585109, 0.2867876367193574, 0.35974199491477094, 0.36022728162776235, 0.48689431944341877, 0.36319190017937214, 0.5979044333665553, 0.6118941715824059, 0.6447183833110558, 0.6585658415577188, 0.6138360545980034, 0.6687128383486329, 0.7119583292077258, 0.7707238245325595, 0.8871299541154143, 0.8941853005681938, 0.9223286484615572, 0.9231725538037909, 0.1929497493174546, 0.36774900698402263, 0.36389258476106345, 0.4996017242926596, 0.5069029741038114, 0.5641587128601206, 0.6325774161887625, 0.6143716499780432, 0.6186458025881281, 0.6654961604579561, 0.7571965523141294, 0.7073867500261107, 0.779061526090859, 0.7410763553011784, 0.8747619804266246, 0.8959811779257718, 0.90357694837427, 0.6156476433643647, 0.6365473845073268, 0.690669540760292, 0.6148962687839793, 0.6380605565068403, 0.7421274084503877, 0.7096892171134379, 0.8785235594631199, 0.8979725547569046, 0.8837792994849859, 0.920797570418359, 0.3333823708821727, 0.3681608821856899, 0.5783719081718884, 0.6285234715569278, 0.43795559981709764, 0.5441193128326945, 0.6566725380253762, 0.5936731126709162, 0.7015426033728346, 0.7271775558490817, 0.7165589425014227, 0.7982694875935528, 0.778549470455931, 0.8774678214374781, 0.9006983104348942, 0.9301455009920861, 0.9541007223799322, 0.3003625821243324, 0.37495472819979064, 0.375448502672201, 0.5032576073137751, 0.37846428580484914, 0.6135374858781019, 0.6273223380733403, 0.6595676666279219, 0.6731297915546136, 0.6292338011390961, 0.6830522702128321, 0.7251951476008649, 0.7820866729638659, 0.8935207766307148, 0.9002215728055682, 0.9268907274385886, 0.9276889515399104, 0.20334935254889988, 0.38309773918437, 0.37917689057663617, 0.5159626342875078, 0.5232529636564147, 0.5801825465178991, 0.6476568206495085, 0.629760921478977, 0.633966127822246, 0.6799081776454973, 0.7690288996394733, 0.720751252417104, 0.7901236833755191, 0.7534384738677227, 0.8817597536349703, 0.9019262394432296, 0.9091319114155542, 0.5089289807389478, 0.5691934269007852, 0.48581646807061324, 0.5105649453232872, 0.630034564417659, 0.5912620139850551, 0.8105875093884722, 0.8389190857802353, 0.8181742002309564, 0.8730880682770544, 0.22835613413896003, 0.25639228675241543, 0.4480390930713734, 0.5002993707023127, 0.31558130131118733, 0.41392747084140835, 0.5309131646269095, 0.463684229144619, 0.5817506718821236, 0.6119839316484964, 0.5993520656805371, 0.7007398254524637, 0.6753630912830622, 0.8090696643337698, 0.8429465779335619, 0.8873782355255115, 0.9248141435990299, 0.20257750635987334, 0.2619787941663636, 0.26238624638801084, 0.37480455850696176, 0.26487902393534557, 0.484384150455577, 0.4990141081215659, 0.5341164019725902, 0.5492608766547191, 0.5010602509801586, 0.5604883686616915, 0.6096138535895635, 0.6798707660859493, 0.8323716206492773, 0.8422411425575987, 0.882382755828894, 0.8836059054885408, 0.13122383241035743, 0.2687231086491702, 0.2654691075856023, 0.38679179777032907, 0.39374165498200875, 0.44987706845680475, 0.5210039090642259, 0.5016252678840998, 0.506144551333606, 0.5569171341794296, 0.6633247214408793, 0.6043206833725747, 0.690184265528452, 0.6439031521618207, 0.8152529561522842, 0.8447655632982722, 0.8554980873433451, 0.5570095979606626, 0.4734559538477823, 0.49818483908448136, 0.6184178854854241, 0.5792409461414579, 0.8028662065490713, 0.8321135010160764, 0.8106899365186285, 0.8674980944139427, 0.21974663408690367, 0.24706420159856485, 0.4358250539852536, 0.48792003497629494, 0.3049829993128983, 0.40196613659951097, 0.5185624217613358, 0.4513924802073057, 0.5696534737076064, 0.6001601697990603, 0.587402894482315, 0.690251763523909, 0.6644115843240949, 0.8013016544628341, 0.8362779445810976, 0.8823328590994611, 0.9212971250398388, 0.19469469047059598, 0.25251648005384236, 0.25291425893298036, 0.36327300747158975, 0.25534820079613674, 0.4720266240513357, 0.48663560389048766, 0.5217740288192249, 0.5369719030652023, 0.4886805000511211, 0.5482537406442416, 0.5977653386711514, 0.6689967951996949, 0.8253469993500909, 0.8355483994246438, 0.8771445691534996, 0.8784146867628921, 0.12567996612272064, 0.2591027200446027, 0.25592444396244396, 0.3751127202758962, 0.38198344887779845, 0.437652652835599, 0.5086337318595132, 0.48924524571061573, 0.4937634971764317, 0.5446638556558315, 0.6521762582031277, 0.5924189266951978, 0.6794954685458194, 0.6324679086588708, 0.8076767138959416, 0.8381593369364997, 0.8492671025658363, 0.4170290712842364, 0.4412807145771176, 0.5631935263762173, 0.5227225621496151, 0.7641557762030087, 0.7976991243313999, 0.7730816054745481, 0.8389330789786242, 0.18304548288922481, 0.20701106545348333, 0.3806409134587239, 0.43118094516371425, 0.25876727170497615, 0.3484215248845444, 0.4614711682954384, 0.3956194308349247, 0.5129301642365603, 0.5442408113993031, 0.5310933445643993, 0.6393608874197496, 0.6116637398945369, 0.7623749285950022, 0.8025146231718745, 0.8564366921382028, 0.903033809289158, 0.1613125781035494, 0.21182811466025142, 0.21217999269035914, 0.312191939670239, 0.2143343900899252, 0.4156356228355355, 0.4299204783616793, 0.46467046106399046, 0.479874067400446, 0.4319275684658041, 0.491228968924776, 0.5417667759810301, 0.6165537210182382, 0.7898958043943772, 0.8016703089188849, 0.8503002923886159, 0.8518010450086015, 0.10262308693231924, 0.2176621328242209, 0.21484478146812752, 0.32321191805292976, 0.32963347857404557, 0.38239395029194106, 0.45161020129564133, 0.4324822016943467, 0.43692467738911184, 0.4876094413058047, 0.5986669285373245, 0.5362534876172843, 0.6277903179110135, 0.57788901535547, 0.7696398721467116, 0.8046933911160483, 0.8175982013903603, 0.5759141898718266, 0.6891443035817497, 0.6531561872970196, 0.8478180187417005, 0.8714638541617591, 0.8541817453164123, 0.8995558979155331, 0.2781092190947671, 0.30980134282961785, 0.5137865173788384, 0.5658537680713995, 0.37510052514146985, 0.47901333747060537, 0.5956969536025193, 0.5295249741524721, 0.6442184615079274, 0.6724784163078322, 0.6607241401112581, 0.7529819992634164, 0.7303304711340192, 0.846542036383351, 0.874799071594666, 0.9111690329675591, 0.9412206194801104, 0.2485229829067745, 0.31605695500627534, 0.3165124436033928, 0.4383397561424529, 0.319296847246881, 0.5501490819398909, 0.5645903745402295, 0.5987921131787695, 0.6133561000037477, 0.566601300577262, 0.6240797378719933, 0.6702787667365047, 0.7343750949259635, 0.8660279843990288, 0.8742153586023172, 0.9071183690618322, 0.9081110708233053, 0.16432079575029301, 0.3235830493520025, 0.3199553960694718, 0.4508935151870315, 0.45813464396293585, 0.5156422397299039, 0.5860892940714487, 0.5671562127217525, 0.571588765057926, 0.6206755167413069, 0.7194837993255752, 0.6653566104886292, 0.7435948809819214, 0.7018456862610862, 0.8517341707974633, 0.8763032785250039, 0.885151799871642, 0.6690530926002386, 0.6319811219745937, 0.8355347360997996, 0.8607757178923733, 0.8423165758741686, 0.890911283994137, 0.2599792570273298, 0.29043658236625036, 0.4907369662170537, 0.5430774002398718, 0.35374607045980566, 0.4560605309706026, 0.5733056222843709, 0.506504889390308, 0.6228128482996153, 0.6518542165697271, 0.6397562749204919, 0.7354327607674239, 0.7117879322411912, 0.8341759073215714, 0.8643450973957106, 0.9034165798567383, 0.9359063435875259, 0.23170269267354435, 0.2964691341204094, 0.2969086481942063, 0.4157805134218061, 0.29959618852883485, 0.5272371699244343, 0.5418013966317078, 0.5764503189761123, 0.5912717317379141, 0.5438325347253365, 0.6022106403558701, 0.6495882296543426, 0.7160025192812726, 0.8549630677283424, 0.8637202384834507, 0.899051571860297, 0.9001209971330101, 0.1520463394149311, 0.30373593550548283, 0.3002320262583521, 0.42818073004833646, 0.43534629108587536, 0.49259378103118157, 0.5635557128956161, 0.5443931577078939, 0.5488733991716467, 0.598735712925443, 0.7005012913948829, 0.6445210095571334, 0.7256217521960374, 0.6821968203196704, 0.8397072165743273, 0.86595565679557, 0.8754391693256264, 0.4903231720781337, 0.7399935637588168, 0.7759659122532119, 0.7495341155873101, 0.8206335819167883, 0.1644458524633072, 0.1865322612326012, 0.3505792994412709, 0.39970376045492567, 0.2346836934502702, 0.31959147297710827, 0.42945220211174256, 0.3650721401856596, 0.4805266421608488, 0.5119382804958856, 0.49871726125491067, 0.6089560765562182, 0.5804561061835927, 0.7380928007326353, 0.7811568150250431, 0.8397459786860231, 0.8910714626778066, 0.1445305897082236, 0.19098754882754357, 0.19131321072485577, 0.28504823455961115, 0.19330772203077878, 0.38452611863454805, 0.39847085060347653, 0.43260783426822597, 0.4476395986449325, 0.4004342488440546, 0.4589047221513892, 0.5094469472645963, 0.5854727399745803, 0.7675685455986985, 0.7802461931815097, 0.8330352424387327, 0.8346754258992102, 0.09128225848487437, 0.1963906099685446, 0.19378039254092724, 0.2955217457654069, 0.3016383547653305, 0.3522726331285064, 0.4197421531039359, 0.40097698680275723, 0.40532697435420556, 0.4553102215727661, 0.5671539521829494, 0.5039008803657772, 0.5970248458561591, 0.5459818396780362, 0.7458526430171938, 0.7835076485013136, 0.7974599612325984, 0.7896478696085416, 0.8204176178467119, 0.7978641233581295, 0.857846172210303, 0.20609202981200017, 0.23221733347817117, 0.4159006356785171, 0.46758788495082126, 0.2879868567050114, 0.3825400654472471, 0.4981956503932029, 0.43130044487657504, 0.5495706799926496, 0.580452511667475, 0.5675195571761319, 0.6725619439660265, 0.6460028608944526, 0.7880061106018911, 0.8248110992240569, 0.8736041074093055, 0.9151809509321468, 0.18223319073310523, 0.2374452930781217, 0.23782688461641882, 0.3446392569243455, 0.24016230691772864, 0.4517724723469465, 0.46630823801709137, 0.5014124909055988, 0.5166580270596759, 0.4683456435848245, 0.5279997523430158, 0.578022635828528, 0.6507073643273892, 0.8132854985237068, 0.8240412088374408, 0.8680884813665766, 0.8694382877299779, 0.11699403427337055, 0.24376663415956615, 0.24071535820869697, 0.35621141536564954, 0.3629370163901641, 0.4177065432836425, 0.48826143332036304, 0.46890844004714083, 0.4734129602879558, 0.5243885416002981, 0.6334666267259697, 0.5726014338230043, 0.6614926111034474, 0.6133266978454143, 0.7946984527348804, 0.8267969703606066, 0.8385343485624375, 0.511216791267788, 0.47469499671498716, 0.5801064223523597, 0.056096554622503535, 0.06475862577643915, 0.14016388186309925, 0.16740444683349923, 0.08475040544461257, 0.12421730109024125, 0.18519761304525503, 0.14793975713611565, 0.21833963327357292, 0.2405487282558578, 0.23101893913443147, 0.31983951385614307, 0.29467416568739757, 0.4597482054938198, 0.5187374247700143, 0.6127540403402562, 0.7118317164932313, 0.048540674713196535, 0.0665432976752959, 0.0666742517787934, 0.107456191941216, 0.0674777797182001, 0.15871551666666675, 0.16668911021327437, 0.1871471681355324, 0.19660529786219044, 0.16782908379147735, 0.20388485265976733, 0.23873208846647911, 0.29898103554528344, 0.4992991864523187, 0.5174094499950379, 0.6010537123101132, 0.6038891600798083, 0.02944014766005246, 0.06872488269558594, 0.06766858353207504, 0.11243058533922849, 0.11537828319007286, 0.1410616457784881, 0.17927492782450596, 0.16814496976715, 0.17068882109468786, 0.20154384496858357, 0.283495757618565, 0.23472298606128025, 0.3090953848323, 0.26639566514864216, 0.4698312229223082, 0.5221829096139297, 0.5431569338023422, 0.4300066586585031, 0.5356128093979333, 0.04726949569196209, 0.05464746103938473, 0.11978719525463002, 0.14372957136913195, 0.07175729601861702, 0.10587343573697375, 0.1594883950876863, 0.12659907404580054, 0.18909736512362396, 0.2091277901181958, 0.20051414220774577, 0.2819059900677512, 0.2585905588817155, 0.4153543866628298, 0.4736413078291718, 0.5691505233199451, 0.6734387418219578, 0.04085111270937283, 0.056170216795005175, 0.056281987988806126, 0.09132941108590635, 0.05696791758100066, 0.13606863581155684, 0.1430980127136774, 0.16122086185282716, 0.16964217014866534, 0.14410454878780413, 0.17614226596569893, 0.20748361439525173, 0.2625663679915933, 0.4542977507598824, 0.4723154793095651, 0.5570850345359217, 0.5600042197040253, 0.02469784865277028, 0.05803286858203296, 0.05713082382517622, 0.09563725219360847, 0.09819337319358888, 0.12057274618909734, 0.1542322691231435, 0.1443835282937571, 0.14663126121596554, 0.1740501581634528, 0.24829910186061102, 0.20385875125639888, 0.27192668212842713, 0.23263273018073952, 0.4252301149907529, 0.4770841921059012, 0.4981352438042067, 0.6203970096983508, 0.06568604054431429, 0.07571008869175022, 0.16166301954198423, 0.1921481675203978, 0.09872582997125857, 0.14367918552820189, 0.2119019582394915, 0.17039524193522484, 0.2483661668098588, 0.2725644916456659, 0.262204247022717, 0.3574415249140434, 0.33075633432243906, 0.5016667511928018, 0.5604548392800769, 0.6517923327911098, 0.7450379201966973, 0.05691639764422048, 0.07777147264030976, 0.07792267870428624, 0.12466582577870543, 0.07885031498078171, 0.18245638600046463, 0.19135139839318485, 0.21405877496923723, 0.22450133862351748, 0.19262104859850918, 0.2325148458762338, 0.2705922146699997, 0.33533983961676833, 0.5412113273296442, 0.5591441472311884, 0.6405796553250558, 0.6433008950458898, 0.03464005445383438, 0.08028950489756354, 0.07907054967839332, 0.13032057006495457, 0.13366666986922005, 0.16267243536325626, 0.20534048101275099, 0.19297277697042362, 0.19580383239992252, 0.2299400546094042, 0.3188278801885189, 0.26623519159940096, 0.34607696440599656, 0.30049038617696905, 0.5117981878411454, 0.5638527723680294, 0.5844532677760612, 0.03848871259262414, 0.04456024808914336, 0.09893437931783827, 0.11927359296857734, 0.05870796211565575, 0.08720279589062839, 0.13276676838038187, 0.10470148572629043, 0.1583494860763528, 0.17582911851255187, 0.16829513575562774, 0.24054365861534466, 0.21960298998781622, 0.36434652459786115, 0.4206253040104826, 0.5159225562250076, 0.6245966656781519, 0.03322103472575268, 0.04581554517301455, 0.04590771415452897, 0.07500842754642108, 0.046473434904158055, 0.11274455168484696, 0.11873459461943617, 0.13425533204504586, 0.1415057323579003, 0.11959367826212908, 0.14711874883122228, 0.1743890123929898, 0.2231597934098327, 0.40179414374858224, 0.41932965169486136, 0.5036663615159879, 0.5066258115507603, 0.020021860452588993, 0.04735205420821293, 0.04660781418400282, 0.07861303915801869, 0.08075477972605036, 0.09959865354393478, 0.12825690416146648, 0.11983184951809508, 0.12175175513744309, 0.14531056256875752, 0.21042279337954622, 0.1712174196469063, 0.23155640678980496, 0.19652144011762246, 0.3737848410690087, 0.4239932417718718, 0.44469386766198826, 0.5129581810989154, 0.7126014966891848, 0.7535891022286125, 0.5847966541477942, 0.6832821440034813, 0.7756440555648098, 0.7253446711005869, 0.8094767079522245, 0.8281124677712831, 0.8204523834706361, 0.8773393914042363, 0.8640322566716702, 0.9282841246986857, 0.9425117003044361, 0.9601086001792077, 0.9740749603525094, 0.4369344759455521, 0.5202240411017762, 0.5207497366797237, 0.6467970454961145, 0.5239535121129759, 0.7415740063128944, 0.7526332023039629, 0.7778753019143768, 0.7882375043448956, 0.7541538263379929, 0.7957261550513971, 0.8266886825529292, 0.8664382911276116, 0.9381489014383878, 0.9422228276285839, 0.9581871572892802, 0.9586589202083349, 0.3157156270121149, 0.5288525760724427, 0.5247087929815641, 0.6583233395603353, 0.6648622220775139, 0.71412062197132, 0.7686518520357666, 0.7545726183863906, 0.7579051699936311, 0.7933616438410275, 0.8575141600523452, 0.8234865637176423, 0.8718739391071015, 0.8467058742839713, 0.9309362109981959, 0.9432551545578853, 0.9476007226341744, 0.6991033304502992, 0.7413171721900389, 0.5689270417145931, 0.6690464797052681, 0.764126724021428, 0.712203293135385, 0.7992466568141378, 0.818658888779226, 0.810673828172905, 0.8701687583095434, 0.8562111953506804, 0.9238331232857651, 0.9388855897856085, 0.9575424255861962, 0.9723813832863574, 0.4210087598909396, 0.5039797607043416, 0.5045063024102553, 0.6318051553133682, 0.5077160135324951, 0.7289189427529609, 0.7403300699615265, 0.7664380209339281, 0.7771809427779528, 0.7419003885226338, 0.7849539198971291, 0.8171740853242769, 0.8587330005856948, 0.9342667968500304, 0.9385796836746122, 0.955503106698424, 0.9560037625326442, 0.301839703813056, 0.5126267438917473, 0.5084728887531763, 0.6435510698107361, 0.6502224523118533, 0.7006638334093709, 0.756888080208037, 0.7423329222768703, 0.7457756775110631, 0.7824988004587158, 0.849383525534754, 0.8138357609886941, 0.8644331705317585, 0.8380749506838058, 0.92663680117412, 0.9396729363617292, 0.9442766275561332, 0.4762260180284256, 0.29514638350073624, 0.39076018108348387, 0.5068609198285275, 0.4398219964423401, 0.5581356382133107, 0.5888695452926153, 0.5760065282285289, 0.6801493315777654, 0.6538889667793641, 0.7937388183933902, 0.829763545588263, 0.8773822701213397, 0.9178332104057566, 0.18745579591059958, 0.24377852352196608, 0.24416703407285595, 0.35250990677652666, 0.24654457627043475, 0.4603710715634304, 0.474943819408944, 0.5100768379534174, 0.525308255541604, 0.47698523399961007, 0.5366290459256401, 0.5864536868641196, 0.6585440623098981, 0.8184920643651933, 0.8290109075066578, 0.8720073590869702, 0.8733229166212855, 0.12062273930529988, 0.25021314624421465, 0.24710754509575109, 0.36419947746318343, 0.3709889879482973, 0.42616077656549267, 0.4969250226318803, 0.4775490870074514, 0.4820612703009824, 0.533025465831865, 0.6414770130995188, 0.5810622955708415, 0.6692103421372145, 0.6215142507758196, 0.8002960511601173, 0.8317047324243211, 0.8431726127648739, 0.25254148082869027, 0.3410311245393241, 0.4533512621811134, 0.3878237840741123, 0.5047534698318085, 0.5361143756656822, 0.5229379722117615, 0.6317830029029448, 0.6038644577493107, 0.7563970197476918, 0.7972779925804364, 0.8523668531487497, 0.9001309016031078, 0.15693506612033484, 0.20641715924807308, 0.2067624068179452, 0.3052100448384613, 0.20887638048033422, 0.4077116303881812, 0.42192078066300714, 0.4565419846571469, 0.47171398621174937, 0.42391829554076244, 0.4830551259722874, 0.5336340281071031, 0.6087898352067158, 0.7844144544194228, 0.796416969522721, 0.8460877568098959, 0.8476231725148404, 0.09964899070808197, 0.2121422638381872, 0.20937723845714923, 0.31609683347944395, 0.3224443814630494, 0.3746973421982678, 0.4435209061319503, 0.4244703289381803, 0.42889270198629464, 0.4794390706188507, 0.5907812535406708, 0.5281081194268976, 0.6201137648396435, 0.5698883945720478, 0.7637880998630231, 0.7995000998483408, 0.812668171116874, 0.6069515620481837, 0.7121972361135269, 0.6540183307225631, 0.7525452035174129, 0.775203180234974, 0.7658519068763804, 0.8365928049524866, 0.8197732537734087, 0.9025817159358349, 0.921477017701997, 0.9451377529469577, 0.9641498361037033, 0.35709544778622987, 0.43697696038502615, 0.43749524257425765, 0.5672424867479992, 0.4406577720729702, 0.6725597144541596, 0.6853190752199847, 0.7148274808488339, 0.7270990292264023, 0.6870814535663505, 0.7360256882682912, 0.7734610255678291, 0.8228018600820389, 0.9156607373552608, 0.9210912970935166, 0.9425383686642597, 0.9431762219314772, 0.24826034431049404, 0.4455068720152163, 0.4414043152989925, 0.5796778196136549, 0.5867770619406116, 0.6413208258656573, 0.7039823128568765, 0.6875671672809939, 0.6914375026407216, 0.7332018317817164, 0.811596088205598, 0.7695496136145151, 0.829664278752715, 0.7981246739258404, 0.9060881311518288, 0.9224701216161735, 0.9282864089316236, 0.6231578811342254, 0.5581466454686707, 0.6702082829665993, 0.6973736112424668, 0.6860957354564965, 0.7738161838316763, 0.7524470483350544, 0.8609424055791453, 0.8869020795542895, 0.9200774154825575, 0.9472896299140782, 0.27069504606903005, 0.3415159354221817, 0.3419897682708251, 0.46692422923465277, 0.34488520555568203, 0.5785147587534006, 0.592719575295737, 0.6261747396305846, 0.640341762614802, 0.5946938495791163, 0.6507431314976435, 0.6952653932301707, 0.7562706591044348, 0.878861469554182, 0.8863674637367613, 0.9163956983356956, 0.9172982855870728, 0.18078797577841862, 0.34933862014476286, 0.3455697377640058, 0.4795975975799697, 0.48689095613304434, 0.5443817886130383, 0.6137796969499049, 0.5952384878194998, 0.5995864929762184, 0.6474439625577298, 0.7421759102768357, 0.6905440327778433, 0.7649736787952875, 0.7254200931069639, 0.8657245963147441, 0.8882794470582346, 0.8963725747774158, 0.4132157885969549, 0.5311586622734604, 0.5622974510415654, 0.5492394531707699, 0.6560307651739818, 0.6288707218181251, 0.775356554984989, 0.8138388548597555, 0.8651883331272047, 0.9092458896334767, 0.17144368766972445, 0.2242833930717943, 0.22465006394972736, 0.3280919812442122, 0.22689461190708765, 0.43348371941722275, 0.4479118112026799, 0.48288422087103205, 0.49812923922476443, 0.4499366025926168, 0.5094929712988482, 0.5598421610785161, 0.6336737958526161, 0.8017648866654786, 0.8130316758004706, 0.8593645822615045, 0.8607893418161235, 0.10954970918875329, 0.23036018642148218, 0.22742625487809304, 0.3393962635854327, 0.3459749972474659, 0.39979118147174614, 0.46976125945771063, 0.45049602214259643, 0.45497519226618344, 0.5058726770372934, 0.6160883392972095, 0.5543674629491903, 0.6446978120337595, 0.5956031113817891, 0.7823379234285752, 0.8159213449135495, 0.8282426231909251, 0.6534694520207794, 0.6813580459140754, 0.6697659540059258, 0.7604565056710114, 0.7382521297296404, 0.8517429243879969, 0.8791789734478075, 0.9144011022923157, 0.9434271651386367, 0.2561832874125743, 0.32489889803817723, 0.3253610674340591, 0.44836004225187226, 0.32818593646590877, 0.5601761217721324, 0.5745444562327027, 0.6085064733370247, 0.6229398799690761, 0.5765438901996043, 0.633556514234692, 0.6791895825760771, 0.7422198774744652, 0.8706693618728596, 0.878612846993759, 0.9104833404275086, 0.9114435889589148, 0.1699727472358682, 0.3325331721505471, 0.3288539618199251, 0.460965250332612, 0.4682302023682722, 0.5257754273500814, 0.5959036600564598, 0.5770955738061505, 0.5815014473755232, 0.6301872580264983, 0.7276052442839777, 0.6743358181449249, 0.7512596004284506, 0.7102721512490497, 0.8567888595452998, 0.880637738712258, 0.8892153975566846, 0.5373990469266057, 0.5242267505600181, 0.6329841075324342, 0.605099708015802, 0.7573477605782104, 0.798111767476691, 0.853015823965149, 0.9005943960894114, 0.1576198541337812, 0.20726478078474048, 0.2076110751727486, 0.30630676118592504, 0.20973143158992458, 0.40895987040705517, 0.4231814412455519, 0.45782416440431933, 0.47300169010377974, 0.42518053472902667, 0.4843454049454382, 0.5349196094957899, 0.6100196455884012, 0.7852868876270314, 0.7972533851714951, 0.8467593671598459, 0.8482892842900448, 0.10011349387216825, 0.21300708449534056, 0.21023379501819092, 0.31721480894057646, 0.3235741852341715, 0.3759086563862972, 0.4447964469632601, 0.4257329971098253, 0.43015869298136966, 0.48072867291618654, 0.5920297383019276, 0.5293955000053234, 0.6213301193423203, 0.5711543512777255, 0.7647189672993918, 0.8003270243215008, 0.8134534582573033, 0.46956520691920034, 0.5808265448296349, 0.5517854173068097, 0.714903618352215, 0.7605435115558172, 0.82340371317869, 0.8792103624765415, 0.13068473266663663, 0.17359428320725767, 0.17389666200866863, 0.2618615339107851, 0.1757490601609475, 0.3572914115179291, 0.37084358203141465, 0.40420415419446076, 0.41897776216412685, 0.372755207708715, 0.4300832116039259, 0.4802686005057801, 0.5568831655946448, 0.7460913578379718, 0.7595735158721374, 0.8161584542613238, 0.817928191664849, 0.08204827742415662, 0.17861392330811546, 0.1761881738557358, 0.2718069869119122, 0.27762618987288135, 0.326111928575285, 0.3916001881020004, 0.3732837869750489, 0.37752268513905685, 0.42653650656532777, 0.5382972862642822, 0.47473277773190514, 0.568645002034875, 0.5169159473731594, 0.7230927554311467, 0.7630486077844528, 0.7779457629628121, 0.6412005104053999, 0.6135592521445971, 0.7638188540641142, 0.8037774182659362, 0.8574159502030473, 0.9037309519083604, 0.16239610043982258, 0.21316470518897337, 0.21351820201531746, 0.3139095869370224, 0.2156824671816604, 0.4175768766284774, 0.43187914178168835, 0.4666578456722589, 0.48186794588723825, 0.43388841638483044, 0.4932252875191009, 0.5437489745924219, 0.6184402540763533, 0.791218296806554, 0.8029371771468146, 0.8513141406052406, 0.852806488760519, 0.10336098038080181, 0.21902530523622832, 0.21619518536293683, 0.32496155049449676, 0.33140085101544975, 0.384282045008186, 0.4535890567753831, 0.4344436419044546, 0.4388906841147105, 0.4896052057812766, 0.6005844541676081, 0.5382392081642309, 0.6296547746428222, 0.5798361414537982, 0.7710529094705247, 0.8059456231883572, 0.8187863255846042, 0.4668731542950647, 0.6407754757731698, 0.693189408260054, 0.7683453180809213, 0.8381306917812829, 0.09660695694557153, 0.13000055213923098, 0.13023896335943166, 0.20150661437484987, 0.13170044764603803, 0.2833857589340628, 0.29542319552983654, 0.32550929009693624, 0.33904339009878887, 0.2971296505224334, 0.34930385947986003, 0.39662311480190826, 0.47201255426484473, 0.6764017913290048, 0.6920570453883385, 0.7595009408681708, 0.761656811525803, 0.05978094666390457, 0.13396398017050287, 0.13204713606950297, 0.20981136204039383, 0.2146946066522624, 0.2560859670678871, 0.3140656732752844, 0.29760187099602603, 0.30139465306698693, 0.3460188591723979, 0.45336118979741175, 0.3913254946467253, 0.48393953052677136, 0.43219546211646076, 0.6500515930391131, 0.6961175935724243, 0.7136435471599047, 0.6834413188955618, 0.7322313861498727, 0.8005750161724372, 0.8623901685637857, 0.11459851891549251, 0.15315681216847132, 0.15343020091562945, 0.23397441023537083, 0.15510551781750265, 0.32369817289253044, 0.33664355430817033, 0.36873063945563384, 0.3830412575620439, 0.3384737284858178, 0.39383983783384136, 0.443084045290708, 0.5196982318274341, 0.716706970848503, 0.7311872391322689, 0.7926290373626479, 0.7945682665965981, 0.07145670689883225, 0.15769825491134026, 0.15550278383678182, 0.24320969466655237, 0.24862568801277232, 0.29410874183213365, 0.3565708132993139, 0.33897996685828735, 0.3430425438607516, 0.39038728393490896, 0.5009503776468489, 0.43761594089407574, 0.5316169251305451, 0.4795118188634233, 0.6921450155947418, 0.7349294418779792, 0.7510176014521359, 0.537905662087752, 0.6308425096467197, 0.7273514573105677, 0.05221957057402788, 0.07148410152289826, 0.07162403283215661, 0.11506031377861645, 0.07248258064792651, 0.16925911663340737, 0.1776505495255556, 0.19913244058485619, 0.20904051586204989, 0.17884939827475319, 0.21665633323283107, 0.2529927464781809, 0.3153498158548371, 0.5185230343737801, 0.5365833279791293, 0.6193491995548358, 0.622136362262115, 0.03171967622903046, 0.07381485905565223, 0.0726864332265868, 0.12033925855099556, 0.1234654621648866, 0.1506424823135751, 0.19087443211913097, 0.17918156036273725, 0.1818558808664687, 0.2142081398472241, 0.29937880331932293, 0.2488224362711616, 0.3257605877022346, 0.28169732647243506, 0.4890286221828085, 0.5413352548841807, 0.5621734673328537, 0.57628976701616, 0.679822047392139, 0.04200967963395718, 0.05773709164701479, 0.05785178960247315, 0.09377960582658457, 0.058555663868527515, 0.1395347866852971, 0.1467128182488484, 0.1652052082050653, 0.17379151551670668, 0.14774039669701167, 0.18041605554230944, 0.21232186887464485, 0.26825431291703866, 0.4615396163074584, 0.4795921402736651, 0.5642711456240599, 0.5671797659782758, 0.02541043417899914, 0.059648418613705304, 0.05872282772581624, 0.09819052956301998, 0.10080728585974266, 0.1237006813438693, 0.1580764518178796, 0.1480251976810007, 0.15031966324727988, 0.1782841711884484, 0.2537843416921322, 0.20863473082753817, 0.27774102827968583, 0.23788140287892157, 0.4323757539042345, 0.4843668841005405, 0.5054286820596953, 0.5878252009631502, 0.02861172549569935, 0.039530239728481534, 0.03961028920421743, 0.0649910122293874, 0.04010166854402988, 0.0982226082721629, 0.10353113881895182, 0.11732910418586491, 0.12379612069372153, 0.10429323865383712, 0.1288120638319494, 0.1532988909822808, 0.1975830116029118, 0.36537314229035445, 0.38233504925482886, 0.465192071282264, 0.4681386792053089, 0.017211290351958383, 0.04086498692572066, 0.04021840078175759, 0.06814969351814475, 0.07002803547550508, 0.08660467683509146, 0.11198910202411308, 0.1045045559323209, 0.10620852520477067, 0.12719532299150446, 0.18595638102351206, 0.15044096973702217, 0.2052715637708814, 0.17331657759166028, 0.3384662368502431, 0.3868613149898879, 0.4070301129607981, 0.01512687218004515, 0.02101073940286428, 0.021054108618682895, 0.03497779891665626, 0.02132040240717079, 0.05374498782266741, 0.05680109728087206, 0.06482150578798329, 0.06861936936477858, 0.05724117801289641, 0.07158231608766981, 0.08626720971155352, 0.11378992830976899, 0.2308978358262729, 0.24401732138120583, 0.31204249216219787, 0.3145896510465062, 0.009049465014638353, 0.02173432177395701, 0.021383682017913967, 0.03673509349608951, 0.03778269282133782, 0.0471130889778519, 0.06170422258330333, 0.057363264724904446, 0.05834866870477745, 0.07062564370476314, 0.10643998231027958, 0.08453418175871834, 0.1187001795874938, 0.09855072550831198, 0.2106075603791023, 0.24756242024058556, 0.2635910302607096, 0.580498139101642, 0.5810109827915662, 0.7003296331487456, 0.5841336218981855, 0.7855055922943307, 0.7952039565735014, 0.8171573333597321, 0.8260966960654451, 0.7965336336610573, 0.8325309637128286, 0.8589040415890651, 0.8922281700940026, 0.9508769892078952, 0.9541535283056851, 0.9669369803488165, 0.9673133890931321, 0.3705977357023412, 0.5888992918508047, 0.5848690720517667, 0.7108898349857639, 0.7168553986664574, 0.761216445653278, 0.8091648558627756, 0.7968996750638714, 0.7998099661528771, 0.8305017281004667, 0.884798113560948, 0.8561935968728797, 0.8967393186520766, 0.8757595995345823, 0.9450616497715477, 0.9549828695910069, 0.9584698621968675, 0.4788683696456611, 0.6076312657678321, 0.4820736630512795, 0.7081760592086144, 0.7201250946639774, 0.747571848361082, 0.7589095740675337, 0.7217716802228598, 0.7671289573986755, 0.8013439211399539, 0.8458223363139541, 0.927677929899674, 0.9323918414583443, 0.9509310937031057, 0.9514805792781572, 0.2806670500849525, 0.4869817220732227, 0.48282980414779225, 0.6196841474962845, 0.6265430065626597, 0.6787118707493697, 0.7375146891456401, 0.7222253167042507, 0.7258375107254147, 0.7645313816681298, 0.8357817969841909, 0.7977880713931783, 0.8519536436341724, 0.8236639932098014, 0.9193491520134556, 0.9335874414240044, 0.9386251979937691, 0.6405536908087494, 0.517159720834149, 0.7363229980391671, 0.747530403905835, 0.7731362547374954, 0.7836580494287178, 0.7490719379397963, 0.7912657604723073, 0.8227537712469764, 0.8632565854015183, 0.9365503864692251, 0.9407229488353043, 0.9570828311226298, 0.9575665020680391, 0.30986440661040004, 0.5220649254536988, 0.5179158630435835, 0.6521741618429481, 0.6587697273512696, 0.7085310333278357, 0.7637757806805135, 0.7494965113385356, 0.752875415660489, 0.7888633187022506, 0.8541556483457573, 0.8194948248075681, 0.8688021139992929, 0.8431392042019595, 0.9291653618985368, 0.9417804187808348, 0.9462324857486192, 0.35240264731771515, 0.5865650587275992, 0.6006858344422883, 0.6338908176101733, 0.6479298354857166, 0.6026473804310164, 0.6582288827833026, 0.7022335328473601, 0.7623207101006294, 0.8823418979705513, 0.8896593129397196, 0.9188972476983569, 0.9197751926264194, 0.18574272447952783, 0.3569002494696944, 0.3530940582637372, 0.48786467817557977, 0.4951641338242244, 0.5525798204123605, 0.6215970102901367, 0.6031884623710237, 0.6075073792783858, 0.6549629330651764, 0.7484594632355789, 0.6975731718181319, 0.7708731477971967, 0.7319645301256924, 0.8695264268566518, 0.8915226862413793, 0.899407477002634, 0.7576612671871249, 0.7682471671782038, 0.7923355863624859, 0.8021947487949149, 0.7697011782294727, 0.8093092294748973, 0.8386304434428975, 0.8760518144469017, 0.9429407451360153, 0.9467169746024008, 0.9614902854073327, 0.9619262608936561, 0.3345232427816251, 0.5501490657569412, 0.5460318045784037, 0.6773381353241036, 0.6836879659197866, 0.7312976421291345, 0.7835454995496114, 0.7701015594056444, 0.7732866039614334, 0.8070638230151164, 0.8676719230322341, 0.8356050860632572, 0.8811498824132219, 0.8575061181993356, 0.9362488772588452, 0.9476734622836264, 0.9516979991790191, 0.47595570763090495, 0.5110907171024137, 0.5263198855053316, 0.4779975120337244, 0.5376377849369396, 0.5874373489565885, 0.6594558224519007, 0.8190940548375314, 0.8295852747564576, 0.872459517391109, 0.8737711002191297, 0.12105377555669689, 0.25097510012319196, 0.24786316809434486, 0.36513950359760133, 0.37193628683377233, 0.42715328500274663, 0.49793932951618347, 0.47856146674856215, 0.4830743709905917, 0.5340352378661255, 0.642409599879529, 0.5820496423231408, 0.6701078884765113, 0.6224682036718685, 0.8009437138456136, 0.8322718816620818, 0.8437083779578124, 0.5108835974920892, 0.5261132355297479, 0.4777906974117947, 0.5374317330388666, 0.5872364517524995, 0.6592696533848512, 0.8189711999477318, 0.8294680612212872, 0.8723672563417257, 0.8736796505802213, 0.12096561076105533, 0.25081931420119213, 0.2477086750075824, 0.36494738052094466, 0.37174268159372886, 0.42695047615067144, 0.4977321137281399, 0.47835463172381315, 0.4828673916872674, 0.5338289725563439, 0.6422191678077146, 0.5818479890774158, 0.6699246279828399, 0.622273396138993, 0.8008115303622594, 0.8321561421424268, 0.8435990470997399, 0.5141991393324632, 0.4658950554770271, 0.5255455777486264, 0.5756195045296816, 0.6484664267002619, 0.811785908987284, 0.8226091615625588, 0.8669570371684212, 0.8683166649615152, 0.11598081686157531, 0.24195635433768192, 0.23892057905123526, 0.353956934568965, 0.36066381565568617, 0.4153139368921158, 0.48580185779336804, 0.46645749081851684, 0.47095934522836974, 0.5219325913275762, 0.6311777728692214, 0.570190386165694, 0.6592846371185898, 0.6109893107444105, 0.7930875615515738, 0.8253825984060199, 0.8371969506826, 0.46140577409041206, 0.5210422388157628, 0.5712036617499604, 0.6443402362944674, 0.8090121139715054, 0.8199594976475348, 0.864860968964724, 0.8662387124902807, 0.11414268368916211, 0.23866069497684003, 0.23565341515487417, 0.3498397735099231, 0.35651169211923955, 0.41093705078508797, 0.4812936097503909, 0.461967477457962, 0.46646388380464465, 0.5174264483695298, 0.626965389811118, 0.5657606681459827, 0.6552179132680633, 0.6066900320481481, 0.7901094493304697, 0.8227654354525755, 0.834721403042008, 0.6048312818389917, 0.6520770744902327, 0.7182242671223846, 0.856315865253718, 0.8650042526400462, 0.9000412230853478, 0.9011013175034625, 0.15346375809838766, 0.3060570500525337, 0.30253799914744867, 0.43086434092751325, 0.4380404087860439, 0.4953313927008631, 0.5662475909689945, 0.5471082444019316, 0.5515837788124468, 0.601364093244488, 0.7027939700366778, 0.6470262883884492, 0.7277968563518611, 0.6845665243142847, 0.8411758756172854, 0.8672218468721445, 0.8766285402188462, 0.5806574705122698, 0.653160681288568, 0.8149217050981937, 0.8256033728434862, 0.8693216071916676, 0.8706606754129198, 0.11811557488579573, 0.24576520909830785, 0.24269694511516668, 0.35869461898189253, 0.36544049125869393, 0.4203385398595816, 0.4909631590066521, 0.4716017666562504, 0.4761089654815203, 0.527084272679042, 0.6359732934808818, 0.5752452441609194, 0.6639093019945659, 0.6158875814117167, 0.7964567756355925, 0.8283397652575396, 0.8399928267056868, 0.6117118257559143, 0.7864847470853236, 0.7984016234421698, 0.8476807991321742, 0.8492031551952784, 0.10075665304330829, 0.21420286949718267, 0.21141819365383407, 0.3187586517130955, 0.3251342401125071, 0.37758018706067314, 0.4465551167450208, 0.42747432635491134, 0.4319045097513475, 0.4825059453557238, 0.5937479934617028, 0.5311686501227483, 0.6230035521548214, 0.5728970994100171, 0.7659973803539104, 0.8014621901879189, 0.8145312924843026, 0.7200756875985291, 0.7344475659570949, 0.7953527305221278, 0.7972730036423166, 0.07256948002484392, 0.1599227342011888, 0.15770209225973786, 0.24628769551435586, 0.2517494310494552, 0.2975776158180008, 0.36040026252626567, 0.34272112403999405, 0.3468050141043556, 0.3943573193717736, 0.5051131519783958, 0.44171825404156534, 0.5357609534261885, 0.4836691027059989, 0.6956817893944609, 0.7381606343872277, 0.7541182931199173, 0.47797600421441566, 0.5626781874271413, 0.5655892549505289, 0.02525054448046805, 0.0592861990973604, 0.05836588006217855, 0.09761855705532481, 0.10022176441932742, 0.12300037687922408, 0.15721645147331584, 0.14721031894902195, 0.1494943698250261, 0.17733738929771445, 0.252559847741593, 0.20756748543286754, 0.27644376619447725, 0.2367092996595416, 0.4307870186787146, 0.482749583720839, 0.5038097691369605, 0.5630444644696504, 0.5659549746100565, 0.025287210163993813, 0.05936927692680852, 0.05844774837458615, 0.09774976851278283, 0.1003560857743445, 0.12316104830583477, 0.15741379582794665, 0.14739729988561812, 0.14968374266526308, 0.17755466928313982, 0.25284096643929105, 0.207812447992576, 0.2767416265098058, 0.23697836920427176, 0.4311520844811782, 0.4831213096956887, 0.5041819048330379, 0.4617117869121564, 0.016779695857902458, 0.039864306036775335, 0.039232905511963255, 0.0665272215920077, 0.06836412570236436, 0.08458271907737792, 0.10944550746562083, 0.10211140933362983, 0.10378088003624006, 0.12435471711597015, 0.1820772450562591, 0.1471687621311249, 0.2010890363392711, 0.1696461646571661, 0.332705948388769, 0.3807514455327749, 0.40080993557567596, 0.01715209526415586, 0.040727810608252236, 0.040083304229795724, 0.06792741394013763, 0.06980008832962378, 0.08632778019394767, 0.11164096500392655, 0.10417695632256892, 0.10587621555881466, 0.12680666511249034, 0.1854263181559876, 0.14999348904777524, 0.20470028835181625, 0.17281489534604386, 0.33768178195816395, 0.3860301480285876, 0.40618431988877746, 0.7474149260011513, 0.7442638674756987, 0.8355062238164441, 0.8394810388708606, 0.8681632807123326, 0.8975273937784886, 0.8901705261833752, 0.8919255641443812, 0.9100825003786465, 0.9407063478458656, 0.9248040108112782, 0.9471982421292465, 0.9357356892599181, 0.9726283411972636, 0.9776888672489047, 0.9794549084219819, 0.46926062769939564, 0.6067813891360685, 0.6137278963799525, 0.6667347167672096, 0.7268473984873383, 0.7111800023351265, 0.7148791262207317, 0.7545967030445367, 0.8281776468352, 0.7888690425453753, 0.8449594208824758, 0.8156225112964014, 0.9152220869628421, 0.9301336076467439, 0.9354152320444206, 0.652082644532491, 0.6586790371925734, 0.7084477153171619, 0.7637029880055697, 0.7494207621009754, 0.7528003511716524, 0.7887961190194992, 0.8541053863369904, 0.8194351428568013, 0.8687561239915181, 0.8430858430769209, 0.9291388057526988, 0.9417582956138031, 0.9462119577241025, 0.4811186092456704, 0.5386433600097503, 0.6082863908748526, 0.5896577729405605, 0.5940248395563904, 0.6421503098005422, 0.7377284648153908, 0.6855832562753826, 0.7607927433547272, 0.7207923470702181, 0.8630149949299797, 0.885965037269819, 0.8942058546691575, 0.5471493779796126, 0.6164227655699746, 0.597925321751265, 0.602263750278572, 0.6499880274341266, 0.7443063531228444, 0.692924594832515, 0.7669748871883378, 0.7276381817698411, 0.8670170612785298, 0.8893825507796866, 0.8974049982273747, 0.5449486116527223, 0.525656728663532, 0.5301622028562565, 0.5805120324621851, 0.6844636788029714, 0.6270815774984299, 0.7103731314824909, 0.665646877624436, 0.8293074428410889, 0.8569687992317128, 0.8669904637964974, 0.4557418386770294, 0.460229482562536, 0.5111634856131533, 0.6210829804203332, 0.5595910763785136, 0.6495319804621933, 0.60069152808142, 0.7859212397764873, 0.8190796415738052, 0.8312332461323847, 0.513591199480912, 0.5642572945594221, 0.6699468096644472, 0.6114234716052401, 0.6965197571539445, 0.6507060885596387, 0.8196990161880283, 0.8486332521249265, 0.8591429606958243, 0.5766603887344247, 0.6810420745177372, 0.6233801157664001, 0.7071122599019546, 0.6621219528707536, 0.8270596416676401, 0.8550215822791124, 0.8651582135266475, 0.6179717950297501, 0.5563356630664079, 0.6465214401260025, 0.5975214123174316, 0.7836921262421022, 0.8171154493576401, 0.8293735149031942, 0.4415525738127877, 0.5355938397181438, 0.4835013148168669, 0.6955395288077988, 0.7380307538021603, 0.753993690042773, 0.6093871404617968, 0.5587527071634015, 0.7555189028724327, 0.7921408625393459, 0.8056747839165812, 0.4581029457773522, 0.6735275147390891, 0.7178445685916381, 0.7345952029949135, 0.7470259887925839, 0.7845573648633649, 0.7984594282054663, 0.5344136547578987, 0.5553080077844706, 0.501114443923161]\n"
          ]
        }
      ],
      "id": "W_-vzrviYJpe"
    },
    {
      "cell_type": "code",
      "execution_count": null,
      "metadata": {
        "colab": {
          "base_uri": "https://localhost:8080/"
        },
        "outputId": "4cd0d825-52b7-4b5b-baa0-0b1250b1a82e",
        "id": "eLOP257kYJpf"
      },
      "outputs": [
        {
          "output_type": "stream",
          "name": "stdout",
          "text": [
            "[0.4347359690631351, 0.4535949931235947, 0.42628230957575725, 0.5136485985362689, 0.531204239062491, 0.5687381205690305, 0.5943376781360955, 0.6249431103737095, 0.6044433466578656, 0.5966849166137405, 0.6293398592681395, 0.6226134253863795, 0.649926108934217, 0.649926108934217, 0.6431131891022234, 0.649926108934217, 0.4467820732916011, 0.42628230957575725, 0.47504026705157054, 0.4622963418201411, 0.5127030883241371, 0.5664084355817005, 0.5687381205690305, 0.6158694380143046, 0.6226134253863795, 0.603497836445734, 0.6226134253863795, 0.631756030205703, 0.603497836445734, 0.6465505134530681, 0.649926108934217, 0.649926108934217, 0.649926108934217, 0.42628230957575725, 0.44213696268282127, 0.45454050333572643, 0.4467820732916011, 0.4853904047762996, 0.5472928466410548, 0.5472928466410548, 0.6209475020205338, 0.6276914893926088, 0.6100956105266087, 0.603497836445734, 0.603497836445734, 0.631756030205703, 0.649926108934217, 0.649926108934217, 0.649926108934217, 0.649926108934217, 0.42628230957575725, 0.4467820732916011, 0.45454050333572643, 0.45454050333572643, 0.5058901684921436, 0.5472928466410548, 0.5687381205690305, 0.6124938425331559, 0.6249431103737095, 0.603497836445734, 0.6431131891022234, 0.603497836445734, 0.649926108934217, 0.631756030205703, 0.649926108934217, 0.649926108934217, 0.649926108934217, 0.455459463240896, 0.42814677969305853, 0.5155130686535702, 0.5330687091797923, 0.5706025906863318, 0.5962021482533967, 0.6268075804910108, 0.6063078167751669, 0.5985493867310416, 0.6312043293854408, 0.6244778955036809, 0.6517905790515183, 0.6517905790515183, 0.6449776592195248, 0.6517905790515183, 0.4486465434089024, 0.42814677969305853, 0.4769047371688718, 0.4641608119374424, 0.5145675584414384, 0.5682729056990018, 0.5706025906863318, 0.617733908131606, 0.6244778955036809, 0.6053623065630351, 0.6244778955036809, 0.6336205003230043, 0.6053623065630351, 0.6484149835703695, 0.6517905790515183, 0.6517905790515183, 0.6517905790515183, 0.42814677969305853, 0.4440014328001226, 0.4564049734530278, 0.4486465434089024, 0.4872548748936009, 0.5491573167583561, 0.5491573167583561, 0.6228119721378351, 0.6295559595099101, 0.6119600806439098, 0.6053623065630351, 0.6053623065630351, 0.6336205003230043, 0.6517905790515183, 0.6517905790515183, 0.6517905790515183, 0.6517905790515183, 0.42814677969305853, 0.4486465434089024, 0.4564049734530278, 0.4564049734530278, 0.5077546386094449, 0.5491573167583561, 0.5706025906863318, 0.6143583126504573, 0.6268075804910108, 0.6053623065630351, 0.6449776592195248, 0.6053623065630351, 0.6517905790515183, 0.6336205003230043, 0.6517905790515183, 0.6517905790515183, 0.6517905790515183, 0.41550080664694355, 0.5028670956074551, 0.5204227361336773, 0.5579566176402168, 0.5835561752072819, 0.6141616074448958, 0.5936618437290518, 0.5859034136849268, 0.6185583563393258, 0.6118319224575659, 0.6391446060054033, 0.6391446060054033, 0.6323316861734098, 0.6391446060054033, 0.4360005703627875, 0.41550080664694355, 0.4642587641227568, 0.45151483889132743, 0.5019215853953234, 0.5556269326528868, 0.5579566176402168, 0.605087935085491, 0.6118319224575659, 0.5927163335169203, 0.6118319224575659, 0.6209745272768893, 0.5927163335169203, 0.6357690105242546, 0.6391446060054033, 0.6391446060054033, 0.6391446060054033, 0.41550080664694355, 0.4313554597540076, 0.4437590004069128, 0.4360005703627875, 0.47460890184748594, 0.5365113437122412, 0.5365113437122412, 0.6101659990917202, 0.616909986463795, 0.599314107597795, 0.5927163335169203, 0.5927163335169203, 0.6209745272768893, 0.6391446060054033, 0.6391446060054033, 0.6391446060054033, 0.6391446060054033, 0.41550080664694355, 0.4360005703627875, 0.4437590004069128, 0.4437590004069128, 0.49510866556332994, 0.5365113437122412, 0.5579566176402168, 0.6017123396043422, 0.6141616074448958, 0.5927163335169203, 0.6323316861734098, 0.5927163335169203, 0.6391446060054033, 0.6209745272768893, 0.6391446060054033, 0.6391446060054033, 0.6391446060054033, 0.5101756776094206, 0.5277313181356428, 0.5652651996421822, 0.5908647572092472, 0.6214701894468613, 0.6009704257310173, 0.5932119956868922, 0.6258669383412913, 0.6191405044595313, 0.6464531880073687, 0.6464531880073687, 0.6396402681753752, 0.6464531880073687, 0.44330915236475293, 0.422809388648909, 0.47156734612472223, 0.45882342089329287, 0.5092301673972889, 0.5629355146548523, 0.5652651996421822, 0.6123965170874563, 0.6191405044595313, 0.6000249155188857, 0.6191405044595313, 0.6282831092788548, 0.6000249155188857, 0.6430775925262199, 0.6464531880073687, 0.6464531880073687, 0.6464531880073687, 0.422809388648909, 0.438664041755973, 0.45106758240887823, 0.44330915236475293, 0.4819174838494514, 0.5438199257142066, 0.5438199257142066, 0.6174745810936855, 0.6242185684657604, 0.6066226895997604, 0.6000249155188857, 0.6000249155188857, 0.6282831092788548, 0.6464531880073687, 0.6464531880073687, 0.6464531880073687, 0.6464531880073687, 0.422809388648909, 0.44330915236475293, 0.45106758240887823, 0.45106758240887823, 0.5024172475652954, 0.5438199257142066, 0.5652651996421822, 0.6090209216063076, 0.6214701894468613, 0.6000249155188857, 0.6396402681753752, 0.6000249155188857, 0.6464531880073687, 0.6282831092788548, 0.6464531880073687, 0.6464531880073687, 0.6464531880073687, 0.49270360812382635, 0.530237489630366, 0.5558370471974311, 0.5864424794350451, 0.5659427157192012, 0.558184285675076, 0.5908392283294751, 0.5841127944477151, 0.6114254779955526, 0.6114254779955526, 0.6046125581635591, 0.6114254779955526, 0.40828144235293673, 0.3877816786370928, 0.43653963611290586, 0.42379571088147655, 0.47420245738547256, 0.5279078046430361, 0.530237489630366, 0.5773688070756403, 0.5841127944477151, 0.5649972055070696, 0.5841127944477151, 0.5932553992670386, 0.5649972055070696, 0.6080498825144038, 0.6114254779955526, 0.6114254779955526, 0.6114254779955526, 0.3877816786370928, 0.40363633174415675, 0.4160398723970619, 0.40828144235293673, 0.44688977383763506, 0.5087922157023903, 0.5087922157023903, 0.5824468710818693, 0.5891908584539443, 0.5715949795879443, 0.5649972055070696, 0.5649972055070696, 0.5932553992670386, 0.6114254779955526, 0.6114254779955526, 0.6114254779955526, 0.6114254779955526, 0.3877816786370928, 0.40828144235293673, 0.4160398723970619, 0.4160398723970619, 0.46738953755347906, 0.5087922157023903, 0.530237489630366, 0.5739932115944915, 0.5864424794350451, 0.5649972055070696, 0.6046125581635591, 0.5649972055070696, 0.6114254779955526, 0.5932553992670386, 0.6114254779955526, 0.6114254779955526, 0.6114254779955526, 0.5611502525685776, 0.5867498101356428, 0.6173552423732568, 0.5968554786574128, 0.5890970486132877, 0.6217519912676868, 0.6150255573859268, 0.6423382409337642, 0.6423382409337642, 0.6355253211017707, 0.6423382409337642, 0.43919420529114844, 0.4186944415753045, 0.46745239905111774, 0.4547084738196883, 0.5051152203236843, 0.5588205675812479, 0.5611502525685776, 0.608281570013852, 0.6150255573859268, 0.5959099684452812, 0.6150255573859268, 0.6241681622052503, 0.5959099684452812, 0.6389626454526155, 0.6423382409337642, 0.6423382409337642, 0.6423382409337642, 0.4186944415753045, 0.43454909468236846, 0.44695263533527374, 0.43919420529114844, 0.4778025367758469, 0.5397049786406022, 0.5397049786406022, 0.6133596340200811, 0.6201036213921559, 0.6025077425261559, 0.5959099684452812, 0.5959099684452812, 0.6241681622052503, 0.6423382409337642, 0.6423382409337642, 0.6423382409337642, 0.6423382409337642, 0.4186944415753045, 0.43919420529114844, 0.44695263533527374, 0.44695263533527374, 0.49830230049169083, 0.5397049786406022, 0.5611502525685776, 0.6049059745327032, 0.6173552423732568, 0.5959099684452812, 0.6355253211017707, 0.5959099684452812, 0.6423382409337642, 0.6241681622052503, 0.6423382409337642, 0.6423382409337642, 0.6423382409337642, 0.5716131490750387, 0.6022185813126528, 0.5817188175968088, 0.5739603875526836, 0.6066153302070828, 0.5998888963253228, 0.6272015798731602, 0.6272015798731602, 0.6203886600411667, 0.6272015798731602, 0.4240575442305443, 0.40355778051470037, 0.45231573799051367, 0.43957181275908425, 0.48997855926308026, 0.5436839065206437, 0.5460135915079737, 0.5931449089532479, 0.5998888963253228, 0.5807733073846771, 0.5998888963253228, 0.6090315011446463, 0.5807733073846771, 0.6238259843920114, 0.6272015798731602, 0.6272015798731602, 0.6272015798731602, 0.40355778051470037, 0.41941243362176445, 0.43181597427466967, 0.4240575442305443, 0.46266587571524276, 0.524568317579998, 0.524568317579998, 0.598222972959477, 0.604966960331552, 0.5873710814655518, 0.5807733073846771, 0.5807733073846771, 0.6090315011446463, 0.6272015798731602, 0.6272015798731602, 0.6272015798731602, 0.6272015798731602, 0.40355778051470037, 0.4240575442305443, 0.43181597427466967, 0.43181597427466967, 0.48316563943108676, 0.524568317579998, 0.5460135915079737, 0.5897693134720992, 0.6022185813126528, 0.5807733073846771, 0.6203886600411667, 0.5807733073846771, 0.6272015798731602, 0.6090315011446463, 0.6272015798731602, 0.6272015798731602, 0.6272015798731602, 0.6106684637473718, 0.5901687000315279, 0.5824102699874028, 0.6150652126418018, 0.6083387787600418, 0.6356514623078793, 0.6356514623078793, 0.6288385424758858, 0.6356514623078793, 0.43250742666526343, 0.4120076629494196, 0.4607656204252328, 0.44802169519380336, 0.49842844169779943, 0.5521337889553629, 0.5544634739426928, 0.601594791387967, 0.6083387787600418, 0.5892231898193963, 0.6083387787600418, 0.6174813835793653, 0.5892231898193963, 0.6322758668267305, 0.6356514623078793, 0.6356514623078793, 0.6356514623078793, 0.4120076629494196, 0.42786231605648356, 0.4402658567093888, 0.43250742666526343, 0.4711157581499619, 0.5330182000147172, 0.5330182000147172, 0.6066728553941961, 0.6134168427662711, 0.595820963900271, 0.5892231898193963, 0.5892231898193963, 0.6174813835793653, 0.6356514623078793, 0.6356514623078793, 0.6356514623078793, 0.6356514623078793, 0.4120076629494196, 0.43250742666526343, 0.4402658567093888, 0.4402658567093888, 0.4916155218658059, 0.5330182000147172, 0.5544634739426928, 0.5982191959068183, 0.6106684637473718, 0.5892231898193963, 0.6288385424758858, 0.5892231898193963, 0.6356514623078793, 0.6174813835793653, 0.6356514623078793, 0.6356514623078793, 0.6356514623078793, 0.5581411175761555, 0.5503826875320303, 0.5830376301864294, 0.5763111963046694, 0.6036238798525069, 0.6036238798525069, 0.5968109600205134, 0.6036238798525069, 0.400479844209891, 0.3799800804940471, 0.42873803796986015, 0.4159941127384309, 0.4664008592424269, 0.5201062064999904, 0.5224358914873204, 0.5695672089325946, 0.5763111963046694, 0.5571956073640238, 0.5763111963046694, 0.5854538011239929, 0.5571956073640238, 0.6002482843713581, 0.6036238798525069, 0.6036238798525069, 0.6036238798525069, 0.3799800804940471, 0.39583473360111116, 0.40823827425401626, 0.400479844209891, 0.4390881756945894, 0.5009906175593446, 0.5009906175593446, 0.5746452729388237, 0.5813892603108985, 0.5637933814448985, 0.5571956073640238, 0.5571956073640238, 0.5854538011239929, 0.6036238798525069, 0.6036238798525069, 0.6036238798525069, 0.6036238798525069, 0.3799800804940471, 0.400479844209891, 0.40823827425401626, 0.40823827425401626, 0.4595879394104333, 0.5009906175593446, 0.5224358914873204, 0.5661916134514459, 0.5786408812919994, 0.5571956073640238, 0.5968109600205134, 0.5571956073640238, 0.6036238798525069, 0.5854538011239929, 0.6036238798525069, 0.6036238798525069, 0.6036238798525069, 0.5587221898336063, 0.5913771324880054, 0.5846506986062454, 0.6119633821540829, 0.6119633821540829, 0.6051504623220894, 0.6119633821540829, 0.408819346511467, 0.388319582795623, 0.4370775402714362, 0.4243336150400069, 0.4747403615440029, 0.5284457088015664, 0.5307753937888964, 0.5779067112341706, 0.5846506986062454, 0.5655351096655998, 0.5846506986062454, 0.5937933034255689, 0.5655351096655998, 0.6085877866729341, 0.6119633821540829, 0.6119633821540829, 0.6119633821540829, 0.388319582795623, 0.40417423590268703, 0.41657777655559225, 0.408819346511467, 0.4474276779961654, 0.5093301198609206, 0.5093301198609206, 0.5829847752403997, 0.5897287626124745, 0.5721328837464745, 0.5655351096655998, 0.5655351096655998, 0.5937933034255689, 0.6119633821540829, 0.6119633821540829, 0.6119633821540829, 0.6119633821540829, 0.388319582795623, 0.408819346511467, 0.41657777655559225, 0.41657777655559225, 0.4679274417120093, 0.5093301198609206, 0.5307753937888964, 0.5745311157530218, 0.5869803835935754, 0.5655351096655998, 0.6051504623220894, 0.5655351096655998, 0.6119633821540829, 0.5937933034255689, 0.6119633821540829, 0.6119633821540829, 0.6119633821540829, 0.6180653401982455, 0.6113389063164856, 0.638651589864323, 0.638651589864323, 0.6318386700323295, 0.638651589864323, 0.43550755422170717, 0.41500779050586334, 0.4637657479816765, 0.4510218227502471, 0.5014285692542432, 0.5551339165118065, 0.5574636014991365, 0.6045949189444108, 0.6113389063164856, 0.59222331737584, 0.6113389063164856, 0.6204815111358091, 0.59222331737584, 0.6352759943831743, 0.638651589864323, 0.638651589864323, 0.638651589864323, 0.41500779050586334, 0.4308624436129273, 0.4432659842658325, 0.43550755422170717, 0.47411588570640567, 0.536018327571161, 0.536018327571161, 0.6096729829506399, 0.6164169703227148, 0.5988210914567147, 0.59222331737584, 0.59222331737584, 0.6204815111358091, 0.638651589864323, 0.638651589864323, 0.638651589864323, 0.638651589864323, 0.41500779050586334, 0.43550755422170717, 0.4432659842658325, 0.4432659842658325, 0.49461564942224967, 0.536018327571161, 0.5574636014991365, 0.601219323463262, 0.6136685913038156, 0.59222331737584, 0.6318386700323295, 0.59222331737584, 0.638651589864323, 0.6204815111358091, 0.638651589864323, 0.638651589864323, 0.638651589864323, 0.5768491004631998, 0.6041617840110373, 0.6041617840110373, 0.5973488641790436, 0.6041617840110373, 0.4010177483684213, 0.3805179846525774, 0.4292759421283905, 0.4165320168969612, 0.46693876340095714, 0.5206441106585207, 0.5229737956458507, 0.5701051130911249, 0.5768491004631998, 0.5577335115225541, 0.5768491004631998, 0.5859917052825232, 0.5577335115225541, 0.6007861885298884, 0.6041617840110373, 0.6041617840110373, 0.6041617840110373, 0.3805179846525774, 0.39637263775964143, 0.40877617841254654, 0.4010177483684213, 0.4396260798531197, 0.5015285217178749, 0.5015285217178749, 0.575183177097354, 0.5819271644694289, 0.5643312856034288, 0.5577335115225541, 0.5577335115225541, 0.5859917052825232, 0.6041617840110373, 0.6041617840110373, 0.6041617840110373, 0.6041617840110373, 0.3805179846525774, 0.4010177483684213, 0.40877617841254654, 0.40877617841254654, 0.46012584356896363, 0.5015285217178749, 0.5229737956458507, 0.5667295176099761, 0.5791787854505297, 0.5577335115225541, 0.5973488641790436, 0.5577335115225541, 0.6041617840110373, 0.5859917052825232, 0.6041617840110373, 0.6041617840110373, 0.6041617840110373, 0.5891625742925078, 0.5891625742925078, 0.5823496544605143, 0.5891625742925078, 0.3860185386498917, 0.36551877493404794, 0.41427673240986096, 0.40153280717843176, 0.45193955368242766, 0.5056449009399911, 0.5079745859273211, 0.5551059033725954, 0.5618498907446703, 0.5427343018040246, 0.5618498907446703, 0.5709924955639939, 0.5427343018040246, 0.5857869788113591, 0.5891625742925078, 0.5891625742925078, 0.5891625742925078, 0.36551877493404794, 0.3813734280411119, 0.3937769686940171, 0.3860185386498917, 0.4246268701345903, 0.48652931199934535, 0.48652931199934535, 0.5601839673788246, 0.5669279547508994, 0.5493320758848994, 0.5427343018040246, 0.5427343018040246, 0.5709924955639939, 0.5891625742925078, 0.5891625742925078, 0.5891625742925078, 0.5891625742925078, 0.36551877493404794, 0.3860185386498917, 0.3937769686940171, 0.3937769686940171, 0.44512663385043416, 0.48652931199934535, 0.5079745859273211, 0.5517303078914467, 0.5641795757320004, 0.5427343018040246, 0.5823496544605143, 0.5427343018040246, 0.5891625742925078, 0.5709924955639939, 0.5891625742925078, 0.5891625742925078, 0.5891625742925078, 0.5635303966821086, 0.5567174768501151, 0.5635303966821086, 0.3603863610394927, 0.3398865973236488, 0.38864455479946186, 0.3759006295680326, 0.42630737607202845, 0.48001272332959205, 0.482342408316922, 0.5294737257621963, 0.5362177131342712, 0.5171021241936254, 0.5362177131342712, 0.5453603179535947, 0.5171021241936254, 0.5601548012009598, 0.5635303966821086, 0.5635303966821086, 0.5635303966821086, 0.3398865973236488, 0.35574125043071275, 0.368144791083618, 0.3603863610394927, 0.3989946925241911, 0.4608971343889462, 0.4608971343889462, 0.5345517897684254, 0.5412957771405004, 0.5236998982745003, 0.5171021241936254, 0.5171021241936254, 0.5453603179535947, 0.5635303966821086, 0.5635303966821086, 0.5635303966821086, 0.5635303966821086, 0.3398865973236488, 0.3603863610394927, 0.368144791083618, 0.368144791083618, 0.41949445624003495, 0.4608971343889462, 0.482342408316922, 0.5260981302810476, 0.5385473981216012, 0.5171021241936254, 0.5567174768501151, 0.5171021241936254, 0.5635303966821086, 0.5453603179535947, 0.5635303966821086, 0.5635303966821086, 0.5635303966821086, 0.5624470927034401, 0.5692600125354336, 0.3661159768928175, 0.3456162131769736, 0.39437417065278674, 0.38163024542135754, 0.43203699192535333, 0.48574233918291687, 0.4880720241702468, 0.5352033416155212, 0.5419473289875961, 0.5228317400469503, 0.5419473289875961, 0.5510899338069195, 0.5228317400469503, 0.5658844170542847, 0.5692600125354336, 0.5692600125354336, 0.5692600125354336, 0.3456162131769736, 0.36147086628403763, 0.37387440693694285, 0.3661159768928175, 0.40472430837751594, 0.46662675024227107, 0.46662675024227107, 0.5402814056217503, 0.5470253929938252, 0.5294295141278251, 0.5228317400469503, 0.5228317400469503, 0.5510899338069195, 0.5692600125354336, 0.5692600125354336, 0.5692600125354336, 0.5692600125354336, 0.3456162131769736, 0.3661159768928175, 0.37387440693694285, 0.37387440693694285, 0.42522407209335983, 0.46662675024227107, 0.4880720241702468, 0.5318277461343724, 0.544277013974926, 0.5228317400469503, 0.5624470927034401, 0.5228317400469503, 0.5692600125354336, 0.5510899338069195, 0.5692600125354336, 0.5692600125354336, 0.5692600125354336, 0.5850636258136569, 0.38191959017104077, 0.361419826455197, 0.41017778393100995, 0.39743385869958076, 0.4478406052035767, 0.5015459524611402, 0.5038756374484702, 0.5510069548937444, 0.5577509422658192, 0.5386353533251736, 0.5577509422658192, 0.5668935470851428, 0.5386353533251736, 0.5816880303325082, 0.5850636258136569, 0.5850636258136569, 0.5850636258136569, 0.361419826455197, 0.37727447956226096, 0.3896780202151661, 0.38191959017104077, 0.42052792165573927, 0.48243036352049434, 0.48243036352049434, 0.5560850188999735, 0.5628290062720485, 0.5452331274060485, 0.5386353533251736, 0.5386353533251736, 0.5668935470851428, 0.5850636258136569, 0.5850636258136569, 0.5850636258136569, 0.5850636258136569, 0.361419826455197, 0.38191959017104077, 0.3896780202151661, 0.3896780202151661, 0.4410276853715832, 0.48243036352049434, 0.5038756374484702, 0.5476313594125957, 0.5600806272531493, 0.5386353533251736, 0.5782507059816634, 0.5386353533251736, 0.5850636258136569, 0.5668935470851428, 0.5850636258136569, 0.5850636258136569, 0.5850636258136569, 0.35815188267794296, 0.33765211896209907, 0.3864100764379122, 0.373666151206483, 0.4240728977104788, 0.47777824496804233, 0.4801079299553723, 0.5272392474006466, 0.5339832347727216, 0.5148676458320758, 0.5339832347727216, 0.5431258395920451, 0.5148676458320758, 0.5579203228394102, 0.5612959183205589, 0.5612959183205589, 0.5612959183205589, 0.33765211896209907, 0.3535067720691631, 0.36591031272206825, 0.35815188267794296, 0.3967602141626414, 0.45866265602739653, 0.45866265602739653, 0.5323173114068758, 0.5390612987789507, 0.5214654199129506, 0.5148676458320758, 0.5148676458320758, 0.5431258395920451, 0.5612959183205589, 0.5612959183205589, 0.5612959183205589, 0.5612959183205589, 0.33765211896209907, 0.35815188267794296, 0.36591031272206825, 0.36591031272206825, 0.4172599778784853, 0.45866265602739653, 0.4801079299553723, 0.5238636519194979, 0.5363129197600515, 0.5148676458320758, 0.5544829984885654, 0.5148676458320758, 0.5612959183205589, 0.5431258395920451, 0.5612959183205589, 0.5612959183205589, 0.5612959183205589, 0.42628230957575725, 0.47504026705157054, 0.4622963418201411, 0.5127030883241371, 0.5664084355817005, 0.5687381205690305, 0.6158694380143046, 0.6226134253863795, 0.603497836445734, 0.6226134253863795, 0.631756030205703, 0.603497836445734, 0.6465505134530681, 0.649926108934217, 0.649926108934217, 0.649926108934217, 0.42628230957575725, 0.44213696268282127, 0.45454050333572643, 0.4467820732916011, 0.4853904047762996, 0.5472928466410548, 0.5472928466410548, 0.6209475020205338, 0.6276914893926088, 0.6100956105266087, 0.603497836445734, 0.603497836445734, 0.631756030205703, 0.649926108934217, 0.649926108934217, 0.649926108934217, 0.649926108934217, 0.42628230957575725, 0.4467820732916011, 0.45454050333572643, 0.45454050333572643, 0.5058901684921436, 0.5472928466410548, 0.5687381205690305, 0.6124938425331559, 0.6249431103737095, 0.603497836445734, 0.6431131891022234, 0.603497836445734, 0.649926108934217, 0.631756030205703, 0.649926108934217, 0.649926108934217, 0.649926108934217, 0.4704316886855798, 0.4576877634541504, 0.5080945099581464, 0.5617998572157098, 0.5641295422030398, 0.611260859648314, 0.6180048470203888, 0.5988892580797432, 0.6180048470203888, 0.6271474518397123, 0.5988892580797432, 0.6419419350870775, 0.6453175305682263, 0.6453175305682263, 0.6453175305682263, 0.42167373120976653, 0.4375283843168306, 0.4499319249697358, 0.4421734949256105, 0.4807818264103089, 0.5426842682750642, 0.5426842682750642, 0.6163389236545431, 0.6230829110266181, 0.6054870321606179, 0.5988892580797432, 0.5988892580797432, 0.6271474518397123, 0.6453175305682263, 0.6453175305682263, 0.6453175305682263, 0.6453175305682263, 0.42167373120976653, 0.4421734949256105, 0.4499319249697358, 0.4499319249697358, 0.5012815901261529, 0.5426842682750642, 0.5641295422030398, 0.6078852641671653, 0.6203345320077188, 0.5988892580797432, 0.6385046107362328, 0.5988892580797432, 0.6453175305682263, 0.6271474518397123, 0.6453175305682263, 0.6453175305682263, 0.6453175305682263, 0.4243336150400069, 0.4747403615440029, 0.5284457088015664, 0.5307753937888964, 0.5779067112341706, 0.5846506986062454, 0.5655351096655998, 0.5846506986062454, 0.5937933034255689, 0.5655351096655998, 0.6085877866729341, 0.6119633821540829, 0.6119633821540829, 0.6119633821540829, 0.388319582795623, 0.40417423590268703, 0.41657777655559225, 0.408819346511467, 0.4474276779961654, 0.5093301198609206, 0.5093301198609206, 0.5829847752403997, 0.5897287626124745, 0.5721328837464745, 0.5655351096655998, 0.5655351096655998, 0.5937933034255689, 0.6119633821540829, 0.6119633821540829, 0.6119633821540829, 0.6119633821540829, 0.388319582795623, 0.408819346511467, 0.41657777655559225, 0.41657777655559225, 0.4679274417120093, 0.5093301198609206, 0.5307753937888964, 0.5745311157530218, 0.5869803835935754, 0.5655351096655998, 0.6051504623220894, 0.5655351096655998, 0.6119633821540829, 0.5937933034255689, 0.6119633821540829, 0.6119633821540829, 0.6119633821540829, 0.49433371739487064, 0.5480390646524341, 0.5503687496397641, 0.5975000670850382, 0.6042440544571132, 0.5851284655164676, 0.6042440544571132, 0.6133866592764367, 0.5851284655164676, 0.6281811425238019, 0.6315567380049506, 0.6315567380049506, 0.6315567380049506, 0.40791293864649086, 0.42376759175355483, 0.43617113240646005, 0.4284127023623347, 0.46702103384703314, 0.5289234757117884, 0.5289234757117884, 0.6025781310912675, 0.6093221184633424, 0.5917262395973423, 0.5851284655164676, 0.5851284655164676, 0.6133866592764367, 0.6315567380049506, 0.6315567380049506, 0.6315567380049506, 0.6315567380049506, 0.40791293864649086, 0.4284127023623347, 0.43617113240646005, 0.43617113240646005, 0.48752079756287714, 0.5289234757117884, 0.5503687496397641, 0.5941244716038895, 0.6065737394444431, 0.5851284655164676, 0.6247438181729571, 0.5851284655164676, 0.6315567380049506, 0.6133866592764367, 0.6315567380049506, 0.6315567380049506, 0.6315567380049506, 0.5556269326528868, 0.5579566176402168, 0.605087935085491, 0.6118319224575659, 0.5927163335169203, 0.6118319224575659, 0.6209745272768893, 0.5927163335169203, 0.6357690105242546, 0.6391446060054033, 0.6391446060054033, 0.6391446060054033, 0.41550080664694355, 0.4313554597540076, 0.4437590004069128, 0.4360005703627875, 0.47460890184748594, 0.5365113437122412, 0.5365113437122412, 0.6101659990917202, 0.616909986463795, 0.599314107597795, 0.5927163335169203, 0.5927163335169203, 0.6209745272768893, 0.6391446060054033, 0.6391446060054033, 0.6391446060054033, 0.6391446060054033, 0.41550080664694355, 0.4360005703627875, 0.4437590004069128, 0.4437590004069128, 0.49510866556332994, 0.5365113437122412, 0.5579566176402168, 0.6017123396043422, 0.6141616074448958, 0.5927163335169203, 0.6323316861734098, 0.5927163335169203, 0.6391446060054033, 0.6209745272768893, 0.6391446060054033, 0.6391446060054033, 0.6391446060054033, 0.5061101158100199, 0.5532414332552942, 0.559985420627369, 0.5408698316867233, 0.559985420627369, 0.5691280254466925, 0.5408698316867233, 0.5839225086940578, 0.5872981041752066, 0.5872981041752066, 0.5872981041752066, 0.36365430481674665, 0.3795089579238106, 0.3919124985767158, 0.38415406853259043, 0.42276240001728893, 0.48466484188204406, 0.48466484188204406, 0.5583194972615232, 0.565063484633598, 0.5474676057675981, 0.5408698316867233, 0.5408698316867233, 0.5691280254466925, 0.5872981041752066, 0.5872981041752066, 0.5872981041752066, 0.5872981041752066, 0.36365430481674665, 0.38415406853259043, 0.3919124985767158, 0.3919124985767158, 0.4432621637331329, 0.48466484188204406, 0.5061101158100199, 0.5498658377741453, 0.562315105614699, 0.5408698316867233, 0.5804851843432131, 0.5408698316867233, 0.5872981041752066, 0.5691280254466925, 0.5872981041752066, 0.5872981041752066, 0.5872981041752066, 0.5719695832084262, 0.5787135705805011, 0.5595979816398554, 0.5787135705805011, 0.5878561753998245, 0.5595979816398554, 0.6026506586471898, 0.6060262541283385, 0.6060262541283385, 0.6060262541283385, 0.3823824547698787, 0.3982371078769427, 0.41064064852984783, 0.40288221848572264, 0.441490549970421, 0.5033929918351762, 0.5033929918351762, 0.5770476472146553, 0.5837916345867302, 0.5661957557207302, 0.5595979816398554, 0.5595979816398554, 0.5878561753998245, 0.6060262541283385, 0.6060262541283385, 0.6060262541283385, 0.6060262541283385, 0.3823824547698787, 0.40288221848572264, 0.41064064852984783, 0.41064064852984783, 0.4619903136862649, 0.5033929918351762, 0.524838265763152, 0.5685939877272774, 0.581043255567831, 0.5595979816398554, 0.599213334296345, 0.5595979816398554, 0.6060262541283385, 0.5878561753998245, 0.6060262541283385, 0.6060262541283385, 0.6060262541283385, 0.5577509422658192, 0.5386353533251736, 0.5577509422658192, 0.5668935470851428, 0.5386353533251736, 0.5816880303325082, 0.5850636258136569, 0.5850636258136569, 0.5850636258136569, 0.361419826455197, 0.37727447956226096, 0.3896780202151661, 0.38191959017104077, 0.42052792165573927, 0.48243036352049434, 0.48243036352049434, 0.5560850188999735, 0.5628290062720485, 0.5452331274060485, 0.5386353533251736, 0.5386353533251736, 0.5668935470851428, 0.5850636258136569, 0.5850636258136569, 0.5850636258136569, 0.5850636258136569, 0.361419826455197, 0.38191959017104077, 0.3896780202151661, 0.3896780202151661, 0.4410276853715832, 0.48243036352049434, 0.5038756374484702, 0.5476313594125957, 0.5600806272531493, 0.5386353533251736, 0.5782507059816634, 0.5386353533251736, 0.5850636258136569, 0.5668935470851428, 0.5850636258136569, 0.5850636258136569, 0.5850636258136569, 0.5386353533251736, 0.5577509422658192, 0.5668935470851428, 0.5386353533251736, 0.5816880303325082, 0.5850636258136569, 0.5850636258136569, 0.5850636258136569, 0.361419826455197, 0.37727447956226096, 0.3896780202151661, 0.38191959017104077, 0.42052792165573927, 0.48243036352049434, 0.48243036352049434, 0.5560850188999735, 0.5628290062720485, 0.5452331274060485, 0.5386353533251736, 0.5386353533251736, 0.5668935470851428, 0.5850636258136569, 0.5850636258136569, 0.5850636258136569, 0.5850636258136569, 0.361419826455197, 0.38191959017104077, 0.3896780202151661, 0.3896780202151661, 0.4410276853715832, 0.48243036352049434, 0.5038756374484702, 0.5476313594125957, 0.5600806272531493, 0.5386353533251736, 0.5782507059816634, 0.5386353533251736, 0.5850636258136569, 0.5668935470851428, 0.5850636258136569, 0.5850636258136569, 0.5850636258136569, 0.5953727969664334, 0.604515401785757, 0.576257208025788, 0.6193098850331222, 0.6226854805142709, 0.6226854805142709, 0.6226854805142709, 0.39904168115581123, 0.4148963342628752, 0.42729987491578036, 0.419541444871655, 0.4581497763563535, 0.5200522182211088, 0.5200522182211088, 0.5937068736005877, 0.6004508609726626, 0.5828549821066625, 0.576257208025788, 0.576257208025788, 0.604515401785757, 0.6226854805142709, 0.6226854805142709, 0.6226854805142709, 0.6226854805142709, 0.39904168115581123, 0.419541444871655, 0.42729987491578036, 0.42729987491578036, 0.4786495400721975, 0.5200522182211088, 0.5414974921490844, 0.5852532141132099, 0.5977024819537635, 0.576257208025788, 0.6158725606822774, 0.576257208025788, 0.6226854805142709, 0.604515401785757, 0.6226854805142709, 0.6226854805142709, 0.6226854805142709, 0.5650290769678415, 0.5367708832078724, 0.5798235602152068, 0.5831991556963555, 0.5831991556963555, 0.5831991556963555, 0.35955535633789565, 0.3754100094449596, 0.3878135500978648, 0.3800551200537394, 0.418663451538438, 0.48056589340319306, 0.48056589340319306, 0.5542205487826721, 0.5609645361547471, 0.5433686572887472, 0.5367708832078724, 0.5367708832078724, 0.5650290769678415, 0.5831991556963555, 0.5831991556963555, 0.5831991556963555, 0.5831991556963555, 0.35955535633789565, 0.3800551200537394, 0.3878135500978648, 0.3878135500978648, 0.43916321525428187, 0.48056589340319306, 0.5020111673311688, 0.5457668892952944, 0.558216157135848, 0.5367708832078724, 0.576386235864362, 0.5367708832078724, 0.5831991556963555, 0.5650290769678415, 0.5831991556963555, 0.5831991556963555, 0.5831991556963555, 0.5423435098792057, 0.58539618688654, 0.5887717823676888, 0.5887717823676888, 0.5887717823676888, 0.36512798300922894, 0.3809826361162929, 0.3933861767691981, 0.38562774672507283, 0.4242360782097713, 0.4861385200745263, 0.4861385200745263, 0.5597931754540055, 0.5665371628260804, 0.5489412839600804, 0.5423435098792057, 0.5423435098792057, 0.5706017036391748, 0.5887717823676888, 0.5887717823676888, 0.5887717823676888, 0.5887717823676888, 0.36512798300922894, 0.38562774672507283, 0.3933861767691981, 0.3933861767691981, 0.4447358419256151, 0.4861385200745263, 0.5075837940025021, 0.5513395159666277, 0.5637887838071812, 0.5423435098792057, 0.5819588625356953, 0.5423435098792057, 0.5887717823676888, 0.5706017036391748, 0.5887717823676888, 0.5887717823676888, 0.5887717823676888, 0.6227828059599704, 0.6261584014411191, 0.6261584014411191, 0.6261584014411191, 0.4025146020826595, 0.41836925518972334, 0.4307727958426286, 0.42301436579850327, 0.46162269728320177, 0.523525139147957, 0.523525139147957, 0.597179794527436, 0.6039237818995109, 0.5863279030335108, 0.5797301289526362, 0.5797301289526362, 0.6079883227126053, 0.6261584014411191, 0.6261584014411191, 0.6261584014411191, 0.6261584014411191, 0.4025146020826595, 0.42301436579850327, 0.4307727958426286, 0.4307727958426286, 0.48212246099904577, 0.523525139147957, 0.5449704130759326, 0.5887261350400581, 0.6011754028806117, 0.5797301289526362, 0.6193454816091256, 0.5797301289526362, 0.6261584014411191, 0.6079883227126053, 0.6261584014411191, 0.6261584014411191, 0.6261584014411191, 0.5635303966821086, 0.5635303966821086, 0.5635303966821086, 0.3398865973236488, 0.35574125043071275, 0.368144791083618, 0.3603863610394927, 0.3989946925241911, 0.4608971343889462, 0.4608971343889462, 0.5345517897684254, 0.5412957771405004, 0.5236998982745003, 0.5171021241936254, 0.5171021241936254, 0.5453603179535947, 0.5635303966821086, 0.5635303966821086, 0.5635303966821086, 0.5635303966821086, 0.3398865973236488, 0.3603863610394927, 0.368144791083618, 0.368144791083618, 0.41949445624003495, 0.4608971343889462, 0.482342408316922, 0.5260981302810476, 0.5385473981216012, 0.5171021241936254, 0.5567174768501151, 0.5171021241936254, 0.5635303966821086, 0.5453603179535947, 0.5635303966821086, 0.5635303966821086, 0.5635303966821086, 0.5594314482032576, 0.5594314482032576, 0.3357876488447977, 0.3516423019518618, 0.36404584260476697, 0.35628741256064167, 0.3948957440453401, 0.4567981859100952, 0.4567981859100952, 0.5304528412895745, 0.5371968286616494, 0.5196009497956493, 0.5130031757147745, 0.5130031757147745, 0.5412613694747437, 0.5594314482032576, 0.5594314482032576, 0.5594314482032576, 0.5594314482032576, 0.3357876488447977, 0.35628741256064167, 0.36404584260476697, 0.36404584260476697, 0.41539550776118395, 0.4567981859100952, 0.478243459838071, 0.5219991818021966, 0.5344484496427502, 0.5130031757147745, 0.5526185283712641, 0.5130031757147745, 0.5594314482032576, 0.5412613694747437, 0.5594314482032576, 0.5594314482032576, 0.5594314482032576, 0.5742821228848431, 0.35063832352638324, 0.36649297663344726, 0.3788965172863525, 0.37113808724222713, 0.40974641872692563, 0.4716488605916807, 0.4716488605916807, 0.54530351597116, 0.5520475033432348, 0.5344516244772348, 0.52785385039636, 0.52785385039636, 0.5561120441563291, 0.5742821228848431, 0.5742821228848431, 0.5742821228848431, 0.5742821228848431, 0.35063832352638324, 0.37113808724222713, 0.3788965172863525, 0.3788965172863525, 0.43024618244276946, 0.4716488605916807, 0.49309413451965645, 0.5368498564837821, 0.5492991243243356, 0.52785385039636, 0.5674692030528496, 0.52785385039636, 0.5742821228848431, 0.5561120441563291, 0.5742821228848431, 0.5742821228848431, 0.5742821228848431, 0.3357876488447977, 0.3516423019518618, 0.36404584260476697, 0.35628741256064167, 0.3948957440453401, 0.4567981859100952, 0.4567981859100952, 0.5304528412895745, 0.5371968286616494, 0.5196009497956493, 0.5130031757147745, 0.5130031757147745, 0.5412613694747437, 0.5594314482032576, 0.5594314482032576, 0.5594314482032576, 0.5594314482032576, 0.3357876488447977, 0.35628741256064167, 0.36404584260476697, 0.36404584260476697, 0.41539550776118395, 0.4567981859100952, 0.478243459838071, 0.5219991818021966, 0.5344484496427502, 0.5130031757147745, 0.5526185283712641, 0.5130031757147745, 0.5594314482032576, 0.5412613694747437, 0.5594314482032576, 0.5594314482032576, 0.5594314482032576, 0.4440014328001226, 0.4564049734530278, 0.4486465434089024, 0.4872548748936009, 0.5491573167583561, 0.5491573167583561, 0.6228119721378351, 0.6295559595099101, 0.6119600806439098, 0.6053623065630351, 0.6053623065630351, 0.6336205003230043, 0.6517905790515183, 0.6517905790515183, 0.6517905790515183, 0.6517905790515183, 0.42814677969305853, 0.4486465434089024, 0.4564049734530278, 0.4564049734530278, 0.5077546386094449, 0.5491573167583561, 0.5706025906863318, 0.6143583126504573, 0.6268075804910108, 0.6053623065630351, 0.6449776592195248, 0.6053623065630351, 0.6517905790515183, 0.6336205003230043, 0.6517905790515183, 0.6517905790515183, 0.6517905790515183, 0.45454050333572643, 0.4467820732916011, 0.4853904047762996, 0.5472928466410548, 0.5472928466410548, 0.6209475020205338, 0.6276914893926088, 0.6100956105266087, 0.603497836445734, 0.603497836445734, 0.631756030205703, 0.649926108934217, 0.649926108934217, 0.649926108934217, 0.649926108934217, 0.42628230957575725, 0.4467820732916011, 0.45454050333572643, 0.45454050333572643, 0.5058901684921436, 0.5472928466410548, 0.5687381205690305, 0.6124938425331559, 0.6249431103737095, 0.603497836445734, 0.6431131891022234, 0.603497836445734, 0.649926108934217, 0.631756030205703, 0.649926108934217, 0.649926108934217, 0.649926108934217, 0.43121084895223893, 0.46981918043693743, 0.5317216223016927, 0.5317216223016927, 0.6053762776811716, 0.6121202650532466, 0.5945243861872465, 0.5879266121063718, 0.5879266121063718, 0.6161848058663408, 0.6343548845948548, 0.6343548845948548, 0.6343548845948548, 0.6343548845948548, 0.4107110852363951, 0.43121084895223893, 0.4389692789963643, 0.4389692789963643, 0.4903189441527814, 0.5317216223016927, 0.5531668962296683, 0.5969226181937938, 0.6093718860343473, 0.5879266121063718, 0.6275419647628613, 0.5879266121063718, 0.6343548845948548, 0.6161848058663408, 0.6343548845948548, 0.6343548845948548, 0.6343548845948548, 0.4807818264103089, 0.5426842682750642, 0.5426842682750642, 0.6163389236545431, 0.6230829110266181, 0.6054870321606179, 0.5988892580797432, 0.5988892580797432, 0.6271474518397123, 0.6453175305682263, 0.6453175305682263, 0.6453175305682263, 0.6453175305682263, 0.42167373120976653, 0.4421734949256105, 0.4499319249697358, 0.4499319249697358, 0.5012815901261529, 0.5426842682750642, 0.5641295422030398, 0.6078852641671653, 0.6203345320077188, 0.5988892580797432, 0.6385046107362328, 0.5988892580797432, 0.6453175305682263, 0.6271474518397123, 0.6453175305682263, 0.6453175305682263, 0.6453175305682263, 0.5491573167583561, 0.5491573167583561, 0.6228119721378351, 0.6295559595099101, 0.6119600806439098, 0.6053623065630351, 0.6053623065630351, 0.6336205003230043, 0.6517905790515183, 0.6517905790515183, 0.6517905790515183, 0.6517905790515183, 0.42814677969305853, 0.4486465434089024, 0.4564049734530278, 0.4564049734530278, 0.5077546386094449, 0.5491573167583561, 0.5706025906863318, 0.6143583126504573, 0.6268075804910108, 0.6053623065630351, 0.6449776592195248, 0.6053623065630351, 0.6517905790515183, 0.6336205003230043, 0.6517905790515183, 0.6517905790515183, 0.6517905790515183, 0.5330384227853929, 0.606693078164872, 0.6134370655369468, 0.5958411866709468, 0.5892434125900721, 0.5892434125900721, 0.617501606350041, 0.6356716850785551, 0.6356716850785551, 0.6356716850785551, 0.6356716850785551, 0.4120278857200953, 0.43252764943593924, 0.44028607948006454, 0.44028607948006454, 0.4916357446364817, 0.5330384227853929, 0.5544836967133686, 0.598239418677494, 0.6106886865180475, 0.5892434125900721, 0.6288587652465616, 0.5892434125900721, 0.6356716850785551, 0.617501606350041, 0.6356716850785551, 0.6356716850785551, 0.6356716850785551, 0.5990442646447373, 0.6057882520168122, 0.5881923731508121, 0.5815945990699375, 0.5815945990699375, 0.6098527928299066, 0.6280228715584204, 0.6280228715584204, 0.6280228715584204, 0.6280228715584204, 0.4043790721999608, 0.4248788359158046, 0.4326372659599299, 0.4326372659599299, 0.48398693111634705, 0.5253896092652584, 0.5468348831932339, 0.5905906051573594, 0.6030398729979131, 0.5815945990699375, 0.6212099517264269, 0.5815945990699375, 0.6280228715584204, 0.6098527928299066, 0.6280228715584204, 0.6280228715584204, 0.6280228715584204, 0.5669279547508994, 0.5493320758848994, 0.5427343018040246, 0.5427343018040246, 0.5709924955639939, 0.5891625742925078, 0.5891625742925078, 0.5891625742925078, 0.5891625742925078, 0.36551877493404794, 0.3860185386498917, 0.3937769686940171, 0.3937769686940171, 0.44512663385043416, 0.48652931199934535, 0.5079745859273211, 0.5517303078914467, 0.5641795757320004, 0.5427343018040246, 0.5823496544605143, 0.5427343018040246, 0.5891625742925078, 0.5709924955639939, 0.5891625742925078, 0.5891625742925078, 0.5891625742925078, 0.5474676057675981, 0.5408698316867233, 0.5408698316867233, 0.5691280254466925, 0.5872981041752066, 0.5872981041752066, 0.5872981041752066, 0.5872981041752066, 0.36365430481674665, 0.38415406853259043, 0.3919124985767158, 0.3919124985767158, 0.4432621637331329, 0.48466484188204406, 0.5061101158100199, 0.5498658377741453, 0.562315105614699, 0.5408698316867233, 0.5804851843432131, 0.5408698316867233, 0.5872981041752066, 0.5691280254466925, 0.5872981041752066, 0.5872981041752066, 0.5872981041752066, 0.5673995797829011, 0.5673995797829011, 0.5956577735428702, 0.6138278522713843, 0.6138278522713843, 0.6138278522713843, 0.6138278522713843, 0.3901840529129244, 0.4106838166287683, 0.41844224667289354, 0.41844224667289354, 0.4697919118293107, 0.5111945899782219, 0.5326398639061977, 0.5763955858703231, 0.5888448537108767, 0.5673995797829011, 0.6070149324393906, 0.5673995797829011, 0.6138278522713843, 0.5956577735428702, 0.6138278522713843, 0.6138278522713843, 0.6138278522713843, 0.5892434125900721, 0.617501606350041, 0.6356716850785551, 0.6356716850785551, 0.6356716850785551, 0.6356716850785551, 0.4120278857200953, 0.43252764943593924, 0.44028607948006454, 0.44028607948006454, 0.4916357446364817, 0.5330384227853929, 0.5544836967133686, 0.598239418677494, 0.6106886865180475, 0.5892434125900721, 0.6288587652465616, 0.5892434125900721, 0.6356716850785551, 0.617501606350041, 0.6356716850785551, 0.6356716850785551, 0.6356716850785551, 0.6145014787935973, 0.6326715575221113, 0.6326715575221113, 0.6326715575221113, 0.6326715575221113, 0.40902775816365156, 0.42952752187949544, 0.4372859519236208, 0.4372859519236208, 0.48863561708003794, 0.5300382952289492, 0.5514835691569249, 0.5952392911210502, 0.6076885589616038, 0.5862432850336283, 0.6258586376901178, 0.5862432850336283, 0.6326715575221113, 0.6145014787935973, 0.6326715575221113, 0.6326715575221113, 0.6326715575221113, 0.5987795049494377, 0.5987795049494377, 0.5987795049494377, 0.5987795049494377, 0.37513570559097786, 0.3956354693068217, 0.403393899350947, 0.403393899350947, 0.45474356450736403, 0.49614624265627527, 0.517591516584251, 0.5613472385483765, 0.5737965063889302, 0.5523512324609545, 0.591966585117444, 0.5523512324609545, 0.5987795049494377, 0.5806094262209237, 0.5987795049494377, 0.5987795049494377, 0.5987795049494377, 0.5635303966821086, 0.5635303966821086, 0.5635303966821086, 0.3398865973236488, 0.3603863610394927, 0.368144791083618, 0.368144791083618, 0.41949445624003495, 0.4608971343889462, 0.482342408316922, 0.5260981302810476, 0.5385473981216012, 0.5171021241936254, 0.5567174768501151, 0.5171021241936254, 0.5635303966821086, 0.5453603179535947, 0.5635303966821086, 0.5635303966821086, 0.5635303966821086, 0.5635303966821086, 0.5635303966821086, 0.3398865973236488, 0.3603863610394927, 0.368144791083618, 0.368144791083618, 0.41949445624003495, 0.4608971343889462, 0.482342408316922, 0.5260981302810476, 0.5385473981216012, 0.5171021241936254, 0.5567174768501151, 0.5171021241936254, 0.5635303966821086, 0.5453603179535947, 0.5635303966821086, 0.5635303966821086, 0.5635303966821086, 0.5635303966821086, 0.3398865973236488, 0.3603863610394927, 0.368144791083618, 0.368144791083618, 0.41949445624003495, 0.4608971343889462, 0.482342408316922, 0.5260981302810476, 0.5385473981216012, 0.5171021241936254, 0.5567174768501151, 0.5171021241936254, 0.5635303966821086, 0.5453603179535947, 0.5635303966821086, 0.5635303966821086, 0.5635303966821086, 0.33765211896209907, 0.35815188267794296, 0.36591031272206825, 0.36591031272206825, 0.4172599778784853, 0.45866265602739653, 0.4801079299553723, 0.5238636519194979, 0.5363129197600515, 0.5148676458320758, 0.5544829984885654, 0.5148676458320758, 0.5612959183205589, 0.5431258395920451, 0.5612959183205589, 0.5612959183205589, 0.5612959183205589, 0.4486465434089024, 0.4564049734530278, 0.4564049734530278, 0.5077546386094449, 0.5491573167583561, 0.5706025906863318, 0.6143583126504573, 0.6268075804910108, 0.6053623065630351, 0.6449776592195248, 0.6053623065630351, 0.6517905790515183, 0.6336205003230043, 0.6517905790515183, 0.6517905790515183, 0.6517905790515183, 0.44860337530998207, 0.44860337530998207, 0.4999530404663992, 0.5413557186153105, 0.5628009925432861, 0.6065567145074116, 0.6190059823479651, 0.5975607084199895, 0.6371760610764791, 0.5975607084199895, 0.6439889809084726, 0.6258189021799586, 0.6439889809084726, 0.6439889809084726, 0.6439889809084726, 0.4160398723970619, 0.46738953755347906, 0.5087922157023903, 0.530237489630366, 0.5739932115944915, 0.5864424794350451, 0.5649972055070696, 0.6046125581635591, 0.5649972055070696, 0.6114254779955526, 0.5932553992670386, 0.6114254779955526, 0.6114254779955526, 0.6114254779955526, 0.48408989657428536, 0.5254925747231965, 0.5469378486511723, 0.5906935706152976, 0.6031428384558513, 0.5816975645278757, 0.6213129171843652, 0.5816975645278757, 0.6281258370163587, 0.6099557582878448, 0.6281258370163587, 0.6281258370163587, 0.6281258370163587, 0.545684395831508, 0.5671296697594835, 0.610885391723609, 0.6233346595641626, 0.601889385636187, 0.6415047382926765, 0.601889385636187, 0.64831765812467, 0.6301475793961561, 0.64831765812467, 0.64831765812467, 0.64831765812467, 0.5544836967133686, 0.598239418677494, 0.6106886865180475, 0.5892434125900721, 0.6288587652465616, 0.5892434125900721, 0.6356716850785551, 0.617501606350041, 0.6356716850785551, 0.6356716850785551, 0.6356716850785551, 0.5872565499334468, 0.5997058177740004, 0.5782605438460248, 0.6178758965025143, 0.5782605438460248, 0.6246888163345079, 0.606518737605994, 0.6246888163345079, 0.6246888163345079, 0.6246888163345079, 0.562315105614699, 0.5408698316867233, 0.5804851843432131, 0.5408698316867233, 0.5872981041752066, 0.5691280254466925, 0.5872981041752066, 0.5872981041752066, 0.5872981041752066, 0.5673995797829011, 0.6070149324393906, 0.5673995797829011, 0.6138278522713843, 0.5956577735428702, 0.6138278522713843, 0.6138278522713843, 0.6138278522713843, 0.6193454816091256, 0.5797301289526362, 0.6261584014411191, 0.6079883227126053, 0.6261584014411191, 0.6261584014411191, 0.6261584014411191, 0.534932703660979, 0.5813609761494621, 0.5631908974209482, 0.5813609761494621, 0.5813609761494621, 0.5813609761494621, 0.6296922678876493, 0.6115221891591354, 0.6296922678876493, 0.6296922678876493, 0.6296922678876493, 0.5631908974209482, 0.5813609761494621, 0.5813609761494621, 0.5813609761494621, 0.6060262541283385, 0.6060262541283385, 0.6060262541283385, 0.5594314482032576, 0.5594314482032576, 0.5594314482032576]\n",
            "2278\n"
          ]
        }
      ],
      "source": [
        "# random forest\n",
        "from sklearn.ensemble import RandomForestClassifier\n",
        "rf = RandomForestClassifier(max_depth=1, random_state=8).fit(x_train1,y_train1)\n",
        "y_pred_rf1 = rf.predict(x_test1)\n",
        "y_proba_rf1 = list(rf.predict_proba(x_test1)[:,1])\n",
        "print(y_proba_rf1)\n",
        "print(len(y_proba_rf1))\n",
        "# print(classification_report(y_test, y_pred_rf))"
      ],
      "id": "eLOP257kYJpf"
    },
    {
      "cell_type": "code",
      "execution_count": null,
      "metadata": {
        "colab": {
          "base_uri": "https://localhost:8080/"
        },
        "outputId": "d4e305fe-b4f6-486f-fe49-e71188eff76f",
        "id": "kGU7zWfWYJpf"
      },
      "outputs": [
        {
          "output_type": "stream",
          "name": "stdout",
          "text": [
            "[0.22456278 0.39180323 0.28268226 ... 0.84973953 0.8873589  0.84099152]\n",
            "2278\n"
          ]
        }
      ],
      "source": [
        "#gaussian naive bayes\n",
        "from sklearn.naive_bayes import GaussianNB\n",
        "classifier = GaussianNB().fit(x_train1,y_train1)\n",
        "y_pred_nb1 =  classifier.predict(x_test1)\n",
        "y_proba_nb1 = classifier.predict_proba(x_test1)[:,1]\n",
        "print(y_proba_nb1)\n",
        "print(len(y_proba_nb1))"
      ],
      "id": "kGU7zWfWYJpf"
    },
    {
      "cell_type": "markdown",
      "source": [
        "deep neural network"
      ],
      "metadata": {
        "id": "zALHg3rsYJpg"
      },
      "id": "zALHg3rsYJpg"
    },
    {
      "cell_type": "code",
      "source": [
        "model = Sequential()\n",
        "model.add(Dense(12, input_dim=6, activation='relu'))\n",
        "model.add(Dense(8, activation='relu'))\n",
        "model.add(Dense(1, activation='sigmoid'))\n",
        "model.compile(loss='binary_crossentropy', optimizer='adam', metrics=['accuracy'])\n",
        "model.fit(x_train1, y_train1, epochs=50, batch_size=10,verbose=1)\n",
        "loss, accuracy = model.evaluate(x_train1, y_train1)\n",
        "print(accuracy,loss)\n",
        "y_pred_dnn1 = list(model.predict(x_test1))\n",
        "y_pred_dnn1=[i[0] for i in y_pred_dnn1]\n",
        "print(y_pred_dnn1)"
      ],
      "metadata": {
        "colab": {
          "base_uri": "https://localhost:8080/"
        },
        "outputId": "134be4c4-62a5-47c8-a042-99312e79c16c",
        "id": "qn8TEn9cYJpg"
      },
      "execution_count": null,
      "outputs": [
        {
          "output_type": "stream",
          "name": "stdout",
          "text": [
            "Epoch 1/50\n",
            "125/125 [==============================] - 1s 2ms/step - loss: 2.0307 - accuracy: 0.4350\n",
            "Epoch 2/50\n",
            "125/125 [==============================] - 0s 3ms/step - loss: 0.8391 - accuracy: 0.4791\n",
            "Epoch 3/50\n",
            "125/125 [==============================] - 0s 3ms/step - loss: 0.7591 - accuracy: 0.5393\n",
            "Epoch 4/50\n",
            "125/125 [==============================] - 0s 3ms/step - loss: 0.7719 - accuracy: 0.5594\n",
            "Epoch 5/50\n",
            "125/125 [==============================] - 0s 3ms/step - loss: 0.7413 - accuracy: 0.5778\n",
            "Epoch 6/50\n",
            "125/125 [==============================] - 0s 3ms/step - loss: 0.6895 - accuracy: 0.6204\n",
            "Epoch 7/50\n",
            "125/125 [==============================] - 0s 3ms/step - loss: 0.6958 - accuracy: 0.6212\n",
            "Epoch 8/50\n",
            "125/125 [==============================] - 0s 3ms/step - loss: 0.6682 - accuracy: 0.6388\n",
            "Epoch 9/50\n",
            "125/125 [==============================] - 0s 3ms/step - loss: 0.6617 - accuracy: 0.6421\n",
            "Epoch 10/50\n",
            "125/125 [==============================] - 0s 2ms/step - loss: 0.7139 - accuracy: 0.6148\n",
            "Epoch 11/50\n",
            "125/125 [==============================] - 0s 2ms/step - loss: 0.6527 - accuracy: 0.6605\n",
            "Epoch 12/50\n",
            "125/125 [==============================] - 0s 2ms/step - loss: 0.6487 - accuracy: 0.6469\n",
            "Epoch 13/50\n",
            "125/125 [==============================] - 0s 3ms/step - loss: 0.6339 - accuracy: 0.6461\n",
            "Epoch 14/50\n",
            "125/125 [==============================] - 0s 2ms/step - loss: 0.6552 - accuracy: 0.6493\n",
            "Epoch 15/50\n",
            "125/125 [==============================] - 0s 3ms/step - loss: 0.6536 - accuracy: 0.6429\n",
            "Epoch 16/50\n",
            "125/125 [==============================] - 0s 3ms/step - loss: 0.6156 - accuracy: 0.6790\n",
            "Epoch 17/50\n",
            "125/125 [==============================] - 0s 3ms/step - loss: 0.6366 - accuracy: 0.6613\n",
            "Epoch 18/50\n",
            "125/125 [==============================] - 0s 3ms/step - loss: 0.6192 - accuracy: 0.6685\n",
            "Epoch 19/50\n",
            "125/125 [==============================] - 0s 3ms/step - loss: 0.6256 - accuracy: 0.6629\n",
            "Epoch 20/50\n",
            "125/125 [==============================] - 0s 3ms/step - loss: 0.6737 - accuracy: 0.6493\n",
            "Epoch 21/50\n",
            "125/125 [==============================] - 0s 2ms/step - loss: 0.6517 - accuracy: 0.6477\n",
            "Epoch 22/50\n",
            "125/125 [==============================] - 0s 3ms/step - loss: 0.6500 - accuracy: 0.6332\n",
            "Epoch 23/50\n",
            "125/125 [==============================] - 0s 2ms/step - loss: 0.6084 - accuracy: 0.6814\n",
            "Epoch 24/50\n",
            "125/125 [==============================] - 0s 3ms/step - loss: 0.6481 - accuracy: 0.6645\n",
            "Epoch 25/50\n",
            "125/125 [==============================] - 0s 3ms/step - loss: 0.6232 - accuracy: 0.6798\n",
            "Epoch 26/50\n",
            "125/125 [==============================] - 0s 3ms/step - loss: 0.6312 - accuracy: 0.6637\n",
            "Epoch 27/50\n",
            "125/125 [==============================] - 0s 3ms/step - loss: 0.5879 - accuracy: 0.6886\n",
            "Epoch 28/50\n",
            "125/125 [==============================] - 0s 3ms/step - loss: 0.6172 - accuracy: 0.6814\n",
            "Epoch 29/50\n",
            "125/125 [==============================] - 0s 3ms/step - loss: 0.6058 - accuracy: 0.6709\n",
            "Epoch 30/50\n",
            "125/125 [==============================] - 0s 3ms/step - loss: 0.6354 - accuracy: 0.6621\n",
            "Epoch 31/50\n",
            "125/125 [==============================] - 0s 2ms/step - loss: 0.6196 - accuracy: 0.6629\n",
            "Epoch 32/50\n",
            "125/125 [==============================] - 0s 2ms/step - loss: 0.6782 - accuracy: 0.6509\n",
            "Epoch 33/50\n",
            "125/125 [==============================] - 0s 2ms/step - loss: 0.5983 - accuracy: 0.6645\n",
            "Epoch 34/50\n",
            "125/125 [==============================] - 0s 2ms/step - loss: 0.6350 - accuracy: 0.6677\n",
            "Epoch 35/50\n",
            "125/125 [==============================] - 0s 2ms/step - loss: 0.5936 - accuracy: 0.6822\n",
            "Epoch 36/50\n",
            "125/125 [==============================] - 0s 2ms/step - loss: 0.6009 - accuracy: 0.6982\n",
            "Epoch 37/50\n",
            "125/125 [==============================] - 0s 2ms/step - loss: 0.6005 - accuracy: 0.6822\n",
            "Epoch 38/50\n",
            "125/125 [==============================] - 0s 2ms/step - loss: 0.6039 - accuracy: 0.6822\n",
            "Epoch 39/50\n",
            "125/125 [==============================] - 0s 2ms/step - loss: 0.6082 - accuracy: 0.6782\n",
            "Epoch 40/50\n",
            "125/125 [==============================] - 0s 2ms/step - loss: 0.5928 - accuracy: 0.6950\n",
            "Epoch 41/50\n",
            "125/125 [==============================] - 0s 2ms/step - loss: 0.6087 - accuracy: 0.6782\n",
            "Epoch 42/50\n",
            "125/125 [==============================] - 0s 2ms/step - loss: 0.5936 - accuracy: 0.6830\n",
            "Epoch 43/50\n",
            "125/125 [==============================] - 0s 2ms/step - loss: 0.6309 - accuracy: 0.6661\n",
            "Epoch 44/50\n",
            "125/125 [==============================] - 0s 2ms/step - loss: 0.6121 - accuracy: 0.6870\n",
            "Epoch 45/50\n",
            "125/125 [==============================] - 0s 2ms/step - loss: 0.5950 - accuracy: 0.6758\n",
            "Epoch 46/50\n",
            "125/125 [==============================] - 0s 2ms/step - loss: 0.6023 - accuracy: 0.6822\n",
            "Epoch 47/50\n",
            "125/125 [==============================] - 0s 2ms/step - loss: 0.6290 - accuracy: 0.6822\n",
            "Epoch 48/50\n",
            "125/125 [==============================] - 0s 2ms/step - loss: 0.6123 - accuracy: 0.6758\n",
            "Epoch 49/50\n",
            "125/125 [==============================] - 0s 2ms/step - loss: 0.6391 - accuracy: 0.6477\n",
            "Epoch 50/50\n",
            "125/125 [==============================] - 0s 2ms/step - loss: 0.5946 - accuracy: 0.6798\n",
            "39/39 [==============================] - 0s 2ms/step - loss: 0.5547 - accuracy: 0.6942\n",
            "0.6942214965820312 0.5546926856040955\n",
            "[0.4879616, 0.55607694, 0.57262135, 0.61281514, 0.6615889, 0.7137141, 0.7559953, 0.78584665, 0.8082517, 0.8440598, 0.86822474, 0.8602785, 0.896079, 0.9088285, 0.91739, 0.9377911, 0.44215503, 0.47068706, 0.53818154, 0.59654135, 0.6446026, 0.65156, 0.71636695, 0.72380984, 0.7762332, 0.8299037, 0.8313811, 0.8730043, 0.9001615, 0.914111, 0.92673504, 0.93513936, 0.9384753, 0.43683916, 0.48855016, 0.50852203, 0.58258927, 0.61867994, 0.6842363, 0.7310495, 0.74596834, 0.77950734, 0.8101766, 0.8481029, 0.87066936, 0.8907893, 0.9135064, 0.9282432, 0.94201666, 0.94028056, 0.42411742, 0.4954958, 0.5024064, 0.57481146, 0.6294538, 0.68565667, 0.7174806, 0.7418657, 0.7815801, 0.8307204, 0.8416983, 0.8476714, 0.86909515, 0.88929975, 0.9100071, 0.9261793, 0.93548584, 0.53831095, 0.5549895, 0.59566885, 0.6453533, 0.69884217, 0.7425256, 0.77353084, 0.79689133, 0.8343868, 0.8598017, 0.8514345, 0.8892094, 0.9027096, 0.9117903, 0.93347406, 0.4245479, 0.452868, 0.5203172, 0.5791688, 0.6280108, 0.6351087, 0.7015744, 0.7092476, 0.76353157, 0.81953925, 0.8210877, 0.8648395, 0.89352953, 0.9083102, 0.9217148, 0.9306519, 0.9342021, 0.4192865, 0.47065568, 0.49059585, 0.5650553, 0.60162497, 0.6685438, 0.71671796, 0.7321405, 0.7669361, 0.7989031, 0.8386322, 0.86237836, 0.883615, 0.90766966, 0.9233172, 0.9379735, 0.9361246, 0.4067049, 0.4775821, 0.48448476, 0.5571991, 0.61257845, 0.67000073, 0.70272005, 0.7278979, 0.769092, 0.82039547, 0.83190906, 0.8381797, 0.8607182, 0.8820406, 0.9039599, 0.921124, 0.93102074, 0.40506935, 0.4457702, 0.49835908, 0.558863, 0.6115685, 0.65092885, 0.6817341, 0.73337567, 0.7700181, 0.7578006, 0.81418836, 0.8351356, 0.8494718, 0.8845346, 0.28712976, 0.31123906, 0.37193638, 0.42901522, 0.4796273, 0.48724484, 0.5620707, 0.5711405, 0.6380488, 0.7125904, 0.7147372, 0.7774457, 0.8208439, 0.84395534, 0.8653723, 0.87990284, 0.8857336, 0.28273225, 0.3267889, 0.3446014, 0.4149543, 0.4519036, 0.5240744, 0.58005553, 0.59875387, 0.6424144, 0.68443155, 0.7394006, 0.77381074, 0.8056327, 0.8429414, 0.86796284, 0.8919604, 0.8889028, 0.27233088, 0.33293015, 0.3390979, 0.40723062, 0.4633004, 0.5257159, 0.5634196, 0.5935705, 0.64519095, 0.7137769, 0.729874, 0.73875546, 0.7713654, 0.80324006, 0.8370962, 0.86441886, 0.8805071, 0.583677, 0.6339277, 0.6883071, 0.7329376, 0.7647299, 0.7887522, 0.8274237, 0.8537189, 0.8450556, 0.8842309, 0.89826876, 0.90772134, 0.93032885, 0.41248614, 0.4406158, 0.50793666, 0.5670423, 0.6163586, 0.6235464, 0.69109344, 0.6989209, 0.754465, 0.8120916, 0.813691, 0.8589396, 0.8887203, 0.90409815, 0.9180624, 0.9273835, 0.93108904, 0.40726745, 0.4583268, 0.47821885, 0.5528357, 0.58968717, 0.65747, 0.70654637, 0.7223089, 0.75795877, 0.79082, 0.83181083, 0.8563889, 0.87841976, 0.9034308, 0.9197328, 0.93502593, 0.93309593, 0.3948018, 0.46523216, 0.47211763, 0.5449389, 0.6007524, 0.65894824, 0.69226164, 0.7179698, 0.76017207, 0.8129754, 0.8248626, 0.83134365, 0.8546686, 0.87678504, 0.89956945, 0.9174468, 0.92776835, 0.53678656, 0.59640956, 0.6474568, 0.6850533, 0.71416986, 0.7623818, 0.7961478, 0.7849309, 0.83636546, 0.85525686, 0.86811984, 0.89935374, 0.31964743, 0.34516507, 0.4085536, 0.4670724, 0.51809984, 0.5257121, 0.59953856, 0.60837126, 0.6728008, 0.7430674, 0.7450684, 0.8029475, 0.84238064, 0.86317694, 0.8823232, 0.89524597, 0.90041584, 0.31497484, 0.36152112, 0.3801582, 0.45275176, 0.49024692, 0.5622618, 0.61703485, 0.63512194, 0.67695856, 0.71670747, 0.7679597, 0.7996208, 0.828617, 0.8622669, 0.8846313, 0.905928, 0.9032228, 0.3038858, 0.3679579, 0.37441075, 0.44486186, 0.50172555, 0.5638793, 0.6008531, 0.6301173, 0.67959905, 0.74417216, 0.7591381, 0.7673632, 0.7973807, 0.8264446, 0.8570205, 0.8814733, 0.89578235, 0.59321386, 0.64442515, 0.68218875, 0.7114558, 0.75997204, 0.79398674, 0.78268415, 0.83454394, 0.8536078, 0.8665937, 0.89814734, 0.31677315, 0.34217632, 0.40535438, 0.46377423, 0.51478845, 0.5224043, 0.59635174, 0.60520846, 0.66987634, 0.74052626, 0.7425424, 0.8008421, 0.84061277, 0.8616017, 0.8809389, 0.89399636, 0.8992206, 0.31212047, 0.35846657, 0.3770382, 0.44947037, 0.48693368, 0.5589965, 0.61389667, 0.6320436, 0.6740525, 0.7140087, 0.7655888, 0.79748803, 0.8267263, 0.8606849, 0.88327026, 0.9047915, 0.9020574, 0.30108735, 0.36487955, 0.37131014, 0.44159058, 0.4984101, 0.5606167, 0.59766966, 0.6270224, 0.6767057, 0.7416407, 0.75670385, 0.7649896, 0.795231, 0.8245346, 0.85538834, 0.88008034, 0.8945379, 0.51694256, 0.5589758, 0.59281796, 0.6515141, 0.69472235, 0.68016833, 0.74863386, 0.77492714, 0.79320145, 0.8388867, 0.21492556, 0.23497078, 0.28699195, 0.3380514, 0.38516992, 0.39241904, 0.46591508, 0.47511524, 0.54507273, 0.6275856, 0.63003683, 0.7036468, 0.75693554, 0.7861423, 0.81374407, 0.83277047, 0.84047353, 0.21130612, 0.24808234, 0.263284, 0.32527047, 0.35913748, 0.42806515, 0.48422703, 0.5035389, 0.549768, 0.5958241, 0.65852547, 0.69927096, 0.73803186, 0.7848492, 0.8171175, 0.8487463, 0.8446785, 0.20278916, 0.25330207, 0.25856495, 0.31830996, 0.369774, 0.42967695, 0.4672794, 0.49815643, 0.55276406, 0.6289425, 0.64745057, 0.6577732, 0.6963358, 0.73507845, 0.777415, 0.81250256, 0.83356655, 0.5289729, 0.56331825, 0.6235657, 0.66847616, 0.6532953, 0.72518957, 0.7531268, 0.77265143, 0.8218576, 0.19521376, 0.21392313, 0.2628854, 0.3115286, 0.35694548, 0.36397743, 0.43596986, 0.44507006, 0.51494616, 0.5989014, 0.60142195, 0.6778122, 0.7339906, 0.76509917, 0.79470634, 0.81523705, 0.8235764, 0.19184786, 0.22620845, 0.240495, 0.29930064, 0.33178785, 0.39873415, 0.45410463, 0.47331712, 0.51967734, 0.5663829, 0.6308216, 0.6732335, 0.71397555, 0.7637175, 0.7983395, 0.83255124, 0.8281353, 0.18392941, 0.23110738, 0.23605666, 0.29265088, 0.3420493, 0.40031463, 0.43731737, 0.4679551, 0.522696, 0.6002949, 0.6193677, 0.6300435, 0.6701631, 0.71085715, 0.7557781, 0.79337275, 0.81609863, 0.53040737, 0.59190464, 0.6384022, 0.6226237, 0.697937, 0.7276039, 0.74847484, 0.80156755, 0.17518356, 0.1924308, 0.23796162, 0.28376967, 0.32706088, 0.33381015, 0.40362227, 0.4125416, 0.48174322, 0.56660956, 0.569188, 0.6481418, 0.7072583, 0.7403873, 0.77218366, 0.7943819, 0.8034356, 0.17208588, 0.20380056, 0.21707088, 0.27219936, 0.30302024, 0.3673535, 0.42141777, 0.4403643, 0.48647624, 0.53351223, 0.59937966, 0.6433624, 0.6860931, 0.7389093, 0.7761024, 0.81320184, 0.80839425, 0.16481891, 0.20834589, 0.21294266, 0.2659269, 0.3128068, 0.36888146, 0.4049411, 0.43506533, 0.4894986, 0.5680324, 0.5875913, 0.5985779, 0.64016134, 0.6828048, 0.7304325, 0.770743, 0.7953165, 0.71664125, 0.754815, 0.74206126, 0.8011507, 0.8232491, 0.8384185, 0.87567914, 0.27025777, 0.2935333, 0.3525464, 0.40858403, 0.4587208, 0.46630335, 0.54131067, 0.55046374, 0.61844593, 0.6950934, 0.69731617, 0.76258326, 0.8081629, 0.83257663, 0.8552872, 0.8707448, 0.8769567, 0.26602226, 0.30859494, 0.32589576, 0.39472705, 0.43120277, 0.50310594, 0.55947983, 0.578429, 0.62290645, 0.66602546, 0.72290075, 0.7587805, 0.79215026, 0.831503, 0.8580402, 0.8836, 0.88033634, 0.25601473, 0.3145536, 0.32054323, 0.38713118, 0.44250086, 0.5047495, 0.54267, 0.5731697, 0.62574536, 0.6963221, 0.7130049, 0.722232, 0.7562216, 0.7896328, 0.82532334, 0.85427445, 0.8713887, 0.71028405, 0.69614506, 0.7623882, 0.7876513, 0.8051522, 0.8486998, 0.22775897, 0.24862245, 0.30246946, 0.35491055, 0.40294895, 0.41031167, 0.48448667, 0.49371168, 0.56346977, 0.64482015, 0.6472226, 0.7189378, 0.77037466, 0.7983961, 0.82476795, 0.8428869, 0.85020775, 0.2239854, 0.26223317, 0.27797985, 0.34182352, 0.37645286, 0.44638807, 0.5028408, 0.52214354, 0.5681265, 0.61362314, 0.6750699, 0.7146972, 0.7521729, 0.79715836, 0.8279841, 0.85806096, 0.8541997, 0.21509391, 0.2676443, 0.27309692, 0.33468235, 0.38729095, 0.44801292, 0.4858535, 0.5167687, 0.57109153, 0.6461483, 0.6642578, 0.6743365, 0.71185, 0.74932545, 0.7900355, 0.82358646, 0.843644, 0.58922833, 0.6676514, 0.6990092, 0.72123104, 0.7783717, 0.1558753, 0.17161682, 0.21352503, 0.25621095, 0.29704112, 0.30345142, 0.37044412, 0.37909716, 0.44695422, 0.5319834, 0.53459865, 0.6156116, 0.6774745, 0.7126025, 0.7466378, 0.7705858, 0.7803997, 0.1530562, 0.18203434, 0.19423309, 0.24537903, 0.274308, 0.33547956, 0.38772509, 0.40622175, 0.4516438, 0.49858367, 0.56536424, 0.610656, 0.65520555, 0.71102905, 0.7508539, 0.7910129, 0.78578377, 0.14644921, 0.18620825, 0.19043264, 0.23951983, 0.28354257, 0.33694428, 0.37172255, 0.40104014, 0.45464322, 0.5334306, 0.55332154, 0.5645453, 0.6073406, 0.6517583, 0.70201266, 0.7450903, 0.771598, 0.7437974, 0.7704418, 0.7889819, 0.83540493, 0.21064919, 0.23041233, 0.28179485, 0.33236068, 0.37914118, 0.38634813, 0.45956674, 0.4687506, 0.5387333, 0.62159866, 0.6240661, 0.6982938, 0.75220704, 0.781818, 0.809842, 0.82918334, 0.83701944, 0.20708275, 0.24335039, 0.25835913, 0.31969225, 0.3532812, 0.4218252, 0.4778505, 0.49715558, 0.5434396, 0.58965945, 0.65276027, 0.6938739, 0.7330643, 0.7805064, 0.8132708, 0.8454385, 0.8412982, 0.19869193, 0.2485013, 0.25369984, 0.31279573, 0.3638423, 0.42342997, 0.4609285, 0.49177277, 0.54644024, 0.6229611, 0.6416007, 0.6520018, 0.69090956, 0.73007447, 0.77296555, 0.8085815, 0.8299935, 0.42878747, 0.45541584, 0.53166306, 0.056325465, 0.062761724, 0.080676824, 0.10018751, 0.12017128, 0.12343404, 0.15980291, 0.16482386, 0.20712191, 0.26869112, 0.27076077, 0.34109288, 0.40439293, 0.44489506, 0.48784578, 0.52055067, 0.534597, 0.055189252, 0.067106485, 0.07228461, 0.09510866, 0.1088776, 0.14028856, 0.1699104, 0.18108913, 0.21025145, 0.24322996, 0.2959991, 0.33641523, 0.3805106, 0.4430006, 0.49344778, 0.5502431, 0.5424762, 0.05254522, 0.06886706, 0.07066095, 0.09239814, 0.11341354, 0.14108452, 0.1605398, 0.1779176, 0.21226797, 0.2698329, 0.2859179, 0.29530543, 0.3333132, 0.37692913, 0.432298, 0.48580778, 0.52197814, 0.45367676, 0.5299157, 0.05595395, 0.062350184, 0.080158174, 0.09955698, 0.11943126, 0.122677416, 0.1588622, 0.16386008, 0.20597145, 0.26731414, 0.2693773, 0.3395195, 0.4027046, 0.44316393, 0.4860927, 0.5187984, 0.5328509, 0.0548245, 0.06666887, 0.07181507, 0.09450668, 0.10819864, 0.13944551, 0.16892341, 0.18005157, 0.20908898, 0.24194136, 0.29453957, 0.33485013, 0.37885815, 0.441271, 0.49169484, 0.5485047, 0.54073286, 0.052197367, 0.06841859, 0.0702014, 0.091811806, 0.112710804, 0.14023599, 0.15959635, 0.17689344, 0.21109703, 0.268453, 0.28448775, 0.29384825, 0.33175784, 0.3752821, 0.4305774, 0.48405507, 0.5202291, 0.63800454, 0.084808856, 0.094174, 0.11990929, 0.14738667, 0.17495427, 0.17940181, 0.22797105, 0.2345348, 0.2885449, 0.36322957, 0.3656647, 0.4455843, 0.51317304, 0.5544279, 0.5965898, 0.62764734, 0.6407233, 0.08314857, 0.10046068, 0.10791427, 0.14028788, 0.15944445, 0.20213515, 0.24115282, 0.2555761, 0.29244995, 0.3328859, 0.3949579, 0.4404301, 0.48812884, 0.5525313, 0.60197234, 0.65510404, 0.6479867, 0.07927737, 0.102999866, 0.10558167, 0.13648465, 0.16569689, 0.20319927, 0.22893679, 0.25149965, 0.2949596, 0.36457175, 0.38333997, 0.39416054, 0.437002, 0.4843278, 0.5417551, 0.59462374, 0.62898433, 0.042808205, 0.04777798, 0.061697453, 0.07700294, 0.09283894, 0.09544027, 0.12473425, 0.12882242, 0.16369262, 0.21586776, 0.21765167, 0.27947664, 0.33719212, 0.37520364, 0.4164725, 0.44858253, 0.46256253, 0.041932434, 0.051141977, 0.05516082, 0.07300365, 0.08386859, 0.10894737, 0.13297528, 0.1421391, 0.16630319, 0.19408265, 0.2395662, 0.27528733, 0.31517512, 0.37340522, 0.4219308, 0.4782655, 0.47045112, 0.039896578, 0.052507013, 0.053899318, 0.07087433, 0.087465525, 0.10958767, 0.1253339, 0.1395339, 0.16798788, 0.2168515, 0.23077592, 0.2389583, 0.27251917, 0.3119018, 0.36328626, 0.41449064, 0.45000046, 0.42537197, 0.4924111, 0.5517378, 0.6015719, 0.6088619, 0.67768055, 0.6856924, 0.74277997, 0.80243087, 0.80409145, 0.8512455, 0.8824286, 0.8985766, 0.9132681, 0.9230889, 0.92699665, 0.3923658, 0.44295496, 0.4627465, 0.5374367, 0.5745816, 0.6433515, 0.6935065, 0.70968163, 0.74638486, 0.7803612, 0.8229424, 0.8485812, 0.8716294, 0.8978752, 0.9150271, 0.9311495, 0.92911255, 0.38006425, 0.44981965, 0.45666993, 0.5294994, 0.585769, 0.6448582, 0.67887634, 0.70522654, 0.7486674, 0.80334973, 0.8157089, 0.822456, 0.84678316, 0.86991733, 0.89381826, 0.9126195, 0.9234945, 0.52260226, 0.581399, 0.63014704, 0.6372291, 0.7034873, 0.71113074, 0.7651806, 0.8208893, 0.8224299, 0.8659063, 0.89439774, 0.90907073, 0.92237246, 0.9312403, 0.93476295, 0.42151728, 0.47293627, 0.492885, 0.56730545, 0.6038167, 0.6705698, 0.71857303, 0.7339314, 0.7685683, 0.80037, 0.83986783, 0.86346173, 0.8845533, 0.9084342, 0.9239634, 0.93850386, 0.9366697, 0.40891683, 0.47986773, 0.48677167, 0.5594577, 0.61474985, 0.67202055, 0.70463026, 0.72970665, 0.7707149, 0.82174075, 0.83318484, 0.8394182, 0.8618121, 0.88299024, 0.90475154, 0.9217866, 0.9316062, 0.3249177, 0.3712309, 0.37838092, 0.45120075, 0.46035984, 0.5303413, 0.6136324, 0.6161199, 0.69114065, 0.74586606, 0.7760085, 0.80459297, 0.82435274, 0.8323649, 0.2015985, 0.23719221, 0.25194874, 0.31240064, 0.34561312, 0.41361997, 0.4694408, 0.48872268, 0.53505796, 0.5814733, 0.6450746, 0.6866616, 0.7264113, 0.77467173, 0.8080933, 0.8409798, 0.83674264, 0.19337568, 0.24225596, 0.24736539, 0.30558997, 0.35607034, 0.4152164, 0.45255896, 0.48334533, 0.5380673, 0.61500686, 0.6338078, 0.6443095, 0.68366015, 0.7233771, 0.76699066, 0.80330634, 0.82518065, 0.30250043, 0.30897802, 0.37653032, 0.38523722, 0.4533936, 0.5384546, 0.5410658, 0.62174624, 0.68313044, 0.71790123, 0.75152624, 0.77515274, 0.78482354, 0.15645969, 0.18593845, 0.19833565, 0.2502261, 0.27951372, 0.34130192, 0.39391804, 0.41251016, 0.45809478, 0.50508374, 0.571745, 0.6168221, 0.6610575, 0.7163445, 0.755689, 0.79527986, 0.7901292, 0.14973202, 0.19017988, 0.19447437, 0.24428967, 0.2888565, 0.3427815, 0.3778167, 0.4073006, 0.46110007, 0.5398953, 0.55973977, 0.570927, 0.61352634, 0.6576388, 0.7074251, 0.74999946, 0.77614963, 0.5009688, 0.57553756, 0.58453137, 0.650631, 0.7237027, 0.7257996, 0.78680134, 0.82877666, 0.85104907, 0.8716409, 0.8855853, 0.89117396, 0.29400024, 0.33898246, 0.35710746, 0.42834115, 0.465534, 0.5377492, 0.59336936, 0.6118716, 0.65492606, 0.69616807, 0.74983954, 0.78327495, 0.81408906, 0.85007423, 0.87412906, 0.89713895, 0.89421, 0.28334576, 0.3452345, 0.3515092, 0.42054927, 0.47697586, 0.5393826, 0.57687616, 0.60674727, 0.65765554, 0.7248622, 0.74056214, 0.74921256, 0.7809026, 0.8117724, 0.84444654, 0.87072587, 0.88616455, 0.59958804, 0.60842127, 0.6728463, 0.74310637, 0.745108, 0.80298007, 0.8424081, 0.86320037, 0.8823445, 0.89526606, 0.900434, 0.31501806, 0.3615687, 0.38020584, 0.45280325, 0.49029887, 0.5623125, 0.61708444, 0.6351688, 0.677004, 0.71674967, 0.7679956, 0.7996556, 0.8286462, 0.8622916, 0.8846525, 0.90594536, 0.90323967, 0.3039298, 0.3680058, 0.37445813, 0.44491178, 0.50177705, 0.56393, 0.6009034, 0.63016486, 0.67964554, 0.7442126, 0.75917506, 0.7674022, 0.7974157, 0.8264742, 0.8570459, 0.881495, 0.8958018, 0.41871256, 0.48808882, 0.572837, 0.57540476, 0.65391326, 0.71249044, 0.74523973, 0.77662134, 0.79850066, 0.80741715, 0.17573574, 0.20795318, 0.2214193, 0.27725995, 0.308411, 0.3732767, 0.42762113, 0.4466327, 0.49282348, 0.5398285, 0.6054645, 0.6491694, 0.69153917, 0.74378085, 0.780486, 0.81703144, 0.81229717, 0.16834489, 0.21256635, 0.21723074, 0.2709143, 0.3182934, 0.3748165, 0.41107798, 0.4413178, 0.49584863, 0.5742552, 0.5937325, 0.604666, 0.64599085, 0.68828213, 0.73540556, 0.77520263, 0.79942024, 0.6787897, 0.74825144, 0.75022364, 0.80723643, 0.8459767, 0.8663727, 0.88513196, 0.8977822, 0.90283954, 0.32090226, 0.36785454, 0.38661903, 0.45953262, 0.49707785, 0.56897706, 0.6234741, 0.6414323, 0.68290806, 0.7222245, 0.77279437, 0.8039651, 0.8324633, 0.8654816, 0.8873913, 0.9082317, 0.90558517, 0.30969885, 0.3743384, 0.38083437, 0.4516216, 0.50856066, 0.5705906, 0.6073908, 0.6364644, 0.68552226, 0.74934226, 0.76409894, 0.77220714, 0.801762, 0.83033085, 0.86033684, 0.8842998, 0.8983069, 0.5946978, 0.5972268, 0.673986, 0.73056674, 0.76194584, 0.7918428, 0.81259215, 0.82102495, 0.18915388, 0.22316495, 0.23732135, 0.29564947, 0.32792962, 0.3945571, 0.44977814, 0.4689672, 0.5153168, 0.5620872, 0.6267438, 0.6693784, 0.7103967, 0.7605504, 0.7955127, 0.83010197, 0.8256352, 0.18132314, 0.22801808, 0.23292017, 0.2890501, 0.33812994, 0.3961287, 0.43302345, 0.46360537, 0.51833797, 0.5960955, 0.6152426, 0.62596196, 0.666291, 0.70725554, 0.7525412, 0.7904943, 0.81346226, 0.46782973, 0.55069596, 0.61649925, 0.6548871, 0.69280833, 0.7199365, 0.73115915, 0.12149948, 0.14552939, 0.15574738, 0.19926623, 0.22437453, 0.27868515, 0.32643446, 0.343647, 0.3866276, 0.43213347, 0.4988712, 0.54551965, 0.59255207, 0.65315014, 0.6975585, 0.74337006, 0.7373461, 0.116068065, 0.14901754, 0.15255743, 0.19422501, 0.23246726, 0.28000987, 0.31167346, 0.3388077, 0.38950288, 0.46665937, 0.48665732, 0.49803627, 0.5420669, 0.58887285, 0.64323306, 0.6910686, 0.72108835, 0.7013358, 0.7548951, 0.7842773, 0.8120621, 0.8312249, 0.8389857, 0.20947057, 0.24602664, 0.26114458, 0.32284853, 0.35659707, 0.42536056, 0.48146656, 0.50077474, 0.5470308, 0.5931574, 0.656035, 0.69694227, 0.7358883, 0.78297675, 0.81545943, 0.8473221, 0.8432226, 0.2010063, 0.25121504, 0.2564513, 0.31591555, 0.36720124, 0.42696792, 0.46452662, 0.49539185, 0.5500269, 0.62635666, 0.6449237, 0.6552812, 0.693993, 0.7329199, 0.7754958, 0.8108126, 0.8320267, 0.57170904, 0.61175585, 0.6518992, 0.6809771, 0.6930952, 0.10301238, 0.123901844, 0.13283691, 0.1712527, 0.1936847, 0.24289551, 0.28695178, 0.3030174, 0.34357774, 0.38721672, 0.45254526, 0.49917758, 0.5470209, 0.6099323, 0.65696836, 0.7063399, 0.6997975, 0.09831554, 0.12694842, 0.13004452, 0.16677311, 0.20095855, 0.24410626, 0.27325034, 0.29849005, 0.34631273, 0.42080957, 0.4404663, 0.45171702, 0.4956977, 0.5432477, 0.59953856, 0.65004486, 0.68222, 0.5950922, 0.6359309, 0.66565835, 0.67808354, 0.09675288, 0.11653733, 0.12501791, 0.16159233, 0.18304041, 0.23031726, 0.2729141, 0.288513, 0.32804564, 0.37082452, 0.43535414, 0.48177227, 0.5297123, 0.593241, 0.64110607, 0.69168985, 0.6849644, 0.0923118, 0.11942813, 0.12236574, 0.15731823, 0.19000784, 0.23148486, 0.25963962, 0.28411326, 0.33071804, 0.4039359, 0.42337874, 0.43453336, 0.47829834, 0.52591944, 0.5827061, 0.63404036, 0.666933, 0.48865834, 0.5213573, 0.5354012, 0.055358768, 0.06730977, 0.07250148, 0.095387906, 0.10919225, 0.14067984, 0.17036796, 0.1815696, 0.21079004, 0.24382731, 0.29667604, 0.3371397, 0.38127568, 0.44380087, 0.494259, 0.55104446, 0.54327965, 0.052707046, 0.06907517, 0.07087374, 0.09267071, 0.113740355, 0.14147627, 0.16097778, 0.17839178, 0.21281034, 0.27047223, 0.28658077, 0.29597965, 0.33403456, 0.37769097, 0.433093, 0.48661682, 0.5227857, 0.48749503, 0.50158226, 0.0486843, 0.059284836, 0.06390026, 0.084317446, 0.09669256, 0.12508118, 0.15205997, 0.16229284, 0.18912858, 0.21971586, 0.26919678, 0.3075512, 0.34985924, 0.41065344, 0.4604615, 0.51733786, 0.50950634, 0.046336472, 0.060853153, 0.062452167, 0.081887156, 0.100777924, 0.12580225, 0.14350289, 0.15938798, 0.19099054, 0.24457675, 0.25969315, 0.2685414, 0.3045942, 0.34640425, 0.4001695, 0.45287392, 0.48892665, 0.46134463, 0.041736424, 0.050905287, 0.054906398, 0.072672874, 0.08349365, 0.10847363, 0.13241202, 0.14154387, 0.1656265, 0.19331947, 0.23867524, 0.2743137, 0.31412256, 0.3722619, 0.4207389, 0.47704604, 0.46923345, 0.039709896, 0.052264452, 0.05365038, 0.070552826, 0.08707631, 0.10911089, 0.12479907, 0.13894776, 0.16730654, 0.21602166, 0.22990909, 0.23807022, 0.27155143, 0.31085217, 0.3621567, 0.41330567, 0.44878873, 0.022834897, 0.0279724, 0.030228347, 0.040350884, 0.04660049, 0.061280727, 0.07568869, 0.081275225, 0.09625277, 0.113930374, 0.14398581, 0.1686145, 0.19725478, 0.24137563, 0.28042263, 0.32860488, 0.32172686, 0.02170527, 0.028737843, 0.02951929, 0.03913343, 0.048684, 0.061659932, 0.07106951, 0.07968193, 0.09731096, 0.12879783, 0.13806573, 0.14357415, 0.16667268, 0.19485593, 0.23350275, 0.27429396, 0.31382304, 0.49687043, 0.5168378, 0.59066147, 0.62649906, 0.6913861, 0.73754185, 0.7522233, 0.78517497, 0.81524104, 0.8523401, 0.8743725, 0.89398515, 0.9161002, 0.93042827, 0.9438082, 0.9421222, 0.43226686, 0.50381637, 0.5107266, 0.582925, 0.63718325, 0.692786, 0.72417694, 0.7481891, 0.7872099, 0.83534944, 0.8460825, 0.85191953, 0.87283456, 0.89253324, 0.91269624, 0.92842275, 0.9374659, 0.43283945, 0.507263, 0.54477763, 0.61513513, 0.66720855, 0.68413943, 0.7228098, 0.75892675, 0.80462027, 0.83237237, 0.8574746, 0.8862364, 0.9051361, 0.9229773, 0.92071927, 0.35200238, 0.420098, 0.42684495, 0.4992875, 0.5561396, 0.6166936, 0.65195096, 0.67946815, 0.7252268, 0.7835345, 0.79682314, 0.80409503, 0.8304206, 0.85560334, 0.88177705, 0.9024781, 0.914497, 0.60192525, 0.6373829, 0.7012776, 0.74649787, 0.76083976, 0.79296184, 0.8221874, 0.8581328, 0.87942195, 0.8983394, 0.9196273, 0.9333967, 0.9462387, 0.9446213, 0.44378296, 0.5155102, 0.5224105, 0.594255, 0.64792776, 0.70265347, 0.73342335, 0.7569004, 0.79494166, 0.8416848, 0.85207784, 0.857726, 0.8779381, 0.8969401, 0.916353, 0.93147063, 0.940153, 0.43838915, 0.5104139, 0.56667376, 0.5855422, 0.62974954, 0.67249626, 0.72871953, 0.76409066, 0.7969228, 0.83556044, 0.8615649, 0.8865738, 0.8833831, 0.2616229, 0.32089227, 0.32694674, 0.39409062, 0.44972432, 0.5120572, 0.5499167, 0.5803069, 0.63256645, 0.70247054, 0.71895015, 0.7280592, 0.76157236, 0.7944484, 0.82949793, 0.85787666, 0.8746293, 0.67607534, 0.7236078, 0.7387923, 0.7729908, 0.804338, 0.8432051, 0.8663862, 0.88708544, 0.91049486, 0.9257027, 0.93993276, 0.93813896, 0.4149779, 0.4861184, 0.49302515, 0.5656173, 0.6206619, 0.6775139, 0.7098121, 0.7346165, 0.77510834, 0.8253778, 0.83663476, 0.8427638, 0.86476654, 0.88555205, 0.90688705, 0.92357236, 0.93318427, 0.4355173, 0.45459875, 0.50086915, 0.54781264, 0.61312693, 0.65646243, 0.6983611, 0.7498659, 0.78594947, 0.8217925, 0.81715614, 0.1728991, 0.21800458, 0.22275287, 0.27731884, 0.3253157, 0.3823877, 0.41889083, 0.44926792, 0.5038941, 0.5821049, 0.6014718, 0.61233306, 0.65331733, 0.69514513, 0.7416198, 0.7807604, 0.8045321, 0.42508435, 0.4709451, 0.5179941, 0.58434606, 0.62895674, 0.6725358, 0.72672373, 0.76510036, 0.8035618, 0.79856753, 0.15642896, 0.19826534, 0.20269546, 0.25395307, 0.29958394, 0.3545124, 0.39003637, 0.41983274, 0.47396, 0.55270463, 0.5724281, 0.5835365, 0.62570333, 0.66917574, 0.7180026, 0.75956094, 0.78499734, 0.5336385, 0.58008665, 0.6437671, 0.6854336, 0.72527564, 0.7736747, 0.80720675, 0.8402149, 0.83596164, 0.19248652, 0.24121061, 0.2463052, 0.30437988, 0.3547647, 0.4138314, 0.45114595, 0.48192132, 0.53664905, 0.61365616, 0.63248336, 0.6430006, 0.6824242, 0.72223467, 0.7659682, 0.8024034, 0.8243561, 0.5821434, 0.6457036, 0.6872551, 0.7269581, 0.7751519, 0.8085198, 0.84134716, 0.8371185, 0.1938045, 0.24276158, 0.24787888, 0.30617273, 0.35670298, 0.41588345, 0.45324093, 0.4840322, 0.53875273, 0.61565745, 0.634447, 0.6449405, 0.68425465, 0.7239273, 0.7674825, 0.80374056, 0.8255774, 0.7021108, 0.7397122, 0.7749381, 0.8167971, 0.8452196, 0.87274337, 0.8692224, 0.23715842, 0.29308498, 0.29884726, 0.36333612, 0.41762155, 0.4793793, 0.5173855, 0.54816747, 0.60168165, 0.6744362, 0.6917889, 0.70141184, 0.7370231, 0.7722726, 0.810199, 0.84117603, 0.8595751, 0.6501262, 0.69243354, 0.7445801, 0.7812046, 0.8176579, 0.8129373, 0.16893509, 0.21327052, 0.21794543, 0.27174425, 0.31920418, 0.3758003, 0.41209605, 0.44235405, 0.49690047, 0.57528406, 0.59474605, 0.6056727, 0.646953, 0.6891837, 0.7362216, 0.77593255, 0.80009425, 0.66033614, 0.7156906, 0.755092, 0.7947552, 0.78959537, 0.14932209, 0.18968484, 0.19397083, 0.2436958, 0.28819716, 0.34205657, 0.37705973, 0.40652728, 0.46030015, 0.5390973, 0.5589453, 0.57013863, 0.6127622, 0.6569135, 0.7067587, 0.7493962, 0.7755898, 0.6595132, 0.70347714, 0.7487155, 0.7427727, 0.118994325, 0.1526314, 0.15623981, 0.19867802, 0.23753887, 0.28573295, 0.31775606, 0.34515646, 0.39623138, 0.47368658, 0.4937069, 0.50508827, 0.54906136, 0.5956835, 0.6496801, 0.69705987, 0.72672975, 0.46073183, 0.51760817, 0.5097783, 0.046384394, 0.060914874, 0.06251606, 0.08196911, 0.10087648, 0.12592143, 0.14363587, 0.15953258, 0.1911574, 0.24477786, 0.25990003, 0.26875442, 0.30482328, 0.34664983, 0.4004291, 0.4531445, 0.48919618, 0.50175345, 0.49391812, 0.043657273, 0.057385385, 0.058898628, 0.077319264, 0.09526506, 0.11910218, 0.13600719, 0.15120733, 0.18153957, 0.23323902, 0.24788332, 0.2564702, 0.29154813, 0.33242375, 0.38529795, 0.43747202, 0.47336015, 0.394309, 0.029550701, 0.039023846, 0.04007396, 0.052937955, 0.06562737, 0.08272681, 0.09502533, 0.106208295, 0.12888452, 0.1686796, 0.18022266, 0.18704802, 0.21538225, 0.24933755, 0.2948321, 0.3415631, 0.37482366, 0.031896025, 0.04208845, 0.04321742, 0.05703062, 0.07062772, 0.08890578, 0.10202068, 0.11392373, 0.1379925, 0.18001997, 0.19215897, 0.19932696, 0.22899687, 0.2643748, 0.31147563, 0.35949993, 0.3934632, 0.66929275, 0.6753824, 0.73585033, 0.7777986, 0.8180058, 0.8395649, 0.85553616, 0.8805767, 0.9100095, 0.9163634, 0.91978717, 0.93188286, 0.9430323, 0.9542065, 0.9627607, 0.9676168, 0.39758924, 0.46913108, 0.5261572, 0.58776873, 0.62406653, 0.6526132, 0.70051587, 0.76234865, 0.77656853, 0.7843683, 0.8127271, 0.8400312, 0.8685935, 0.8913183, 0.90456754, 0.60776806, 0.6606753, 0.714291, 0.74429524, 0.7671188, 0.80397516, 0.8490499, 0.8590408, 0.8644647, 0.88384944, 0.902034, 0.92057234, 0.9349811, 0.9432464, 0.46097732, 0.52338403, 0.5611198, 0.5913143, 0.6430477, 0.7118633, 0.72802675, 0.7369492, 0.7697126, 0.80175835, 0.83581865, 0.86331904, 0.87952036, 0.499802, 0.5377549, 0.56832117, 0.62109965, 0.69212186, 0.7089387, 0.71824354, 0.7525556, 0.78632677, 0.822451, 0.85179365, 0.8691535, 0.44862476, 0.47937977, 0.5341179, 0.61124045, 0.6301142, 0.6406603, 0.68021333, 0.72018677, 0.7641399, 0.80078495, 0.8228781, 0.4486026, 0.50322324, 0.5814515, 0.60082793, 0.61169356, 0.6527073, 0.69457597, 0.7411036, 0.7803005, 0.8041085, 0.58619195, 0.6601774, 0.6779274, 0.6877874, 0.7243851, 0.76077765, 0.8001238, 0.83240485, 0.8516408, 0.6478098, 0.6658795, 0.6759299, 0.7133391, 0.7506883, 0.79123807, 0.82463956, 0.84460044, 0.5391357, 0.55042744, 0.5936128, 0.63866085, 0.6899065, 0.73407066, 0.7613565, 0.5319064, 0.5754984, 0.62127197, 0.67372423, 0.7192539, 0.7475397, 0.60592484, 0.65041137, 0.70077074, 0.74396145, 0.7705504, 0.5808533, 0.63562, 0.6839737, 0.71440166, 0.69478995, 0.73852366, 0.76549846, 0.51497144, 0.55098903, 0.4917039]\n"
          ]
        }
      ],
      "id": "qn8TEn9cYJpg"
    },
    {
      "cell_type": "markdown",
      "metadata": {
        "id": "D5qwr1oCYJpg"
      },
      "source": [
        "gradiant boosting tree"
      ],
      "id": "D5qwr1oCYJpg"
    },
    {
      "cell_type": "code",
      "execution_count": null,
      "metadata": {
        "id": "dVkRkSK-YJpg"
      },
      "outputs": [],
      "source": [
        "from sklearn.ensemble import GradientBoostingClassifier"
      ],
      "id": "dVkRkSK-YJpg"
    },
    {
      "cell_type": "code",
      "execution_count": null,
      "metadata": {
        "outputId": "e6515d4f-fc00-4878-97c6-2a2259bcfb4a",
        "colab": {
          "base_uri": "https://localhost:8080/"
        },
        "id": "RD3Ms8pRYJpg"
      },
      "outputs": [
        {
          "output_type": "stream",
          "name": "stdout",
          "text": [
            "[0.5800061535532768, 0.24102229763441047, 0.36805074552380007, 0.5992641112769408, 0.6615201600254448, 0.7838259853923291, 0.7402842232049719, 0.7653829542007468, 0.6477078192626562, 0.7899018538162093, 0.7653829542007468, 0.7668071310261843, 0.9735575465883023, 0.9094648180184972, 0.9411811192173527, 0.9737123815785599, 0.5800061535532768, 0.5504738106262145, 0.6545432929493137, 0.752583524132352, 0.3499216132013405, 0.8596753023952939, 0.7350558139711544, 0.29400070896721753, 0.7668071310261843, 0.8294870353005667, 0.7309489759836054, 0.8084676495097819, 0.9314581373417684, 0.9735575465883023, 0.9735575465883023, 0.9836051364065497, 0.994721057242961, 0.4967485349202552, 0.4965358665302213, 0.5784659372722143, 0.5344826000996148, 0.4967777675988726, 0.7900729832176593, 0.7032454324507486, 0.7964381641782122, 0.7668071310261843, 0.6477078192626562, 0.7926572255093776, 0.8125676837874785, 0.8676243852523425, 0.9735575465883023, 0.9735575465883023, 0.9783103058619317, 0.9926879033346687, 0.2498652648160165, 0.6365536147218268, 0.1371956992240583, 0.516400988415444, 0.6605730287428019, 0.6831236472246436, 0.7838259853923291, 0.7366007295332457, 0.7653829542007468, 0.8730607426405884, 0.8536864858677287, 0.8125676837874785, 0.8775579124515324, 0.8878658028421416, 0.9371730997022906, 0.9735575465883023, 0.9737123815785599, 0.37857335381229934, 0.5276932932789197, 0.7415182669021524, 0.789439612331289, 0.8743058035146012, 0.8453937925279488, 0.8622252731444728, 0.7791042059454717, 0.8782336730126132, 0.8622252731444728, 0.8631666910215285, 0.9860394526432772, 0.9506680364744521, 0.968450744064222, 0.9861222411160366, 0.7259704930298739, 0.7014181664213979, 0.784239477116273, 0.8536991661288968, 0.5080220974909132, 0.9215843428009569, 0.8418292658421175, 0.4440954408326153, 0.8631666910215285, 0.9032152165728048, 0.8390150203378397, 0.8900800340761427, 0.9630586033735827, 0.9860394526432772, 0.9860394526432772, 0.9913861382756203, 0.9972412400970037, 0.6544072677057626, 0.6542148467942953, 0.7247114995711018, 0.6877507254008999, 0.6544337131993556, 0.8783439353038159, 0.8196939648420979, 0.8824309372812771, 0.8631666910215285, 0.7791042059454717, 0.8800065788670903, 0.8926649765568463, 0.926326961952476, 0.9860394526432772, 0.9860394526432772, 0.9885750455672376, 0.9961749874767432, 0.38987062342596046, 0.7706370425836775, 0.23374135178690467, 0.6719686325662477, 0.7887361109849309, 0.8052818422436891, 0.8743058035146012, 0.8428846546570495, 0.8622252731444728, 0.9295482984162075, 0.9179856302671066, 0.8926649765568463, 0.9321996539677223, 0.9382312681022169, 0.966234258996492, 0.9860394526432772, 0.9861222411160366, 0.46364260025999743, 0.6893969252054231, 0.7436405960844918, 0.843302015964317, 0.8088179696069303, 0.8288250909124967, 0.7318208172707958, 0.848030332417183, 0.8288250909124967, 0.829949722038649, 0.9820294620741667, 0.9371456948430749, 0.9595956378660105, 0.9821355996591091, 0.6721003833066141, 0.6450811169948983, 0.7376852144566454, 0.8186667306451549, 0.4441139280735785, 0.9009207533010678, 0.8046050733958636, 0.38198520653809465, 0.829949722038649, 0.8783500651604067, 0.8012848574309941, 0.8623545688992857, 0.9527638729334184, 0.9820294620741667, 0.9820294620741667, 0.9888946187374805, 0.9964371953415564, 0.5943301924256164, 0.5941250677847121, 0.6707061540495625, 0.6301944842509398, 0.5943583855036209, 0.8481632160666385, 0.7786302780193302, 0.8530945512516372, 0.829949722038649, 0.7318208172707958, 0.8501679706181526, 0.8654929895862153, 0.9067867120224032, 0.9820294620741667, 0.9820294620741667, 0.9852825012135785, 0.9950617206486163, 0.3308308912667007, 0.722187504865731, 0.19094553784292662, 0.6131396714740105, 0.7428339230895886, 0.7618893360018749, 0.843302015964317, 0.8058515569186762, 0.8288250909124967, 0.9107801499046487, 0.8964802529320509, 0.8654929895862153, 0.9140725279185732, 0.9215810996181419, 0.9567848001065544, 0.9820294620741667, 0.9821355996591091, 0.46067540391503387, 0.5274853040615818, 0.6743837043982543, 0.6194990660575825, 0.6507637260471545, 0.5122363160503961, 0.6822887813319748, 0.6507637260471545, 0.6525678369057403, 0.9546078898325497, 0.8515858978130076, 0.9013796515720038, 0.9548685415728333, 0.4409702901426731, 0.4115797731017621, 0.5197513741617694, 0.6346957455215835, 0.23515873652859817, 0.7777447669575146, 0.6131098882965229, 0.1921568700241706, 0.6525678369057403, 0.7353566166062185, 0.6081205446150268, 0.70683468954498, 0.8858751282060412, 0.9546078898325497, 0.9546078898325497, 0.9716462547249767, 0.9907945613534522, 0.36053800566354577, 0.36034189700488795, 0.43941300268814315, 0.39606838922582077, 0.3605649656504258, 0.6825123331745296, 0.575121177630231, 0.6908627663476502, 0.6525678369057403, 0.5122363160503961, 0.6858942544726105, 0.7123362185818096, 0.7891969572735904, 0.9546078898325497, 0.9546078898325497, 0.9626359364262348, 0.9872684961419943, 0.15984862977179973, 0.5001032721285397, 0.08326399634989332, 0.3788584667462743, 0.5264316117350876, 0.5518480693618485, 0.6743837043982543, 0.6149934346781478, 0.6507637260471545, 0.7971009356472823, 0.7691980629406148, 0.7123362185818096, 0.803684073561339, 0.8189278622037676, 0.8949621723886673, 0.9546078898325497, 0.9548685415728333, 0.5796647096936758, 0.7189834050879105, 0.6679144659376187, 0.6971457706796634, 0.5647100441901648, 0.7262452507048066, 0.6971457706796634, 0.6988211683389652, 0.9629348062217229, 0.8763639180894361, 0.9186387554415808, 0.9631494887218001, 0.49353032963110416, 0.4635414441282601, 0.5720920054162051, 0.6821695464438314, 0.27526684295170484, 0.8121310353804105, 0.6618945601672073, 0.22710849404370703, 0.6988211683389652, 0.77439866375531, 0.6571825707117314, 0.7486462299868165, 0.9055633311541912, 0.9629348062217229, 0.9629348062217229, 0.9769231415182045, 0.9925351547529312, 0.4105517791374989, 0.4103459233623792, 0.49195076980621877, 0.44756127223791475, 0.41058007773723243, 0.7264502737849815, 0.6257722102710985, 0.734095301908315, 0.6988211683389652, 0.5647100441901648, 0.729549623586393, 0.7536366050935034, 0.8222164172110217, 0.9629348062217229, 0.9629348062217229, 0.9695371505703931, 0.9896688571121257, 0.19030805109468105, 0.5527425788599091, 0.10088240414423587, 0.4297058731774128, 0.5786344263961203, 0.6033601174793015, 0.7189834050879105, 0.6636708880604835, 0.6971457706796634, 0.8291503639107006, 0.8045743780824618, 0.7536366050935034, 0.8349090148621466, 0.8481862089326876, 0.9132362652224021, 0.9629348062217229, 0.9631494887218001, 0.7991958599942893, 0.7577932775750384, 0.7816989161026615, 0.6686646187720325, 0.804947236720729, 0.7816989161026615, 0.7830521247796715, 0.9758531657117737, 0.9168494527707834, 0.9461319957591756, 0.9759948900430204, 0.602518831751187, 0.5734051927363861, 0.6752973144493253, 0.7695215588576511, 0.3714010277147288, 0.8705430103357389, 0.7527996457111272, 0.3137039593270711, 0.7830521247796715, 0.8422637478684577, 0.7488738844128855, 0.8224823012583747, 0.9371727813309664, 0.9758531657117737, 0.9758531657117737, 0.9850418695456711, 0.9951884326785462, 0.5200309400555134, 0.5198185998034944, 0.6010043808882937, 0.5575740987803558, 0.5200601269718194, 0.8051091349360173, 0.7223148562346682, 0.8111273944460267, 0.7830521247796715, 0.6686646187720325, 0.8075533655949688, 0.8263467699761851, 0.8779638542925537, 0.9758531657117737, 0.9758531657117737, 0.9802017019688235, 0.9933340794043178, 0.26773235127088896, 0.6578234089608042, 0.14860216349213137, 0.5396168339093377, 0.6811412698362412, 0.7029399048501213, 0.7991958599942893, 0.7542756832588099, 0.7816989161026615, 0.8830328378938385, 0.8649451435996862, 0.8263467699761851, 0.8872223550785892, 0.8968123045057681, 0.9424407056567923, 0.9758531657117737, 0.9759948900430204, 0.4798413774806155, 0.5135709550522224, 0.37305200867865473, 0.5488955759648736, 0.5135709550522224, 0.5155561982701257, 0.9225751880481871, 0.7647667363595474, 0.8381528535931122, 0.9230049429676669, 0.3088874113398066, 0.28383057192429617, 0.38011641009844954, 0.49607867503667047, 0.14836174520825826, 0.6647358918959912, 0.4731016675623604, 0.11876719513787845, 0.5155561982701257, 0.6115593446472941, 0.46787383466554217, 0.5773634526407936, 0.8147510487422924, 0.9225751880481871, 0.9225751880481871, 0.9510204121094419, 0.9838668110476932, 0.24211284245309456, 0.24195677598292287, 0.3075399653799103, 0.27091704482832435, 0.24213430010893489, 0.5491509660529954, 0.43405539787610997, 0.5587412673203148, 0.5155561982701257, 0.37305200867865473, 0.5530231315701507, 0.583864221367471, 0.6796123479073793, 0.9225751880481871, 0.9225751880481871, 0.9358880523042126, 0.9777467301088417, 0.09731192166016388, 0.36177054798681607, 0.04894363105893888, 0.2568325534070599, 0.38644610668064366, 0.4109691717656489, 0.53990961289922, 0.4750832619488443, 0.5135709550522224, 0.6900112500315374, 0.6537780287927967, 0.583864221367471, 0.6987558294001192, 0.719301550356943, 0.8284042896992281, 0.9225751880481871, 0.9230049429676669, 0.5015850939896505, 0.36190567532518886, 0.5369954164345416, 0.5015850939896505, 0.5035719700637362, 0.9190794543956978, 0.7560301262649783, 0.8315414439893978, 0.9195269202717133, 0.2987446985159657, 0.2741842146228439, 0.368883193653544, 0.4840947730314574, 0.14240399286208083, 0.6539651215240975, 0.4611648611424406, 0.11383901141545898, 0.5035719700637362, 0.6001079294350771, 0.45595478818286533, 0.5656199701984922, 0.8074033486315431, 0.9190794543956978, 0.9190794543956978, 0.9487376199777449, 0.9830876673059183, 0.2334222011262556, 0.23327001242155843, 0.2974224566449354, 0.26154928806023753, 0.23344312580214216, 0.537251863905801, 0.4223141390376075, 0.5468864305255244, 0.5035719700637362, 0.36190567532518886, 0.5411408326817161, 0.5721675206725588, 0.6690815818917718, 0.9190794543956978, 0.9190794543956978, 0.9329497104357688, 0.9766790262432065, 0.09317987744419529, 0.3507726991897669, 0.046759007268297334, 0.24778629321366322, 0.3751390363590648, 0.39941167193920535, 0.52797625491786, 0.46314040552301494, 0.5015850939896505, 0.6796611746471903, 0.6428443682397298, 0.5721675206725588, 0.6885659437866436, 0.7095177318919293, 0.8214794733328393, 0.9190794543956978, 0.9195269202717133, 0.32165367157762237, 0.49229374920479035, 0.4569221503028904, 0.4588949982915648, 0.9047216544767619, 0.7215084608463893, 0.8049479748443948, 0.9052403288271335, 0.26262630024870726, 0.24001886314035822, 0.32825435975042694, 0.4396155601477889, 0.12190153071233654, 0.612405367054512, 0.41708918826634034, 0.0969840734757847, 0.4588949982915648, 0.5564667833301932, 0.41199633019896464, 0.5212178940460298, 0.7780165891439278, 0.9047216544767619, 0.9047216544767619, 0.9392945183619384, 0.9798377538809185, 0.20291609097219732, 0.20277853061825823, 0.2614043278157961, 0.22846277029946915, 0.2029350049302244, 0.4925515589965882, 0.37933757319621275, 0.5022545621183139, 0.4588949982915648, 0.32165367157762237, 0.49646410311187, 0.5278760765281101, 0.6283054631780507, 0.9047216544767619, 0.9047216544767619, 0.9208409581366928, 0.9722323974228841, 0.07911065108997892, 0.3111551280526822, 0.039394375458641676, 0.21593171964300098, 0.33418602950223575, 0.35732414907264376, 0.4832417717980737, 0.4190227494647776, 0.4569221503028904, 0.6394862649579338, 0.6007643639538196, 0.5278760765281101, 0.6489309581745321, 0.671276224586695, 0.7936916777518482, 0.9047216544767619, 0.9052403288271335, 0.5707533128031617, 0.5356924615479062, 0.5376686970507512, 0.9286793438605067, 0.7803503447581431, 0.8498294559942356, 0.9290778216263478, 0.3281399298819353, 0.3022042458698803, 0.401231083884113, 0.518249470207709, 0.15992417032982714, 0.6842099339375605, 0.4952548020979163, 0.12837085464785125, 0.5376686970507512, 0.6324141391542443, 0.4900098309464014, 0.5988499042637153, 0.8277690590972452, 0.9286793438605067, 0.9286793438605067, 0.9549913604295167, 0.9852161822036021, 0.25876169065597004, 0.2585985541261124, 0.326748206144784, 0.28879185995207746, 0.2587841200165196, 0.571005999758967, 0.4559623824224749, 0.5804865543058884, 0.5376686970507512, 0.3940237035180462, 0.574835785585662, 0.6052461440197524, 0.6986140610666758, 0.9286793438605067, 0.9286793438605067, 0.9410097359923548, 0.9795973665502311, 0.10538816136053906, 0.3824949603205953, 0.05324239402781667, 0.2741274882488152, 0.40768114288258217, 0.43260162834136223, 0.5618552013603504, 0.49724161914332077, 0.5356924615479062, 0.7086606082546202, 0.6735760097013996, 0.6052461440197524, 0.7170947972349443, 0.7368607660164115, 0.8406504958464848, 0.9286793438605067, 0.9290778216263478, 0.5698046773365244, 0.5717517915534178, 0.9372986339910412, 0.8030947992423298, 0.8666092356134841, 0.9376521877382121, 0.3592619861032431, 0.3320822944548917, 0.4347991329754418, 0.5525728401532893, 0.17935092701652208, 0.7132514519959677, 0.5297298456628345, 0.14462454301976002, 0.5717517915534178, 0.6638790075440862, 0.5244991634946444, 0.6315137960634661, 0.8465687891295436, 0.9372986339910412, 0.9372986339910412, 0.9605657997387809, 0.9870977720404562, 0.286105724975819, 0.2859319993314986, 0.35780856249051557, 0.31794807199073477, 0.2861296095836055, 0.6044395321972267, 0.49035947088947546, 0.6136811072186872, 0.5717517915534178, 0.42741919539264095, 0.6081756571058511, 0.6377043054248528, 0.7268597243207678, 0.9372986339910412, 0.9372986339910412, 0.9482219487401834, 0.9821811493768293, 0.11912961098635695, 0.41558344931277086, 0.06064553112782282, 0.3024327628682992, 0.441391025758146, 0.4667483540280336, 0.5954966893959613, 0.5317092743599537, 0.5698046773365244, 0.7363200904151522, 0.7031712137283993, 0.6377043054248528, 0.7442425325156726, 0.7627393151464894, 0.8582848827522261, 0.9372986339910412, 0.9376521877382121, 0.3713028512516859, 0.8686397664882846, 0.643391929051248, 0.7418625206944619, 0.8693264924993405, 0.19873771460072795, 0.18028529507014085, 0.25389782047544035, 0.3533006466976485, 0.08815407972042898, 0.5238804923136515, 0.33257229613210687, 0.06958814566431028, 0.3713028512516859, 0.46629994289870014, 0.3279308573283685, 0.43120974738529316, 0.7093657175580931, 0.8686397664882846, 0.8686397664882846, 0.9150763888112556, 0.971299921880796, 0.1505866716473778, 0.15047788914806562, 0.19773329426963276, 0.17095821976137954, 0.1506016295311717, 0.40332361046740334, 0.2985524438086001, 0.4126984103842662, 0.3713028512516859, 0.24823978658119145, 0.40709598798627356, 0.4377694384693096, 0.5406884212958867, 0.8686397664882846, 0.8686397664882846, 0.8901220737672353, 0.9606035172196556, 0.056447976328413606, 0.23929214872831892, 0.027766099305667254, 0.16092339573681227, 0.2590039102475395, 0.27911880690107255, 0.3943895755834308, 0.33433877802413475, 0.3694494630521127, 0.5526281917952824, 0.5117006838134077, 0.4377694384693096, 0.5627926581637309, 0.587132356916677, 0.7281949297500339, 0.8686397664882846, 0.8693264924993405, 0.9098124221041063, 0.7335048964507584, 0.8142753393815297, 0.9103061308970344, 0.27451375732768374, 0.25123167165154614, 0.3417356787208909, 0.4545754804042944, 0.1285295443350797, 0.626669773559312, 0.43187331529993045, 0.10241529391633257, 0.4739561046058312, 0.5713489015915322, 0.42673209035194964, 0.5362971746923788, 0.7882930943515856, 0.9098124221041063, 0.9098124221041063, 0.942655127063324, 0.9809993223743255, 0.2128811157802239, 0.21273860296944688, 0.27325697107041075, 0.23930571288800048, 0.21290071049089684, 0.5076808978460784, 0.3936873148066803, 0.5173780689951556, 0.4739561046058312, 0.3349990936975347, 0.5115924605357868, 0.5429295489314466, 0.6423264700372951, 0.9098124221041063, 0.9098124221041063, 0.9251417260049393, 0.9738204119195266, 0.08363364143658938, 0.3242731900174498, 0.041749613394052344, 0.22635441537352305, 0.34778483456494336, 0.37133937784147675, 0.49836599242660473, 0.43382440563841207, 0.4719749843930664, 0.6533182271976764, 0.6151879865448372, 0.5429295489314466, 0.6625917464425625, 0.6844902639372286, 0.8034258664652565, 0.9098124221041063, 0.9103061308970344, 0.34080985942655584, 0.4516187530559397, 0.6559308761117386, 0.0663593821547786, 0.05928857397485929, 0.08885188610688692, 0.13536107517042278, 0.026956905618586584, 0.23972107210952304, 0.1249488556578644, 0.020982985236262266, 0.14474381743175896, 0.20023777356549552, 0.1226724657751727, 0.17847392782237181, 0.41156523598690437, 0.6545683120810999, 0.6545683120810999, 0.7553682494238751, 0.9065255794681975, 0.04834631774433547, 0.04830719241551338, 0.06596891896627882, 0.05579519282487102, 0.048351698113512614, 0.16226925872833012, 0.1087082082151868, 0.1676149969062518, 0.14474381743175896, 0.08644570534784704, 0.16440824261129802, 0.18242199333752512, 0.25224215167115305, 0.6545683120810999, 0.6545683120810999, 0.6989251179041321, 0.8747998191146324, 0.01685455553423277, 0.08268837456956471, 0.008117482378322943, 0.05209538144086124, 0.09104379836473614, 0.09987260765540211, 0.1572674546771837, 0.1258204267158912, 0.1437627194891958, 0.26143785607979536, 0.2309432511979905, 0.18242199333752512, 0.26947254591072684, 0.28952732275398346, 0.434301953331454, 0.6545683120810999, 0.6559308761117386, 0.39079887039202993, 0.5975795032928715, 0.05245943802334063, 0.04679547995232242, 0.07059680687810915, 0.10869031895895384, 0.02112365301756478, 0.1971770132420095, 0.10009216975938415, 0.016420624729889186, 0.11647337706351861, 0.1631968126908343, 0.09821780390189151, 0.1447303803759136, 0.35267042328603243, 0.5961281405925178, 0.5961281405925178, 0.7063305067181785, 0.8830988435944971, 0.038065639892133726, 0.038034501911655264, 0.0521461949862428, 0.04400377933943682, 0.03806992191356428, 0.13110055932317852, 0.08676201412331734, 0.13558567537310198, 0.11647337706351861, 0.0686477421385312, 0.13289386332272246, 0.14806653178358867, 0.20808412880524307, 0.5961281405925178, 0.5961281405925178, 0.6439068103262627, 0.8447833245481747, 0.013177762853904266, 0.06560843719696625, 0.006334387198825855, 0.04105186835054211, 0.0723741507348117, 0.07955095368212159, 0.12691395181078863, 0.10081032986495599, 0.11565798752567881, 0.21613532384080536, 0.1895685899660781, 0.14806653178358867, 0.22319849789601198, 0.24094530647700618, 0.374222704303942, 0.5961281405925178, 0.5975795032928715, 0.8793634179359151, 0.21369355715256128, 0.19418905391457467, 0.27159764946312526, 0.37445226719349306, 0.09578283915476536, 0.5466126362739919, 0.35316063326021685, 0.07574368976563785, 0.39287748260969413, 0.4891002055101585, 0.34838184190935756, 0.45375299080273707, 0.727842616197436, 0.8787220801845024, 0.8787220801845024, 0.9219149393458902, 0.9737409414664082, 0.16265452354880122, 0.1625386915078691, 0.21263360872283404, 0.1843043963621057, 0.1626704505774288, 0.42549958685591316, 0.3180382948107129, 0.4350140432671241, 0.39287748260969413, 0.2656856380442665, 0.42933013736521536, 0.46037804568168644, 0.5632870406966406, 0.8787220801845024, 0.8787220801845024, 0.8987477474379688, 0.9639205015722917, 0.06151803595155163, 0.2563235828161813, 0.030342846650464154, 0.1736502724039226, 0.2769275777054055, 0.2978748990726964, 0.41641715145079894, 0.354978309244894, 0.3909833756685289, 0.5751010078081826, 0.5344976289320976, 0.46037804568168644, 0.5851381872870008, 0.6090979398493256, 0.7459035607615367, 0.8787220801845024, 0.8793634179359151, 0.0277508713782934, 0.02468515650269977, 0.037685239817949606, 0.05915014327273553, 0.011002957152628131, 0.1123909735733867, 0.05423250855683658, 0.008533584797974435, 0.06363903232737758, 0.09135949260671321, 0.05316619224178516, 0.08024229321676123, 0.21928516763316752, 0.4321321336785013, 0.4321321336785013, 0.5535718173647414, 0.7956935451403416, 0.01999354801726328, 0.019976886137350356, 0.027580872305816836, 0.023180425047552855, 0.019995839359637137, 0.07217307920613544, 0.0466929897513613, 0.07481579602539702, 0.06363903232737758, 0.03660901972982479, 0.07322825575765081, 0.08223487086025046, 0.1193050080976147, 0.4321321336785013, 0.4321321336785013, 0.48246873784517047, 0.7372536294828577, 0.0068374839310144184, 0.03493498763055526, 0.00327576397775089, 0.02159385691035495, 0.03866847639027393, 0.04265663645856119, 0.06971729139916857, 0.05464160531839114, 0.06316707370691209, 0.12446102644711385, 0.10761562025050056, 0.08223487086025046, 0.12902144747888333, 0.14063580240718898, 0.23565348167295588, 0.4321321336785013, 0.43361289873645364, 0.7014181664213979, 0.784239477116273, 0.8536991661288968, 0.5080220974909132, 0.9215843428009569, 0.8418292658421175, 0.4440954408326153, 0.8631666910215285, 0.9032152165728048, 0.8390150203378397, 0.8900800340761427, 0.9630586033735827, 0.9860394526432772, 0.9860394526432772, 0.9913861382756203, 0.9972412400970037, 0.6544072677057626, 0.6542148467942953, 0.7247114995711018, 0.6877507254008999, 0.6544337131993556, 0.8783439353038159, 0.8196939648420979, 0.8824309372812771, 0.8631666910215285, 0.7791042059454717, 0.8800065788670903, 0.8926649765568463, 0.926326961952476, 0.9860394526432772, 0.9860394526432772, 0.9885750455672376, 0.9961749874767432, 0.38987062342596046, 0.7706370425836775, 0.23374135178690467, 0.6719686325662477, 0.7887361109849309, 0.8052818422436891, 0.8743058035146012, 0.8428846546570495, 0.8622252731444728, 0.9295482984162075, 0.9179856302671066, 0.8926649765568463, 0.9321996539677223, 0.9382312681022169, 0.966234258996492, 0.9860394526432772, 0.9861222411160366, 0.6953623800910276, 0.7856125287351506, 0.3933758233394962, 0.8806747627382352, 0.7697086872151444, 0.3340792847450431, 0.7984458735635684, 0.8542381543315379, 0.7659679751314488, 0.8356654027247121, 0.9424346815333765, 0.9779517244601214, 0.9779517244601214, 0.9863530220510135, 0.9956141498225703, 0.5432004515876137, 0.5429893535232312, 0.6230980598628982, 0.5803936286925673, 0.5432294671103011, 0.8192989719229223, 0.7405905695218199, 0.8249743056447976, 0.7984458735635684, 0.6889507631744343, 0.8216046729693967, 0.8392989556513645, 0.8875898199607508, 0.9779517244601214, 0.9779517244601214, 0.9819293354243563, 0.993922863852416, 0.28636769393640643, 0.6784541247170625, 0.16076599052735796, 0.5626360485611701, 0.7010051004497659, 0.7219999982930068, 0.813716620490867, 0.7711144583164043, 0.797163811256828, 0.8923080160585772, 0.8754523247270103, 0.8392989556513645, 0.8962043662257329, 0.9051122235538737, 0.9472862234807045, 0.9779517244601214, 0.978081408431695, 0.5710678567490867, 0.19067758514510497, 0.7283695684386517, 0.548397402054686, 0.15417010775021345, 0.5900421952448427, 0.6804338953887146, 0.5431953037725533, 0.6488195214113489, 0.8560763890366674, 0.94157205053531, 0.94157205053531, 0.9633155056956242, 0.9880205035136986, 0.3016957857820075, 0.30151659191179314, 0.3752520049981434, 0.334460340195869, 0.30172042181526815, 0.6222562125805329, 0.5091417071140638, 0.6313354180091096, 0.5900421952448427, 0.44589991332334106, 0.6259282011624021, 0.6548781829486507, 0.7415203836908086, 0.94157205053531, 0.94157205053531, 0.9517891788909871, 0.9834496084665951, 0.1272427660910637, 0.4339402550793254, 0.0650699326066984, 0.3185155525977562, 0.45999053432208126, 0.4854877301931726, 0.6134585776329736, 0.5503649503870549, 0.5881183340255058, 0.7506471661471988, 0.7186111184027149, 0.6548781829486507, 0.7582804553623754, 0.7760674667370662, 0.8671803812463166, 0.94157205053531, 0.9419030013820332, 0.24190408377765038, 0.7840982559937152, 0.6218816161725889, 0.19798804128506545, 0.6609396910807604, 0.7425206795900922, 0.6169347163314269, 0.7144710606237072, 0.8895764203635238, 0.9561902833688883, 0.9561902833688883, 0.9726516980247638, 0.9911271930886011, 0.3691439857441258, 0.368945896815371, 0.44858098317490364, 0.4049853504325098, 0.3691712177413683, 0.6905048469288292, 0.5841700438795911, 0.6987378538768966, 0.6609396910807604, 0.5215102089966216, 0.6938398216498066, 0.7198860761817073, 0.7953092296528216, 0.9561902833688883, 0.9561902833688883, 0.9639490369596563, 0.9877269613845, 0.1648995056401393, 0.5093869031330827, 0.0861430813862056, 0.38763666158368215, 0.5356802575261664, 0.561014261894236, 0.6824856525340087, 0.6237486648090593, 0.6591563465490727, 0.8030412261950319, 0.7757254185470236, 0.7198860761817073, 0.8094776964416812, 0.8243699252666068, 0.8984025531482721, 0.9561902833688883, 0.9564422632538702, 0.8746007330846852, 0.7595284854377102, 0.32161427544988436, 0.7891880908978717, 0.8470521287118085, 0.7556749021317043, 0.8277483760816305, 0.939287699157429, 0.9766983816903326, 0.9766983816903326, 0.9855702076240342, 0.9953600708228275, 0.5291326892488043, 0.5289207280343577, 0.6097230005853326, 0.5665573059900578, 0.5291618238084571, 0.8107720136666682, 0.7295754119659843, 0.8166552253003678, 0.7891880908978717, 0.6767000848814053, 0.8131617047222969, 0.8315216880146888, 0.8818205531447918, 0.9766983816903326, 0.9766983816903326, 0.9808976849114693, 0.9935714387103869, 0.27494786450134534, 0.6659904611919638, 0.1532791115374568, 0.5486695165599201, 0.6890148806198352, 0.7105040156443465, 0.8049889410535618, 0.7609771019695521, 0.7878627866434067, 0.8867500058262219, 0.8691519540608708, 0.8315216880146888, 0.8908228433050069, 0.9001410878379185, 0.9443888149793209, 0.9766983816903326, 0.9768352629785426, 0.6125137853174983, 0.1917671801572326, 0.6519980216231126, 0.7348674150547657, 0.6075216752905972, 0.7063138210624018, 0.8856208869952701, 0.9544989031079245, 0.9544989031079245, 0.9715769591607589, 0.9907716191123108, 0.35995899632964923, 0.35976302542600364, 0.43879424339259737, 0.39546760783277174, 0.3599859373937876, 0.681967694526166, 0.5745071635535033, 0.6903259529921697, 0.6519980216231126, 0.5116085973153598, 0.6853527427901761, 0.7118211395610742, 0.7887786938950925, 0.9544989031079245, 0.9544989031079245, 0.9625454688091725, 0.9872368792721568, 0.15951152306214694, 0.4994751963936669, 0.08307243009988269, 0.37826743974185884, 0.5258052497133762, 0.5512266664477312, 0.6738317853039946, 0.6143984085830628, 0.6501925379854142, 0.7966943148784009, 0.7687517460123883, 0.7118211395610742, 0.8032873899319524, 0.8185550266641893, 0.8947257691229843, 0.9544989031079245, 0.9547601510160215, 0.08757403386949168, 0.4311352353729873, 0.5285702917954871, 0.3850547416790647, 0.4931238288277101, 0.7579945956505095, 0.8945794165398127, 0.8945794165398127, 0.932558170172433, 0.9774925906711156, 0.1853373532969339, 0.18520894087919446, 0.24028616154620566, 0.20925190227043164, 0.1853550097532786, 0.4645035738443815, 0.3532486221286471, 0.4741703424285341, 0.4311352353729873, 0.2976295143790336, 0.4683989731599731, 0.49979776404766674, 0.6016931907260064, 0.8945794165398127, 0.8945794165398127, 0.9122481678002726, 0.9690305800714559, 0.07129788562497429, 0.2875826722021592, 0.03535330993526908, 0.19750482002085365, 0.3096531203426128, 0.3319394761473657, 0.4552483208908298, 0.39192794367935674, 0.4291870713068111, 0.6131816672770117, 0.5735186896114021, 0.49979776404766674, 0.6229091235591468, 0.6460071617507938, 0.7746740457398995, 0.8945794165398127, 0.8951469041711915, 0.18465008007447417, 0.25095449939554065, 0.15761502486543133, 0.22523066590261073, 0.483451627308751, 0.7171689860395231, 0.7171689860395231, 0.805139590075463, 0.9284561284103308, 0.06365356039554161, 0.0636028752633699, 0.08634949557466744, 0.07327926791395736, 0.06366053032252046, 0.20584440498327708, 0.14030926351249295, 0.21226193756778702, 0.18465008007447417, 0.11239120393764893, 0.20841488244484663, 0.2299235704476247, 0.311008477895573, 0.7171689860395231, 0.7171689860395231, 0.7564778686617564, 0.9033803933804506, 0.022425950787535977, 0.10763903360368281, 0.010832596896574882, 0.06850419301072756, 0.11819080763979105, 0.12927773342220147, 0.19981981472258872, 0.16149460798031973, 0.18345651245230385, 0.3214256529442496, 0.286649658499819, 0.2299235704476247, 0.3304789932099528, 0.3528808510845926, 0.5067397021012832, 0.7171689860395231, 0.7183908546168907, 0.6360054289120264, 0.4938789594597546, 0.6025630347552745, 0.8299649043386125, 0.9296979071264714, 0.9296979071264714, 0.9556520942362445, 0.9854399757733033, 0.26174200524215746, 0.26157765283545165, 0.3301627795825342, 0.2919818059816669, 0.26176460170636673, 0.5747938619157663, 0.45980505604121175, 0.5842516555831117, 0.5415145641011881, 0.3977259935535472, 0.5786147870288848, 0.6089387316065015, 0.7018634856492815, 0.9296979071264714, 0.9296979071264714, 0.941863227112965, 0.9799044813865934, 0.10685663776359977, 0.3861579552609577, 0.05402815373688783, 0.27721859162397616, 0.411424632867493, 0.43640535219047594, 0.5656624023108533, 0.5011117417526102, 0.539540689266885, 0.7118463922319515, 0.676970563377852, 0.6089387316065015, 0.7202247646114939, 0.7398513838777493, 0.8427133161584656, 0.9296979071264714, 0.9300911224410375, 0.09542176551219748, 0.1408169991585142, 0.34540521013685066, 0.5884064035175014, 0.5884064035175014, 0.699654199628439, 0.8797570809203635, 0.03691190526845367, 0.03688167486660972, 0.050588135424790084, 0.04267805029274435, 0.03691606248645647, 0.12750077591521283, 0.08426162375684648, 0.13188143098565508, 0.11322289392864357, 0.06663129765947302, 0.12925216381276633, 0.14407814012765846, 0.20286403705580883, 0.5884064035175014, 0.5884064035175014, 0.6365416112093149, 0.8405440370125196, 0.012768344283690464, 0.06367516496735764, 0.006136262678254614, 0.039811369793281065, 0.07025650452038033, 0.07724080171118501, 0.1234127973560332, 0.09794850440086232, 0.11242736428951706, 0.2107670117292656, 0.1847046509454457, 0.14407814012765846, 0.21770347577469096, 0.23514562687665383, 0.36676505801789705, 0.5884064035175014, 0.5898664240269026, 0.38575392560852384, 0.6690799300183544, 0.8456269517052122, 0.8456269517052122, 0.8992552246422773, 0.9655589044410764, 0.12805282875590812, 0.12795787230939773, 0.16955268074821533, 0.14589958095550049, 0.12806588580519393, 0.3589522679755442, 0.26067188226239385, 0.3679316802105455, 0.3285147182988582, 0.21478819674754465, 0.3625618082738016, 0.3920988100520146, 0.4937092183827276, 0.8456269517052122, 0.8456269517052122, 0.8703108249026354, 0.9528267623175136, 0.0472180023992856, 0.20671475156899333, 0.02311111096860272, 0.13709240858127456, 0.22453503959930282, 0.24285032348196614, 0.3504238708690169, 0.2938195665116283, 0.32676390258764765, 0.5057538853686412, 0.464691976966489, 0.3920988100520146, 0.5160507069684864, 0.5408697055506749, 0.6893762394723535, 0.8456269517052122, 0.8464127124496591, 0.6449515923885379, 0.8311220936971603, 0.8311220936971603, 0.8891286098009924, 0.961813961464856, 0.11656265060801614, 0.11647507643776984, 0.15500067518913715, 0.13305237353860797, 0.11657469268634922, 0.33469630816097024, 0.2405649100726229, 0.34339397899647495, 0.3053358875524983, 0.19727608816589304, 0.3381906143432813, 0.36688491051092, 0.4669806277750729, 0.8311220936971603, 0.8311220936971603, 0.8577350698522104, 0.9477722779159689, 0.04262654221926171, 0.18970185971402032, 0.020812589983892377, 0.12490730303183865, 0.20643717783531695, 0.2237020801352018, 0.326450733181466, 0.2720967465114309, 0.30365274099992123, 0.4789901328421085, 0.438174740288077, 0.36688491051092, 0.48928148107077746, 0.5141809042927146, 0.6659890030651032, 0.8311220936971603, 0.831967013743887, 0.5363618752739769, 0.5363618752739769, 0.6533902427242898, 0.8555059980380298, 0.030081915314161257, 0.030057104017458643, 0.04133617949616505, 0.0348196966940385, 0.030085327331352444, 0.10574920087513627, 0.06930072287296671, 0.10947628989762669, 0.09364568374006539, 0.054614023409235206, 0.10723852644969781, 0.11988707230142985, 0.1707719783018189, 0.5363618752739769, 0.5363618752739769, 0.5863043047407415, 0.8100915049649048, 0.01035770974145979, 0.05216124822831387, 0.004971444789004994, 0.03246296172873415, 0.05762577359059727, 0.06344010942014394, 0.10227687752273303, 0.08077180598140403, 0.09297328629818596, 0.17770344873609392, 0.15492698805977997, 0.11988707230142985, 0.18380518997079104, 0.19922309049327042, 0.31912481066782705, 0.5363618752739769, 0.5378615127342048, 0.3530927198036199, 0.4707329980719341, 0.7363878556723471, 0.014422127684457683, 0.014410040548194548, 0.01993817639009638, 0.016736112512703908, 0.014423789916865007, 0.05284533144496782, 0.033939140485590664, 0.054822152442511006, 0.04648218489468802, 0.026532872583791386, 0.053634269207972735, 0.0603879774292936, 0.08856020092312239, 0.3530927198036199, 0.3530927198036199, 0.40071934254695263, 0.6680609042273921, 0.004913762652427897, 0.02530749195770105, 0.0023517572035558487, 0.015583584217692941, 0.028041990404790187, 0.030969471404924592, 0.05101103957149298, 0.03980730878086974, 0.046131195989210845, 0.09252711275834445, 0.07961085666583492, 0.0603879774292936, 0.0960457908954049, 0.10504974270237294, 0.1810909326973665, 0.3530927198036199, 0.3544717071665682, 0.6957145305275183, 0.8777671136890403, 0.036253604569381606, 0.036223893029541106, 0.049698514134629196, 0.04192139024765104, 0.03625769043723109, 0.12543730256567853, 0.08283149861374574, 0.1297576047830049, 0.11136100098117425, 0.06547900599427862, 0.12716447712327603, 0.14178997816222524, 0.1998602718306559, 0.5838753845077226, 0.5838753845077226, 0.632209269887584, 0.838024593432934, 0.012535024603828143, 0.06257056824463555, 0.006023393544320031, 0.039103458504572176, 0.06904615786587649, 0.07591995794634977, 0.12140627788176515, 0.09631051107862787, 0.11057692214890932, 0.20767671527071863, 0.1819084083487657, 0.14178997816222524, 0.21453912216903015, 0.2318028709066559, 0.36243787213298084, 0.5838753845077226, 0.5853401509877061, 0.9403615399458337, 0.07629546131671303, 0.07623552945493252, 0.10300306636913102, 0.087653919818824, 0.07630370269981948, 0.2395027916620531, 0.16548471371253007, 0.2466437770579899, 0.21578455156085932, 0.1333342836024095, 0.24236530518487387, 0.2661994643976995, 0.35419332269297005, 0.7549544624729805, 0.7549544624729805, 0.7905455396472452, 0.9190949731294343, 0.027116979518325098, 0.12782411335384553, 0.013131118771961797, 0.08202506134660455, 0.14004408081982175, 0.15282568391887086, 0.23278185034177618, 0.189632818550643, 0.21444266300772502, 0.3652900765977719, 0.32806266904021475, 0.2661994643976995, 0.37489632967612574, 0.3985169086812736, 0.5552020361191213, 0.7549544624729805, 0.7560686150764753, 0.004570008486862217, 0.004566140123804196, 0.0063421530909402776, 0.005311771316955757, 0.004570540472237198, 0.01720351574580611, 0.01090193524493782, 0.017872217389690675, 0.015063771785225841, 0.008478770718309854, 0.017470164813084957, 0.019765142701506623, 0.029582648353514387, 0.14620672452729672, 0.14620672452729672, 0.17340800238687087, 0.3870409981620793, 0.0015468529814887096, 0.00808027053075843, 0.0007390296437874203, 0.004942023245738437, 0.008970482771772386, 0.009927303752388573, 0.016584709310529182, 0.012839849417457838, 0.014946305876961169, 0.03099760195771289, 0.026420446201003756, 0.019765142701506623, 0.0322595779110242, 0.035518758263678195, 0.06487796368146975, 0.14620672452729672, 0.1469612820141807, 0.7082766552862214, 0.771599453448909, 0.738663828864002, 0.7084765511295149, 0.9025822174453607, 0.8536707239556722, 0.9059421383875422, 0.8900503070292229, 0.8190411150661667, 0.9039498267227459, 0.9143282914869334, 0.9416404808697872, 0.9890874771128341, 0.9890874771128341, 0.9910744818530248, 0.9970168024351352, 0.45055082664032403, 0.8117348618255589, 0.2813259600664963, 0.7244239440858039, 0.8273175858854718, 0.8414491018025939, 0.8992563486234942, 0.87316755692475, 0.889270122049252, 0.9442325478547061, 0.9349111332252984, 0.9143282914869334, 0.9463631687411456, 0.9512007361305488, 0.9734901230011915, 0.9890874771128341, 0.9891523891206522, 0.5104397793156139, 0.4659119145006708, 0.4285907940241899, 0.7408999863164107, 0.6429260112551616, 0.7482811116003172, 0.7141560669948415, 0.5827967340381291, 0.7438933368478186, 0.7671106354031323, 0.8327719726333197, 0.965486189335044, 0.965486189335044, 0.9716474426637768, 0.9903983509248099, 0.20196711887355623, 0.5709487238858855, 0.10779223318449836, 0.4479180036879125, 0.5965558920999531, 0.6209189081704511, 0.7336829444811623, 0.6799759075340162, 0.7125308830080456, 0.8393746559537598, 0.8159429160070352, 0.7671106354031323, 0.8448531709704744, 0.8574671508098464, 0.9189205988653371, 0.965486189335044, 0.9656866207523878, 0.463540894990295, 0.4262581198510924, 0.7390660473841443, 0.640734868080732, 0.7464815402904698, 0.7122063615241689, 0.5804773792730739, 0.7420732093394035, 0.7654034752368336, 0.831440370881719, 0.9651671607247149, 0.9651671607247149, 0.9713836776302894, 0.9903072862404761, 0.20043522381899356, 0.5686122571726089, 0.10687897731520782, 0.4455621621740956, 0.5942597757300642, 0.61867281720761, 0.7318164130440139, 0.6778982146720498, 0.7105745848415262, 0.838085407756316, 0.8145071567508811, 0.7654034752368336, 0.8435997022398978, 0.8562982592823292, 0.9182076053157924, 0.9651671607247149, 0.9653693783777062, 0.37752184963323554, 0.6980805886738948, 0.5928137458661888, 0.706197817053178, 0.6688921011808076, 0.5304093813994846, 0.7013692353827778, 0.7270269432817371, 0.8010587068121141, 0.9576614036269671, 0.9576614036269671, 0.9651691105661175, 0.988152208810759, 0.16987379301977615, 0.5183032888910036, 0.08899481297403707, 0.39614268492560045, 0.5445460489219676, 0.5697848159584581, 0.6901696096757457, 0.6320878037100445, 0.6671295182437925, 0.8086257823659264, 0.7818741090669749, 0.7270269432817371, 0.8149218142498997, 0.8294781451279472, 0.9016145080069218, 0.9576614036269671, 0.9579052945854886, 0.7422568170755253, 0.6445497595768301, 0.7496123523072797, 0.7155991883974974, 0.5845172117584884, 0.7452398822948428, 0.7683731193619878, 0.8337556482480829, 0.9657213413967558, 0.9657213413967558, 0.971841840702803, 0.9904654457781087, 0.20311067526456567, 0.5726822363145755, 0.10847504319693169, 0.44966946695662674, 0.5982587424402016, 0.6225839843844111, 0.7350640543089358, 0.6815146357268147, 0.7139789232656544, 0.8403269397774641, 0.8170038312269781, 0.7683731193619878, 0.8457789425016121, 0.8583302753162209, 0.9194465447567889, 0.9657213413967558, 0.9659204554223412, 0.42462892780694395, 0.5492348474623387, 0.5059420726384901, 0.36409804243066374, 0.5434941709366569, 0.574486857910578, 0.6711774712931404, 0.9197818045264514, 0.9197818045264514, 0.933540378943581, 0.97689400927237, 0.09398411744045283, 0.3529349270780381, 0.04718343358372123, 0.24955771628581327, 0.37736415973453374, 0.40168821584361136, 0.5303385114738745, 0.46549865202023333, 0.5039553383590363, 0.6817219321813487, 0.6450182682715844, 0.574486857910578, 0.6905954944365401, 0.7114679582607443, 0.8228656773674775, 0.9197818045264514, 0.9202257237255254, 0.5609632790108157, 0.5178080031469154, 0.37516340899345646, 0.5552510177781091, 0.586053448774566, 0.6815725753742155, 0.9232168443621435, 0.9232168443621435, 0.9364269812157014, 0.9779420855737032, 0.09810690102811519, 0.3638551539011998, 0.04936507973537778, 0.2585574470511513, 0.38858632869338006, 0.4131537536156991, 0.5421487475535627, 0.47733247188829236, 0.5158233215862428, 0.6919366940146956, 0.65581626918633, 0.586053448774566, 0.7006505217191147, 0.7211185937586406, 0.8296823073413402, 0.9232168443621435, 0.9236433324712536, 0.5240311399439709, 0.3810268737129665, 0.561400234610599, 0.5920896539819686, 0.6869599120016625, 0.9249659819481724, 0.9249659819481724, 0.9378954323868894, 0.9784736376653488, 0.10033555254396552, 0.36964643695508426, 0.05054854266087127, 0.263366621090246, 0.3945271195258145, 0.4192126137539116, 0.5483317591629039, 0.48355698571171324, 0.5220484299426492, 0.6972265781572914, 0.6614228981779486, 0.5920896539819686, 0.7058543849910071, 0.7261057351522374, 0.8331771640796345, 0.9249659819481724, 0.9253835397902203, 0.3334236692885243, 0.509823244373722, 0.5411720405582447, 0.6406982270016083, 0.9092297834641756, 0.9092297834641756, 0.9246499174818249, 0.9736393030115487, 0.08309262492223592, 0.32272372793070625, 0.04146727921895924, 0.22511696105702253, 0.34618058288054854, 0.36968806032099844, 0.4965960093957719, 0.4320862028200987, 0.47021087272913514, 0.6517128901591744, 0.6135105366608267, 0.5411720405582447, 0.6610070695961044, 0.6829592242564614, 0.8023052811492836, 0.9092297834641756, 0.9097263652931331, 0.5959780749731839, 0.6258604596950524, 0.7166353666252658, 0.9342388766019496, 0.9342388766019496, 0.9456643361212993, 0.9812678370790225, 0.11388941618464644, 0.4032730054326653, 0.05780906560146318, 0.29180053649017673, 0.42887712110653214, 0.45409995048090074, 0.5831749228805895, 0.519013868950085, 0.5572821251131728, 0.7263165203637773, 0.6924353424219343, 0.6258604596950524, 0.734431121958701, 0.7534023698208837, 0.8519782615242121, 0.9342388766019496, 0.9346084797073642, 0.574486857910578, 0.6711774712931404, 0.9197818045264514, 0.9197818045264514, 0.933540378943581, 0.97689400927237, 0.09398411744045283, 0.3529349270780381, 0.04718343358372123, 0.24955771628581327, 0.37736415973453374, 0.40168821584361136, 0.5303385114738745, 0.46549865202023333, 0.5039553383590363, 0.6817219321813487, 0.6450182682715844, 0.574486857910578, 0.6905954944365401, 0.7114679582607443, 0.8228656773674775, 0.9197818045264514, 0.9202257237255254, 0.7301514121158286, 0.9382696460724798, 0.9382696460724798, 0.9490329975258478, 0.9824700969107378, 0.12088717932197877, 0.41963116693664687, 0.06160059937846443, 0.3059553692550418, 0.4454984930343465, 0.4708928744863, 0.5994991829414977, 0.5358509830853058, 0.5738794777627564, 0.7395386226678905, 0.7066331573622392, 0.6415405585502849, 0.7473975367715041, 0.7657379661559716, 0.8602971452181021, 0.9382696460724798, 0.9386180831437776, 0.8311220936971603, 0.8311220936971603, 0.8577350698522104, 0.9477722779159689, 0.04262654221926171, 0.18970185971402032, 0.020812589983892377, 0.12490730303183865, 0.20643717783531695, 0.2237020801352018, 0.326450733181466, 0.2720967465114309, 0.30365274099992123, 0.4789901328421085, 0.438174740288077, 0.36688491051092, 0.48928148107077746, 0.5141809042927146, 0.6659890030651032, 0.8311220936971603, 0.831967013743887, 0.25208087518051864, 0.2922375880070136, 0.5541258893551769, 0.0030399730662582615, 0.015780186014725948, 0.0014535228373477715, 0.009680601130464078, 0.01750373684560769, 0.019352968346589706, 0.03212626614649542, 0.024961166068876616, 0.028997784905843513, 0.05923200339353958, 0.050703864113750885, 0.038171404378961056, 0.06157042174419124, 0.06758406612509334, 0.12014620855624865, 0.25208087518051864, 0.2532197839666033, 0.40071934254695263, 0.6680609042273921, 0.004913762652427897, 0.02530749195770105, 0.0023517572035558487, 0.015583584217692941, 0.028041990404790187, 0.030969471404924592, 0.05101103957149298, 0.03980730878086974, 0.046131195989210845, 0.09252711275834445, 0.07961085666583492, 0.0603879774292936, 0.0960457908954049, 0.10504974270237294, 0.1810909326973665, 0.3530927198036199, 0.3544717071665682, 0.727032910526543, 0.006492481849994072, 0.033219677572221835, 0.0031099144963917455, 0.020519669206840337, 0.036776837579095334, 0.04057813440568981, 0.06641169255597962, 0.05201084636848424, 0.0601519673738485, 0.11889151630271559, 0.10271149384296069, 0.07838576881337161, 0.12327659676218754, 0.13445363916916786, 0.2263948361111625, 0.4193896053777952, 0.4208590667196905, 0.0025928110899630743, 0.013484361285367522, 0.0012394281522946388, 0.008264739809627383, 0.014960968174150093, 0.016546085823456878, 0.02751877920039707, 0.021358607190188773, 0.024827469327822576, 0.05094167060923361, 0.04355190369969077, 0.032726250248722284, 0.05297122390167642, 0.05819706230003068, 0.10427509656379656, 0.2232026657647488, 0.22425022183707782, 0.930224424410633, 0.5475868965299279, 0.8904486926892017, 0.9367637766851089, 0.9425605722293435, 0.9650347135259337, 0.955130082503188, 0.9612880846421257, 0.9812567679472426, 0.9779795528376064, 0.9705876312265153, 0.9819998271896878, 0.9836787150397952, 0.9912697237727432, 0.9964444765397018, 0.9964657825733974, 0.191309698656829, 0.6136982542629669, 0.7432836477723191, 0.7623163996197059, 0.8436130337005607, 0.8062198265035063, 0.8291590216543123, 0.9109713749117262, 0.8966986506944037, 0.8657669730806833, 0.9142573606863212, 0.9217511638213823, 0.9568820912748734, 0.9820709844718101, 0.9821768812681012, 0.04237586084055763, 0.07462972191115158, 0.0820104187123005, 0.13062991640916413, 0.10385290873276984, 0.11908933743524738, 0.2217999922290746, 0.19470992888281746, 0.15229379969350845, 0.22899420486122626, 0.24705527642703914, 0.38201145967823674, 0.6040770547010135, 0.6055187548440181, 0.6811412698362412, 0.7029399048501213, 0.7991958599942893, 0.7542756832588099, 0.7816989161026615, 0.8830328378938385, 0.8649451435996862, 0.8263467699761851, 0.8872223550785892, 0.8968123045057681, 0.9424407056567923, 0.9758531657117737, 0.9759948900430204, 0.5535984163852289, 0.6759365064043652, 0.6166684698416793, 0.6523711043882359, 0.798243602266027, 0.7704526171550474, 0.7137848455226807, 0.8047987450014222, 0.8199753681212774, 0.8956258794142158, 0.9549136976231505, 0.955172675806709, 0.5954966893959613, 0.5317092743599537, 0.5698046773365244, 0.7363200904151522, 0.7031712137283993, 0.6377043054248528, 0.7442425325156726, 0.7627393151464894, 0.8582848827522261, 0.9372986339910412, 0.9376521877382121, 0.5358509830853058, 0.5738794777627564, 0.7395386226678905, 0.7066331573622392, 0.6415405585502849, 0.7473975367715041, 0.7657379661559716, 0.8602971452181021, 0.9382696460724798, 0.9386180831437776, 0.47021087272913514, 0.6517128901591744, 0.6135105366608267, 0.5411720405582447, 0.6610070695961044, 0.6829592242564614, 0.8023052811492836, 0.9092297834641756, 0.9097263652931331, 0.6653007320231532, 0.6277374530967811, 0.5561352720934599, 0.6744134628197499, 0.6958968648717541, 0.8117153742622116, 0.914095310989217, 0.9145677757654134, 0.45710951133071875, 0.3848492757790694, 0.5084261575078977, 0.5332825366561827, 0.6828039431831664, 0.8416010405738472, 0.8424034742457259, 0.5452645936937234, 0.6646930151044048, 0.6865196773275851, 0.8049083079049753, 0.91058185452498, 0.9110717629587083, 0.7956774714083068, 0.8113970690853662, 0.8901695400487603, 0.9523919816750733, 0.9526647267145141, 0.625553263291077, 0.758879705701718, 0.8859525475512634, 0.8865605854913476, 0.6995461129493238, 0.8517810436372103, 0.8525409422757979, 0.5938433667121755, 0.5952973659610648, 0.34774519783200625]\n"
          ]
        }
      ],
      "source": [
        "gbt = GradientBoostingClassifier(n_estimators=100, learning_rate=1.0,max_depth=1, random_state=0).fit(x_train1, y_train1)\n",
        "y_pred_gbt1=gbt.predict(x_test1)\n",
        "y_proba_gbt1=list(gbt.predict_proba(x_test1)[:,1])\n",
        "print(y_proba_gbt1)\n",
        "# print(classification_report(y_test1, y_pred_knn1))"
      ],
      "id": "RD3Ms8pRYJpg"
    },
    {
      "cell_type": "code",
      "source": [
        "l=[(y_proba_logit1[i]+y_proba_rf1[i]+y_pred_dnn1[i]+y_proba_gbt1[i])/4 for i in range(len(y_pred_dnn1))]\n",
        "print(l)"
      ],
      "metadata": {
        "colab": {
          "base_uri": "https://localhost:8080/"
        },
        "outputId": "ef005da2-e2bf-4069-edef-0982c11e4820",
        "id": "tfHLi8gYYJph"
      },
      "execution_count": null,
      "outputs": [
        {
          "output_type": "stream",
          "name": "stdout",
          "text": [
            "[0.49872226904840855, 0.460409362305958, 0.48169666450271265, 0.6014943581874159, 0.6338033500736737, 0.7074390921046481, 0.7174598111663053, 0.7485850152865546, 0.7058268271857344, 0.7527482020421623, 0.7789698675679312, 0.7702404754003965, 0.8638384509476207, 0.8537119382683049, 0.8601065593441035, 0.8801235382692114, 0.4927234545409912, 0.4968776468503784, 0.600529564196196, 0.6461617604991763, 0.5295418420508804, 0.6959955291547374, 0.703541131416968, 0.5950387452555393, 0.7478359074293075, 0.7764839632797188, 0.7552160872417248, 0.8004501301504202, 0.8278574286660407, 0.867353869466676, 0.8745869968929159, 0.8831857052239611, 0.8899517633739662, 0.4559306028737925, 0.49362718846905373, 0.5223340151267748, 0.558771315033721, 0.5379586393370199, 0.6958669448051418, 0.6884777125051854, 0.7398635772388372, 0.7449576224367197, 0.7104347757948584, 0.7642742267210001, 0.7821146059103181, 0.8171753008821255, 0.8702893998641077, 0.8748984894143076, 0.883146818946974, 0.8864138900463503, 0.3599839238924451, 0.5336686558477054, 0.4114695375734262, 0.5570261959667061, 0.6211413316843489, 0.662968273035961, 0.7143678803568843, 0.7162786813656348, 0.7373014366423658, 0.7794760880158897, 0.8021981041360429, 0.7756204824663424, 0.8200300800707857, 0.8173048156967566, 0.8586790936960691, 0.8746167465240061, 0.877967572212657, 0.4924012055910884, 0.5192768829944759, 0.6346553454269273, 0.6636067808248918, 0.7279817850953154, 0.7419544709909586, 0.7711490827690171, 0.7374785460267552, 0.7739934759257106, 0.8023548530395577, 0.7934962648982067, 0.8660967374795459, 0.8632762150031549, 0.8663625204127049, 0.8828669382612124, 0.5269161616365865, 0.5322502649228663, 0.6302235265559583, 0.6687039418163411, 0.5669374059699899, 0.7091773199142267, 0.7280655441045027, 0.6306195387435176, 0.7701511870605178, 0.7936499192084121, 0.7810158592651917, 0.8199200856973802, 0.8352686423120657, 0.8698827092484629, 0.8772368970413691, 0.8846993420216012, 0.8901269237854599, 0.4930536150780576, 0.530660173579937, 0.5565003716069084, 0.5946098788269506, 0.5751932055327305, 0.7156578515623966, 0.7156166031786013, 0.7594258965298564, 0.7673875013796038, 0.7420699920777827, 0.7851983061675962, 0.801397120085277, 0.8312155667789017, 0.8727581032767409, 0.8775734713452583, 0.8854028928819392, 0.8869447995561879, 0.3925734831332688, 0.5647918127751788, 0.4332093251701129, 0.5933939965673951, 0.6508267881247509, 0.6913253654790024, 0.7348519265189066, 0.7409607845597924, 0.7599817038836372, 0.7924801774592422, 0.8170239266030801, 0.7946160523734905, 0.8327296160102582, 0.8293273207864953, 0.8652774796004009, 0.8772539614379711, 0.880711291430563, 0.43086659806653316, 0.551296880933243, 0.5825775394562597, 0.6563647228864404, 0.6722151377263708, 0.7071882911267677, 0.6679617170897647, 0.7134095837381174, 0.7496690996974633, 0.7379246143042039, 0.8337810001832092, 0.8318901830098204, 0.8363994427658131, 0.8602511890594231, 0.4445555104137536, 0.4478769619700659, 0.5509661533221811, 0.5941543710307365, 0.47932792987979334, 0.6351988940880726, 0.6570610477671947, 0.5506942884440875, 0.7061406071779127, 0.7378853697726276, 0.7215444597037838, 0.7729028878386521, 0.7949702201167417, 0.8401557434269272, 0.8512414590108851, 0.8627216326783528, 0.8710005036742328, 0.41004587981819657, 0.44476467720972185, 0.4715927989274869, 0.5095429491888147, 0.48783019575913167, 0.643024920185253, 0.6428733488890604, 0.6920756354918606, 0.7020141681426183, 0.673412972760991, 0.7275410962283992, 0.7495307480292686, 0.7875151140927168, 0.8441284283250895, 0.8517892423532192, 0.8641588057843815, 0.8660046324691049, 0.3148137184257408, 0.4815980727706223, 0.35124872271979485, 0.5084144668167145, 0.5694792634039586, 0.6139577375268718, 0.6649837156745725, 0.6699282314299754, 0.6926716196273719, 0.7355685960635704, 0.7659626429140498, 0.7397670828523116, 0.7870745406553127, 0.784286811893299, 0.8338800976148473, 0.8512601983624996, 0.8568149694256408, 0.5493950867552714, 0.5832207880405853, 0.6650266604004524, 0.6731491254628224, 0.7072687293241094, 0.6583716576693971, 0.7133618274803863, 0.7402942061967492, 0.7308508962847982, 0.8525844965914462, 0.8334709041195784, 0.8442985261386389, 0.8709162494936789, 0.43930706891872456, 0.4433969710578654, 0.5499839416987343, 0.6008289627194029, 0.4828787400009003, 0.6587333936026847, 0.6587364603652885, 0.5543035249376063, 0.7066554973016957, 0.7418109990949132, 0.7131938983299411, 0.7662680095497609, 0.8079383534108268, 0.8565358509321248, 0.8646096150198251, 0.8758323881668564, 0.8852297759025464, 0.40336372571732415, 0.44079734275326726, 0.4687706462011969, 0.5064408237935576, 0.4854405339236242, 0.6535505607050536, 0.6418145836280273, 0.699606403718763, 0.7033059062185558, 0.663253624854063, 0.7259871540888463, 0.7467608040975388, 0.7888853016495736, 0.8598045735612165, 0.86495124597072, 0.874984075173791, 0.8807840254881275, 0.3202210263276638, 0.48078675423732875, 0.3791996253869552, 0.5050341311792973, 0.5703823559974706, 0.6142131088513563, 0.6725443852027184, 0.6714376455181861, 0.6949006398771536, 0.7484688035121255, 0.7710106201421612, 0.7396688558478203, 0.7925291318416064, 0.7907718225829019, 0.8420326003723625, 0.864651257692056, 0.8684401159830106, 0.5267710473674385, 0.6114186899324785, 0.6231197234376872, 0.6612882649534954, 0.6110262254924176, 0.6674052426684599, 0.7033836692849804, 0.690970857808186, 0.8205219866426504, 0.8087157066186256, 0.8170638773951139, 0.8474546213547275, 0.3851136786644645, 0.3873890714581254, 0.4948790851465349, 0.5465380045193597, 0.42237032783245665, 0.5983975276557023, 0.6083590438113928, 0.49765950977160467, 0.6608479817826732, 0.6991154551325857, 0.67236004842908, 0.7330925924670612, 0.7699995735478267, 0.8261037617148821, 0.8378427487485702, 0.8523412115348799, 0.8638808871929337, 0.350023984737417, 0.3838113437152724, 0.41209402744747636, 0.44887219743717166, 0.4277271683829912, 0.5988521856733512, 0.5908733625151563, 0.6490956244669268, 0.655884107323558, 0.6167121366022373, 0.6828048453444868, 0.7075532367447916, 0.753703154437149, 0.8309392841219756, 0.8382942152290364, 0.8523048231841066, 0.8568724220531542, 0.26873131669366923, 0.4241827295576476, 0.3138064024460279, 0.4475523322375775, 0.5136631231299146, 0.5600475892816399, 0.6206628491062306, 0.6205382617013911, 0.6454582748524975, 0.7009539714332031, 0.7313803989649887, 0.6983459378194059, 0.7556941761887082, 0.7522406473388492, 0.8141110552416655, 0.8379536912460585, 0.8434835666463645, 0.6423019030368693, 0.6563789064875769, 0.6929781121373912, 0.6479680470510979, 0.6980192194314285, 0.7348912633872138, 0.7226127616592443, 0.8328147273784523, 0.8276920055605688, 0.8330075837186699, 0.8593195114960943, 0.4229671385788558, 0.42560920866650515, 0.5316190005699841, 0.579131934572685, 0.45731507416652206, 0.6239718009592862, 0.6417435447623817, 0.5302167746320262, 0.6923741556474561, 0.7264693827770714, 0.705750192588807, 0.7614405143498734, 0.7880612473397677, 0.8384713357303466, 0.8499571511691406, 0.8628804923473268, 0.8727119954538254, 0.3878021077948858, 0.42194724707365794, 0.4501109323815463, 0.4873740705982996, 0.46581515698527776, 0.6293370245098672, 0.6258097102264791, 0.6790245737941067, 0.6875845036523439, 0.6536037128409953, 0.7130261060584259, 0.7362349799484615, 0.7777362517168427, 0.8430992637374592, 0.8504208107807454, 0.8635555361708807, 0.8663546702911229, 0.29771587376208436, 0.4612487254964937, 0.33651045851672456, 0.4860306702240218, 0.550276659922402, 0.5958610255119137, 0.6514181485643624, 0.6539912412169298, 0.6774315010846577, 0.7251229177433619, 0.756550804487027, 0.7269994013313161, 0.7787288160189194, 0.7747383838978514, 0.8304817608899311, 0.8500494970953882, 0.8555007420281384, 0.5193315169918405, 0.5609896947596676, 0.508351314128931, 0.571233755447554, 0.6112358010222607, 0.5967188598124766, 0.7772495347128918, 0.7514536353237924, 0.7674792900996096, 0.8155453173341808, 0.29405666177106626, 0.2946878543545661, 0.39186579875253225, 0.4435003167568372, 0.3347728822720093, 0.5036915773652845, 0.5039858768956091, 0.4126778932139885, 0.5605671252083747, 0.6079755433915448, 0.5742879068933754, 0.6476953895745667, 0.7069557460678628, 0.7854032816031219, 0.8016168535001652, 0.8245926735781545, 0.844089016799145, 0.2648885635633204, 0.29285758588367305, 0.31625654595417874, 0.348762405380723, 0.3322041688125233, 0.49654214626618787, 0.48546621376175475, 0.5486548872066578, 0.5548880015738038, 0.5143268658883148, 0.5882025686338662, 0.6183805865026337, 0.6766366198260587, 0.7917494037613466, 0.8022838556762626, 0.8235546719374798, 0.8333081841567134, 0.20872067305355868, 0.3269633170961912, 0.25119841548871386, 0.34843757205038495, 0.40828185371286124, 0.4537728769450816, 0.5185516294682997, 0.5161585679105352, 0.5436745364528949, 0.6141610453049169, 0.6462354941416629, 0.6066828522054895, 0.6781193668358088, 0.6768286644202622, 0.7620684508187947, 0.8017612235548361, 0.8098177891560742, 0.5495590198633327, 0.4972121454419939, 0.5602890498336377, 0.6008860891144623, 0.5861117433786076, 0.770696672466223, 0.7442304724123016, 0.7609303392321536, 0.8111335121488508, 0.2865531310435156, 0.28679480140748753, 0.38208981494405475, 0.43289127412583217, 0.32569022968735284, 0.49301061983248695, 0.49254015405202944, 0.402974085279527, 0.5491275963080093, 0.597098170020723, 0.5632796034182105, 0.6377913339919608, 0.6987571831052194, 0.7794390358772635, 0.7964288014722918, 0.8204897466682928, 0.840903161349223, 0.257993103839853, 0.28496431423547963, 0.30777439214914626, 0.3391575907546369, 0.3229237347953251, 0.4852577100722253, 0.4740181437705046, 0.5371626078094731, 0.5434095142198885, 0.5031975060639573, 0.5773598372001416, 0.6080973895567068, 0.6673838273537585, 0.7859488471517303, 0.7971547005625881, 0.8195742457045421, 0.829720121729381, 0.20369923001834703, 0.3183725574665197, 0.24475149089637513, 0.33895393715709027, 0.39769682694332326, 0.44259928846685825, 0.5070977080221185, 0.504639989899431, 0.532178268283112, 0.6034607770354949, 0.6358067219038344, 0.5959632859523668, 0.6684689924094371, 0.6675810442672521, 0.7551464309502967, 0.7965657509805911, 0.8051360288934357, 0.45680780739370613, 0.5189654478779231, 0.5603888826131433, 0.5451381096919861, 0.7426095805627568, 0.7126088443459528, 0.7308288441722359, 0.7873412105330354, 0.2553337979430845, 0.2548602008317332, 0.34389873281785077, 0.392640071299631, 0.29353263498414117, 0.45368581226559207, 0.4511546294198828, 0.3686780778312232, 0.5074698938368455, 0.5561281908842123, 0.5221472174599252, 0.5985435959867604, 0.6635335551236096, 0.751933046990404, 0.7707609535484121, 0.798434251718907, 0.8224827666670914, 0.22907365770075228, 0.2535604844808763, 0.274723368078051, 0.30333347917400055, 0.28984445239777046, 0.44413282458179193, 0.43291661047179114, 0.4954836493314524, 0.5016586421362941, 0.46272171404403256, 0.5360670845249264, 0.5675502156972796, 0.6291015193212509, 0.7592876607164111, 0.7715295667290154, 0.7969917437675115, 0.8090128938844823, 0.18163318281521684, 0.28441074878299, 0.2188550227589186, 0.3033272023689336, 0.3590535581483434, 0.4023975452321115, 0.46555724409602256, 0.46319047342135744, 0.49049657361164295, 0.5630809243866312, 0.5959583857463988, 0.554975772032895, 0.6301266228515862, 0.6293559659969776, 0.7243469850317609, 0.7709454844684003, 0.7804447318557647, 0.6055077349452715, 0.6427572200079767, 0.6293842100790954, 0.7974028560861519, 0.7717566706781948, 0.7868950368417171, 0.8290690592546337, 0.3213315666258342, 0.3234646167220278, 0.42616038385142374, 0.4792552204503881, 0.36712146506902577, 0.5394930821877479, 0.5407594543702425, 0.44656656902294384, 0.5962459475075167, 0.6413802646133705, 0.6081752098506685, 0.6770521156801307, 0.732949391881107, 0.8040964498541217, 0.8176822479653174, 0.8372171499901608, 0.8538392212791204, 0.29040663032894887, 0.3218561717819926, 0.34643354569671175, 0.38266950346602113, 0.3641778536347615, 0.5333977849985948, 0.522340677368214, 0.585173106603353, 0.5909150015309707, 0.5496958369020427, 0.621837845344031, 0.6499601249632523, 0.7047331796090381, 0.8095434211117435, 0.8182245745504516, 0.8359228709437606, 0.8450020409424288, 0.22851081860326553, 0.35736273620320846, 0.27757969905820157, 0.38218249108274055, 0.4440610220141262, 0.49058086621045605, 0.5553474751852703, 0.553024663967512, 0.5800017415705809, 0.6477983295336831, 0.6778037896132747, 0.6395924620781175, 0.7072186631993121, 0.7055331382360694, 0.7824178480187521, 0.8178051140680572, 0.8243954193586054, 0.641801791103584, 0.6278042193806799, 0.7934682973313203, 0.772543351857331, 0.7864791648326629, 0.8289787174293499, 0.32062694279729476, 0.32153727864481974, 0.4229428273326169, 0.4753956539112717, 0.35936862812282444, 0.5336893921474072, 0.5362464346870821, 0.43735900788208815, 0.5923433284350036, 0.63819417380072, 0.6057042308142913, 0.6765914705505967, 0.7302386736175366, 0.8012866615576137, 0.8162658171120089, 0.8363802235508736, 0.8529658628803013, 0.2892004029828489, 0.3188741862378923, 0.34399076142989937, 0.3777649144776157, 0.35907363675881154, 0.5285207738769484, 0.517755003016746, 0.5804869879780026, 0.5868917483167273, 0.545923990954281, 0.6194198857517029, 0.6485532586583832, 0.7038791605157841, 0.8070179130162423, 0.8169136392396414, 0.8359965166165213, 0.8437883609705624, 0.22531941290031843, 0.3556178062989154, 0.26931011517794023, 0.377140455643197, 0.43966098021402866, 0.4858433452160619, 0.5505923742510919, 0.548522612363765, 0.5758595501298003, 0.643356861182298, 0.6749422498941352, 0.6371962813432789, 0.7050914655207249, 0.7036857752092613, 0.7816697938530475, 0.8163730861447892, 0.8238467424674377, 0.5069258639589284, 0.7201116322823387, 0.6806322013461168, 0.7024941359498978, 0.7681233875327406, 0.230019152708269, 0.22973809085911873, 0.31181952227044213, 0.35643684426168576, 0.2717044136791613, 0.4168918737064821, 0.4138606032165733, 0.3459656406545776, 0.46890820360227636, 0.5169887776166141, 0.4845239668986513, 0.5604422855052045, 0.6312574585032548, 0.730030312974491, 0.7501490466804686, 0.7823924817209206, 0.8117332121768185, 0.20717286258179476, 0.22996810480407862, 0.24801394327311876, 0.27560080834847756, 0.2644608568624231, 0.40621445208350426, 0.39656922528750416, 0.45667779228705563, 0.4631283522852641, 0.4278972488648805, 0.4972746158150634, 0.5289014800704932, 0.5918396035906477, 0.7378497872080989, 0.7509754099554709, 0.7795829958508363, 0.7963061237075246, 0.16867435693136196, 0.25572718880092815, 0.20518882704726435, 0.2761852886082996, 0.3260776705084574, 0.36746606095058876, 0.4272070183833188, 0.42577135481274636, 0.4521496106415611, 0.5247756253037663, 0.5573812601327708, 0.5159872760346159, 0.5928299655738635, 0.5927160537640631, 0.6950555037243666, 0.7503498762014604, 0.7606365547989795, 0.7581050718651348, 0.7283817147858918, 0.7458677579301093, 0.7981799524746943, 0.26931837953069926, 0.2698450285668713, 0.3634269732167902, 0.41401421435130525, 0.31189928410747525, 0.47530071706633426, 0.47440257345055814, 0.3893930595529877, 0.5310274947225142, 0.579033594002231, 0.5450419131746028, 0.6195363548361936, 0.6823093244592014, 0.7663558710443553, 0.7834070215228893, 0.8086512872094423, 0.8305905727777357, 0.24192895746511578, 0.2687269276770621, 0.29080498964452045, 0.32241394063217627, 0.30774277186882854, 0.46695197062791516, 0.45609384039801715, 0.5190325260559826, 0.5252454282775331, 0.4855840664014033, 0.5587716954851294, 0.5893900922144251, 0.6492726559475168, 0.7731917168430258, 0.7840717531250726, 0.8069578155103052, 0.8184298741209555, 0.19120959624779013, 0.3006399159096688, 0.2324854448529773, 0.3222846319695607, 0.3799226983317031, 0.42475129977434123, 0.488882627843232, 0.4865589811146631, 0.5140019410335077, 0.5858505436295418, 0.6181512489415736, 0.5775667706778498, 0.651039124083401, 0.6497209806553619, 0.7400631109788283, 0.7835883595500993, 0.7919991350390997, 0.46108612931008597, 0.4846117678845848, 0.5828076888336251, 0.13479194081438123, 0.13167388026753898, 0.17458428665597361, 0.19471341545598836, 0.16454649146259032, 0.24184628337487374, 0.23807294767145323, 0.21580508201615317, 0.2766057681260766, 0.3066449371367174, 0.29016747316407554, 0.3461916610431669, 0.40693361343824574, 0.5298415944115488, 0.5561704779996235, 0.6130508386714584, 0.6791211680654025, 0.12299071042022501, 0.13442455647208584, 0.14326814272701277, 0.15468660097022807, 0.15592544239881329, 0.23054261784162708, 0.22655121348082202, 0.2676007719586063, 0.2732240857432713, 0.255301160712156, 0.2953485823024291, 0.3186678593063761, 0.369273525897782, 0.540099627464656, 0.5572389848418443, 0.6034380766396692, 0.6461738882730313, 0.10968163004443483, 0.14516666896662941, 0.12864795143684324, 0.15626722367946985, 0.18483252007598072, 0.21072897745793306, 0.24485614917693532, 0.24949528161053208, 0.2663167259459597, 0.31247918358730314, 0.33926859840498325, 0.30738813362039014, 0.3688528810806605, 0.36955310999667457, 0.4749903943907747, 0.5565223487070623, 0.5711490866183773, 0.45923234548766473, 0.5580920039120741, 0.13044971507449632, 0.12735233447350947, 0.16622908670586484, 0.18340177956667145, 0.16108729955236498, 0.22786755094281497, 0.2266286980942303, 0.2105207807543884, 0.2633723801970775, 0.2906176197210676, 0.27751414157494464, 0.32931145124575156, 0.38419932968354215, 0.5051327189198535, 0.531280536902565, 0.5908848633665109, 0.6646621297764777, 0.11983936676362411, 0.1305861132638946, 0.13852941585053366, 0.14898896207089607, 0.15199019765069843, 0.21831036471596715, 0.2163525462180777, 0.25428487700449187, 0.2605574803393975, 0.2460307919183901, 0.28160186003594556, 0.30330800467278834, 0.35014964491385553, 0.5152392277372095, 0.5323496175615314, 0.5796891418987667, 0.6286951043382047, 0.10892229790913607, 0.13954396872160027, 0.1268852537257709, 0.1505938333611524, 0.17712559994223437, 0.20174661009984085, 0.23220364971837032, 0.23847876179056798, 0.25441582363707793, 0.2953675560068054, 0.3212006346591627, 0.2921513173557303, 0.349035759013572, 0.3499875198120968, 0.4498225572941562, 0.5316318543257552, 0.5463009652033854, 0.6807071487112544, 0.186527011029193, 0.1813732416755329, 0.2408369348587857, 0.27785524088152036, 0.20432588492141612, 0.34280989730023137, 0.32422731902779706, 0.25792017166181247, 0.37188487123753566, 0.41588240581349445, 0.38350043048271243, 0.4559180899955248, 0.5276018368932308, 0.6291261958704539, 0.6552075872434787, 0.696604559562089, 0.7361414438839993, 0.16603482912921397, 0.17951133051236107, 0.19703714415319395, 0.20779442211025057, 0.2053732846365105, 0.3231303705102718, 0.308243219923934, 0.36518348526551, 0.3681644446692838, 0.334106426311984, 0.39885955915348126, 0.4275089296023433, 0.4884123170804653, 0.6393820838257634, 0.6562255486917058, 0.6948737674190575, 0.7100679331258505, 0.134213820815087, 0.20538313597338603, 0.15116827188588763, 0.207533378860422, 0.2543297055270681, 0.28654424133595924, 0.3386425153330007, 0.33677052462261553, 0.36045686001543586, 0.42706204147669813, 0.4537290466015549, 0.4148522823795201, 0.488320195174889, 0.49020241655819385, 0.5961301136598556, 0.6555655557134878, 0.6694661609025723, 0.1167999178845395, 0.11366887602999175, 0.14618178720853045, 0.15727320750247478, 0.1466556899958427, 0.19320307073714948, 0.19796036489596494, 0.19232418349800873, 0.22991609413832456, 0.24948100368714551, 0.2432740569952146, 0.2858471085081984, 0.3227369804052342, 0.43240065509616193, 0.4576314626529365, 0.5198432054829939, 0.6110371650929716, 0.10819978388718192, 0.11761029517242717, 0.12363992991664387, 0.13233609624588144, 0.13677452035099008, 0.1881319133486095, 0.18926638017076888, 0.2208818866165564, 0.22762731276823686, 0.21793769136673286, 0.24369521433825417, 0.26169471480898004, 0.30019143929041425, 0.44215685346800804, 0.45867212341035785, 0.5064241279474794, 0.5689066189790166, 0.10110201023559172, 0.12323648439980385, 0.11742330221590865, 0.1342478855430237, 0.15603718966706787, 0.1776264038506128, 0.2008540076840098, 0.20946775348276206, 0.22230490792384489, 0.25037268437622096, 0.27582433366386555, 0.25181955887480906, 0.2985982359567982, 0.2980462224754727, 0.38350512446317114, 0.4579779834835884, 0.4724007874088075, 0.5165076579506801, 0.6160730869204758, 0.6553305988792515, 0.5517734393741798, 0.695034211400978, 0.7159729984954314, 0.617750494872512, 0.7595091986322999, 0.7843140972346564, 0.7715430706867754, 0.8126052445462916, 0.8282543207434971, 0.8648626770089842, 0.8729363377940911, 0.8811274388961351, 0.8870597394238362, 0.4774974666205955, 0.5148827020160229, 0.5406870601388712, 0.5796916419744305, 0.5595898132915059, 0.7026405708809315, 0.7032816232626053, 0.7477338428376925, 0.756370135961029, 0.7309287045867956, 0.7755432366252504, 0.7928581726082835, 0.8240376750570967, 0.8679974131992678, 0.8733038677931195, 0.8819594486294463, 0.8834681425539479, 0.3779832022631322, 0.5490228365435061, 0.4174151436868917, 0.578582971761314, 0.6363143748059521, 0.6778883730831642, 0.7226430291271625, 0.7287944140355217, 0.7484352431171425, 0.7824393780139075, 0.8085804637694507, 0.7855263447389088, 0.8251957157930927, 0.8216526264294899, 0.8602287095420253, 0.8729600469213419, 0.876785897621905, 0.5968749148349173, 0.6415041219780518, 0.5251361037256312, 0.687187546156945, 0.7003630576176393, 0.592168543946776, 0.7452194912916623, 0.7731688988344997, 0.7542691364314359, 0.7997219777586302, 0.8229832176398758, 0.8631993782605786, 0.8711318262948129, 0.880113324602781, 0.887019004597267, 0.4518500563531751, 0.4893584427913895, 0.5176053201990127, 0.5554194311506568, 0.5338859987784663, 0.690367990109914, 0.6855444853920182, 0.7354206681167126, 0.741819501181787, 0.709177040452184, 0.7613289203056897, 0.7797060079799412, 0.8145058964103671, 0.866492566021543, 0.87145309156165, 0.8803134585295784, 0.8829784660628912, 0.35469948999394235, 0.5282805225247069, 0.4014856193035915, 0.5538941906669153, 0.6168147479325983, 0.6593421636299959, 0.7098411246502754, 0.7127598224430854, 0.7334972249528899, 0.773859205273786, 0.799131324823245, 0.7728605368890265, 0.8169417955103234, 0.813331216782028, 0.8559980236133493, 0.8711821994254687, 0.8748204350178436, 0.44913629842111946, 0.33294880761936807, 0.5064890956967436, 0.5093086172806259, 0.40806466425297083, 0.5657924648136995, 0.6121177328273254, 0.5799931129536889, 0.653475702029391, 0.7053416314346473, 0.7799767855873441, 0.7969729863277606, 0.8192534748031255, 0.8375455032187478, 0.2697674149333025, 0.2966653912179388, 0.32198638992130013, 0.3520475581352555, 0.33532644951706436, 0.5013943423299372, 0.4907141086036382, 0.5532799283005333, 0.5600342938349216, 0.5191228304974208, 0.5932917406738536, 0.6233821451362398, 0.6800672581106202, 0.7866748076084875, 0.7976599123996291, 0.8191849336653648, 0.8263696366958974, 0.20739019126558314, 0.3338071759423829, 0.24403015988800056, 0.35122069513576903, 0.41374432591552646, 0.45904875323444816, 0.5234294896361602, 0.5214476207272583, 0.5488068172915622, 0.616053651428889, 0.6497615930456956, 0.6114462772266319, 0.6807785823069882, 0.678688032378092, 0.7616076190454026, 0.7971366265712446, 0.8055549115145938, 0.322819927192617, 0.4955366165825851, 0.5005329868614381, 0.3921372773484197, 0.5558327059253406, 0.6005545282500444, 0.5712956387778005, 0.6453467412123612, 0.6904249466813658, 0.764667418874695, 0.7841378126220985, 0.8079320080102913, 0.8269095923923808, 0.27261291991281783, 0.2962672738827127, 0.32246254249557915, 0.34720855196331535, 0.33114558719160714, 0.49211046776464595, 0.4822330844172344, 0.5425920315641952, 0.5500176428581449, 0.5105596209730661, 0.5834420978916122, 0.6138676733332012, 0.6696357990912445, 0.772126487884854, 0.784963253955448, 0.8092183480677559, 0.8142590141567978, 0.2055483646180666, 0.3350304384418377, 0.23154145538432644, 0.34604857347096174, 0.4086254857249373, 0.4518541484334148, 0.5135480038003879, 0.512411014204985, 0.5389307149121089, 0.601876014606788, 0.637747564691437, 0.6010124212531767, 0.668668635896398, 0.6663209418345895, 0.7502931271272304, 0.7843116461950942, 0.7942042007305662, 0.6345370104204837, 0.6513049753904385, 0.5413129770207605, 0.7010490568513075, 0.7346685928030061, 0.7147895879042926, 0.7680292616267017, 0.7951384860072719, 0.8415245434350818, 0.8522402315091927, 0.8638594686628367, 0.8724571179275789, 0.39893229546553455, 0.43405890276409675, 0.4620211760163282, 0.49953537834616446, 0.4774906248294337, 0.639398060772522, 0.6361937989091686, 0.6883800763479959, 0.6970307920545795, 0.6648159277791642, 0.7229358177009433, 0.7452434989240981, 0.784921500083358, 0.8453944891689, 0.8527658354299485, 0.864929903197514, 0.867525561902982, 0.3055136935934326, 0.4731831042131859, 0.3474879101727332, 0.49816390251784837, 0.5619691165838235, 0.6069296905411722, 0.6609510087583303, 0.6642509696213301, 0.6877793584643681, 0.734382597256999, 0.7634104673453747, 0.7357500495459991, 0.7851335880483437, 0.7827531737854687, 0.8335170230038496, 0.8522597448610889, 0.8576077059821119, 0.5853424546997286, 0.47789413124003666, 0.6387595106270851, 0.6790543057969533, 0.6496777099397919, 0.7130595239216337, 0.7553364719123048, 0.8156410459695418, 0.8277608927916611, 0.8435546337198285, 0.856448342595748, 0.32733160125965177, 0.36058915202957736, 0.38822558752812464, 0.4248372899318793, 0.4044831025481014, 0.5768649447372869, 0.5672440060751169, 0.6274972451753845, 0.6336018121386088, 0.592629930195853, 0.6612403254766375, 0.6869029951903463, 0.735705890365034, 0.8207375128288656, 0.8282042416010271, 0.8430461579951569, 0.8487682341125138, 0.2519709023532319, 0.40024342430978543, 0.2987532001537378, 0.42367232846792985, 0.48943385561472175, 0.536050817993905, 0.5986562474754983, 0.5974168989639463, 0.6229349187266024, 0.6823051841334358, 0.7126469757030006, 0.677659294028566, 0.738243711658801, 0.7348943337440367, 0.8011985896284229, 0.8278928633183126, 0.8335581531441689, 0.37286799050925623, 0.5072740711578229, 0.5558256799004312, 0.5221031321630191, 0.5977310072269355, 0.664738434630867, 0.7544565912054124, 0.7727664668083072, 0.8005683536273951, 0.8250454721862661, 0.22872480939756276, 0.2539206566677487, 0.2742490446587699, 0.30437151196745305, 0.2905377934474765, 0.4436642489017586, 0.4330436378353575, 0.4951837308984185, 0.5014698976860589, 0.46339758799559727, 0.5357386110422244, 0.5671018230498088, 0.6286905825840741, 0.7615378521744414, 0.7735308335329727, 0.7986676118272912, 0.8120358353524368, 0.18289373367361536, 0.2833478557598659, 0.22266273763813252, 0.304614004627795, 0.3589779559836443, 0.40248503913883676, 0.46523145558462475, 0.463083937564096, 0.4902635362597967, 0.5632268884991908, 0.5956382098598482, 0.5546073008202194, 0.6299060095656261, 0.6294371451702875, 0.724610946901245, 0.7729324118830198, 0.7822090047579136, 0.5186650373992053, 0.5547998341939148, 0.5338388894410934, 0.5899542879219849, 0.6515789551707711, 0.754243161316487, 0.7666358851119442, 0.8005966311791937, 0.8399466151994666, 0.2505397331052608, 0.2834076971108724, 0.2970019036632959, 0.34077287971487863, 0.3273630602329331, 0.4543569870524278, 0.45518955108986, 0.5045714287784058, 0.5133317561205256, 0.4890981738741372, 0.5383502789718964, 0.5629283995135494, 0.6131463066312894, 0.7595958971981419, 0.7670591969146461, 0.7900641276319422, 0.8263681944862994, 0.21587934359876482, 0.29910754609206597, 0.2775497374457957, 0.342692263900834, 0.3840023382202168, 0.4270185348913248, 0.47674748330189765, 0.4806714895449523, 0.502640211340671, 0.5598976317602062, 0.5891511377613189, 0.5537754707100674, 0.6171410510692986, 0.6150943495281581, 0.7022322569032451, 0.7667925413166296, 0.7727441960526322, 0.5766844006550947, 0.5432708627049962, 0.6191066767692154, 0.6760666764288997, 0.757669885433446, 0.776179029669253, 0.8015809231989683, 0.823030737998843, 0.2424838914280102, 0.26732046475582216, 0.29119330549216593, 0.31896440655935143, 0.3049883927316142, 0.46518529611420645, 0.45379875009961873, 0.5167820095532415, 0.5231655112147207, 0.482556708479727, 0.5570848346967614, 0.5879680235691007, 0.6472933463451946, 0.7651497000800681, 0.7768818985876592, 0.8009470467360945, 0.8097231465671844, 0.18742827473764223, 0.3022756762887691, 0.22171503470014178, 0.3182903807534014, 0.37853911028050524, 0.42271827154547315, 0.4868394848703431, 0.48452036809321386, 0.5120294936282501, 0.581826480212467, 0.6156234020256055, 0.5757328860747571, 0.6482273770565834, 0.6462887061297269, 0.736259273424217, 0.7763957200096059, 0.7855176159743129, 0.4070473758712054, 0.46921372538180817, 0.5224867701590568, 0.6443767467738512, 0.6661109314116602, 0.7164199708450747, 0.7782030186279023, 0.1720344494769719, 0.19272542042953783, 0.20188301404554265, 0.23083681354368701, 0.22379735792583563, 0.3208823895462303, 0.32539797181798197, 0.3683598654886329, 0.37981978289089285, 0.36359373837004394, 0.408615947669931, 0.43653089966041975, 0.48920366757137873, 0.6525833457772277, 0.6670559805320839, 0.7046889005343133, 0.7546259554799396, 0.15248159200753292, 0.20271201893693996, 0.19054543602532265, 0.23328581121926165, 0.2647498746006139, 0.3008537035670955, 0.34204598499950445, 0.3488233018884088, 0.369288853584949, 0.42005502335122114, 0.45638295483627495, 0.4232760978146454, 0.48777520761093507, 0.48636245649420595, 0.5889440887000267, 0.6663022703758932, 0.6778965043307923, 0.5733298251887244, 0.6435762891069119, 0.7433866714731688, 0.7611664025855848, 0.7927738122267897, 0.8228686733949014, 0.2148687139052648, 0.2406398055283284, 0.25800725282956904, 0.2906782041424608, 0.2797522176127226, 0.42061389960609746, 0.41364586975078443, 0.4723962039595668, 0.47959450172057155, 0.44630067026069137, 0.5121482462617675, 0.5423902344136006, 0.6032667129382812, 0.7507552876918162, 0.7618056786915313, 0.7880365568914052, 0.8080137562193538, 0.17778515810369927, 0.26425255438567685, 0.22089278878916718, 0.29144576598388067, 0.34057508618491383, 0.3836665451915446, 0.44263767961576034, 0.4423554858536256, 0.4684744093634822, 0.5396216589193807, 0.5716465884949151, 0.5305975218819846, 0.6057244024204066, 0.6046636989448533, 0.7047810329593156, 0.7613960807740834, 0.770106228444404, 0.5564693233474739, 0.6672624010719446, 0.6912456257210421, 0.7318057040859907, 0.7704529107070458, 0.17032749338674452, 0.187840027179488, 0.20286568085495063, 0.2228598580861883, 0.21654897892333566, 0.33677902523563097, 0.3272696014990499, 0.3829284630507832, 0.3886235457634917, 0.3576409349132957, 0.4205958097812348, 0.45125727757585576, 0.5141539494623757, 0.676556992705626, 0.6922298191580052, 0.7280869222033299, 0.7494995957275574, 0.14146275221706395, 0.20906050071066468, 0.16907260568096727, 0.22371948811738965, 0.2667065440973858, 0.30250820754997554, 0.3553376354686645, 0.35488204523222966, 0.37878722734463244, 0.447040517217088, 0.4784902767938496, 0.43806773352949163, 0.5144226252257569, 0.5150564424464747, 0.626087735788478, 0.6915140820232328, 0.7041505813546743, 0.6094195443801403, 0.6326706396675819, 0.6864455037742656, 0.7555345267630073, 0.16098697957902436, 0.17953012597761084, 0.18763927186254453, 0.2133502018092021, 0.20746348817807114, 0.2958224444277317, 0.3005958819858303, 0.34097493216512803, 0.35216408990427545, 0.3375600426870283, 0.3790406591543235, 0.4061183800809223, 0.4570427130539857, 0.6181170559743043, 0.6337033962338368, 0.6741953981110875, 0.7289456478534693, 0.14416020456229153, 0.18807549923555789, 0.17840319184756118, 0.21594092167039494, 0.24459543955725438, 0.27813971264551074, 0.31586443116973106, 0.3231477915007868, 0.34197731837646445, 0.38793919272371985, 0.42465039577411756, 0.3929416249420952, 0.4549697132024817, 0.45316066736943655, 0.5550335803729587, 0.6328725185688621, 0.6454926289287994, 0.48579677933966303, 0.5466158005745253, 0.6406677336887625, 0.1154717657728987, 0.12723628987740832, 0.13305212022131183, 0.1468926732917296, 0.14877332881202532, 0.20592035468512868, 0.21071369514039787, 0.24251899721538567, 0.251902129001516, 0.24322737057944574, 0.2710171915825423, 0.2919056359959743, 0.332636504593247, 0.46973675436583995, 0.4868663610723455, 0.5336608507238063, 0.599251827749691, 0.10730677061886941, 0.1321459698079884, 0.12851417971224144, 0.14918458568675902, 0.17118556589652353, 0.195996340411032, 0.2213014152066213, 0.23086969596355117, 0.24483620313019208, 0.2735774013315658, 0.3055719770107706, 0.2805730466806468, 0.32984283434766226, 0.3274495895065193, 0.4166857407353814, 0.4861437978667197, 0.5007403235977279, 0.5797326951700066, 0.6546507185461611, 0.11568380801007337, 0.1262220306705665, 0.1338741021148138, 0.14407646359747053, 0.14660041511359254, 0.21171286417181373, 0.2096006187647284, 0.24692712309356585, 0.25286948071718207, 0.2381340539883006, 0.2724451217290507, 0.2936665569774696, 0.3398087979733342, 0.5038749727907081, 0.5208401175728673, 0.568312430597953, 0.6185355381024236, 0.10501739491551984, 0.13483988822154022, 0.12281105778686774, 0.14580674661090365, 0.17150671888690616, 0.19555526847916715, 0.22530727015035149, 0.23143071662324818, 0.24658389311098836, 0.28588520358994074, 0.31200110604102876, 0.2829923200921882, 0.3390764468951445, 0.33933747442420353, 0.4386036415020891, 0.520136908061351, 0.5347817325860718, 0.6409533733299914, 0.12432048357701611, 0.13329100827065973, 0.14410406772940965, 0.14911397325646658, 0.1524113599825848, 0.22946197232132023, 0.2182691823787292, 0.26270506560471807, 0.2643136679185999, 0.24134965410595108, 0.28442661402878716, 0.30541647351363466, 0.35550273402307164, 0.5167179098197021, 0.5330776350702278, 0.5767664441237732, 0.6076873071233398, 0.10866912231147366, 0.14802290987559602, 0.12147410400524503, 0.14990602451970905, 0.18184865127029373, 0.20504752829116082, 0.24066603990700197, 0.24248374651627225, 0.2593142137333442, 0.30909022674392195, 0.32784933632611446, 0.29564112607156356, 0.35650036163930565, 0.3596994251049507, 0.4575267712553076, 0.532350892592669, 0.5465423958030962, 0.09457985663825648, 0.10129789541674408, 0.10541761272515439, 0.10923196674834904, 0.11684679443330877, 0.14725685421626084, 0.15004747709575833, 0.17360544728822935, 0.17928318476086255, 0.17481281822769548, 0.18651036612779742, 0.19691250871233282, 0.2204721807731695, 0.29447790842258537, 0.3075195305094082, 0.34337170493685326, 0.3956972390069296, 0.09202230916361559, 0.10370996197550218, 0.10392196099961193, 0.11121409721846941, 0.12770817108080681, 0.14387462769421783, 0.15690047513071834, 0.16797105721768424, 0.17626359612932624, 0.185856062632101, 0.20588617061187603, 0.19021916214787965, 0.21926597062586428, 0.2175466954169386, 0.26710492947304665, 0.30687363802797935, 0.32095170119455685, 0.557411663877933, 0.5814632963501869, 0.6195753678858309, 0.6015910261843506, 0.7321578075320283, 0.7338934629172729, 0.7745336891849691, 0.7827194821157594, 0.760693967042605, 0.7985457997985874, 0.8132417804847096, 0.8403685758828405, 0.876963812340796, 0.8813649627488265, 0.8884025598071296, 0.8895607478932069, 0.4203905508090141, 0.5882742658202362, 0.45833164416358996, 0.6186609435432506, 0.6722777180395272, 0.7111522106328722, 0.750800184618689, 0.7581536590803781, 0.775774399182219, 0.8038615057732135, 0.8276923536424416, 0.8069509316862632, 0.8419319074250127, 0.8382785196726548, 0.870759648539179, 0.8810709186994676, 0.8842196841280565, 0.46917202637934224, 0.50689706458498, 0.4852081234028532, 0.6528760063581323, 0.644388126230182, 0.700234973126213, 0.7058917305049814, 0.6683976935042572, 0.7297850991632303, 0.7510811900927175, 0.7919562410659008, 0.8573316643458531, 0.8632350620315107, 0.8738704934003938, 0.8781310762687473, 0.3152297152031771, 0.4812026314940051, 0.36800187378966964, 0.5053575351490697, 0.5712821638776936, 0.6159043103685666, 0.6729716773966907, 0.6735408054196623, 0.6971345809055995, 0.7477346002231438, 0.7729152615131237, 0.7431228932682443, 0.7942883842069358, 0.7921226278783133, 0.8424932269809928, 0.8628694596406472, 0.8671837363851966, 0.5343076721548465, 0.5126549864197277, 0.6770970703412089, 0.6666211909449592, 0.7214584582531586, 0.7252366279668349, 0.6865652817765429, 0.7448495903790797, 0.7638764519941946, 0.8023052882260694, 0.8639249351585787, 0.8684104227998116, 0.8772650224807347, 0.8817124993606387, 0.3411984177684712, 0.5093495582581773, 0.3965436578314189, 0.5327401433909863, 0.597819052077999, 0.6403947351230801, 0.6955456105489279, 0.6953044434825065, 0.7169408875696069, 0.7641400392081901, 0.7870706529045569, 0.7576377225121044, 0.8061736981472396, 0.8031405953661456, 0.8495202097746531, 0.8681932741633763, 0.8715274378650333, 0.4122738689124241, 0.5844359501982839, 0.5757144010573233, 0.635492440078436, 0.6424135960518561, 0.6027600133009032, 0.6718017271839001, 0.6980600978607581, 0.7468624179193915, 0.830220318295724, 0.8385507804459902, 0.8539894200841518, 0.8591570068174599, 0.2597282886100679, 0.40956732691650966, 0.3047418828973975, 0.4320074776836035, 0.49767902236733247, 0.5442765224547294, 0.6064532116991137, 0.6058671044687204, 0.631884470389066, 0.6912371286278031, 0.7219470838589855, 0.6878871364524806, 0.7481712134019385, 0.7457596256988139, 0.811489099704889, 0.8380945697190523, 0.8443149052176226, 0.681287685084582, 0.6713905055156462, 0.7258880527579762, 0.7300851798735939, 0.692629112248727, 0.7507791281675597, 0.76968801113089, 0.8076283501981618, 0.8677368823928147, 0.8724828965322151, 0.8812638671845403, 0.8855803118788188, 0.34518965146842745, 0.5143990628844443, 0.40098424377592856, 0.5372574746638777, 0.6025908153295089, 0.6451382101727193, 0.6997560623117187, 0.7001477564508866, 0.7222953612801106, 0.7695327228194795, 0.7915720421533299, 0.7630260733839567, 0.8108714855273775, 0.8087522356304319, 0.8535932638776279, 0.8721894360502922, 0.8756483249358179, 0.4672850923298583, 0.5304043493435046, 0.5366420446527208, 0.49643734545057416, 0.5708755755095862, 0.6019075126028045, 0.6616239997153524, 0.7811033584979483, 0.7927470582435336, 0.8158660161857545, 0.8258732326514935, 0.19999121898036334, 0.31361056523740205, 0.2395213875718279, 0.33307553365549075, 0.39156297627180847, 0.43606690533210923, 0.5004130928895254, 0.49789186531955726, 0.5254031216300353, 0.5967763759946222, 0.6294396037820817, 0.589528243033676, 0.662423100064842, 0.6616457246100311, 0.7502752254137013, 0.7921214446787257, 0.8010344743632409, 0.5239938734102321, 0.5301636451872354, 0.48978514634298764, 0.5646558514678526, 0.5959603086827819, 0.6558076996702383, 0.7742336616081033, 0.7864520342646345, 0.8100947289486549, 0.8195530353013467, 0.19497013673376734, 0.30945466198067295, 0.23310161995757905, 0.3275237907451243, 0.38597497077538256, 0.43000155812655194, 0.4941880297013643, 0.4915276112558008, 0.5189226496172294, 0.5900162244808085, 0.6229183739955323, 0.5832581356552693, 0.6560753390171812, 0.6556051316960605, 0.7441298316552953, 0.785739200178208, 0.7950656487866106, 0.5346991778381932, 0.494085163384774, 0.5683618081543074, 0.5989692716226503, 0.6579236174963043, 0.7748972979285426, 0.7859861169298289, 0.8085574879927088, 0.8179786292001264, 0.1935804172303745, 0.3097079849042779, 0.23238782197086608, 0.3288701011953856, 0.38877056724196196, 0.43372181885939465, 0.4983135374657789, 0.4959165249037133, 0.5234590998078548, 0.5938874086261323, 0.6268584221648086, 0.5870037361684638, 0.6591814460155805, 0.6575805519520364, 0.7453488758670832, 0.7854786362635656, 0.7940247859667227, 0.4811101187720005, 0.5543597321585738, 0.5851251546273866, 0.6452811461925356, 0.7701729775021405, 0.7812517914806877, 0.8045390371442313, 0.8160736565271539, 0.18867352897883183, 0.2970750183940727, 0.22922801806481244, 0.31826049042054366, 0.3756643555280712, 0.42029335117208527, 0.48431016649756775, 0.4819879329350257, 0.5094356492023953, 0.5814166547460109, 0.6138520223460471, 0.5731857589704946, 0.6469444333351609, 0.6456761502002842, 0.736798838451185, 0.7807584710251028, 0.7893308126958395, 0.6175799408910558, 0.6462623231688273, 0.7013638784568464, 0.805294917945711, 0.8145726484087406, 0.8330691949067088, 0.8413548523566252, 0.22367391122441993, 0.35327471279281986, 0.2694091423781946, 0.37611081004152486, 0.43858274866651753, 0.4850013073656953, 0.5498619651359669, 0.5476712915849123, 0.5748481018303506, 0.6423791012442912, 0.6735082891793651, 0.6354245427915671, 0.7032697364350069, 0.7014748136251371, 0.7792952529264932, 0.8141161521913745, 0.8211599912475265, 0.5986284899521741, 0.6585683237461133, 0.7787388211872823, 0.7905653609272933, 0.8140478897873606, 0.8240409222606405, 0.19826566708744123, 0.3111245752039403, 0.23702797122036295, 0.33007066649974776, 0.3884111442656083, 0.43271637251349626, 0.49697035513894694, 0.4944234726532184, 0.5219133648558292, 0.5933334203166333, 0.6261490950544674, 0.5861620579389977, 0.6592823670567213, 0.6585102145070293, 0.7478039373953528, 0.789931451323211, 0.7989961205935214, 0.6541752133708181, 0.7682791408682208, 0.7811087129599807, 0.8060351436483353, 0.8134850437881049, 0.19499842076551255, 0.3132615990924723, 0.22606889355108692, 0.32642394210694986, 0.3868663774985106, 0.43014198230330214, 0.49364939918765605, 0.4912729703421906, 0.5184431735022811, 0.5868462905424479, 0.6212962716772363, 0.5822727817394628, 0.6539587148004332, 0.6525125158163063, 0.7414311902633915, 0.7804498996827338, 0.7903526892182577, 0.7023726154331613, 0.7169565772112565, 0.7501457063072166, 0.771649371227532, 0.1523315133086206, 0.2244728663094292, 0.18453709730008014, 0.24331672863993478, 0.2876172618853647, 0.32578972333750056, 0.3805496422693916, 0.38033039252506096, 0.4051214111446145, 0.474846315141106, 0.5072403472965522, 0.46651066668099517, 0.5432208243553525, 0.5435357370728765, 0.6525325938596587, 0.7162805257000152, 0.7278986406116205, 0.43857977756256133, 0.4840135844643076, 0.5482559654442879, 0.10364037725980721, 0.12409190505710557, 0.12262006435872783, 0.13935326535680712, 0.15952410946148193, 0.18229297695458568, 0.20383024874072933, 0.21445054802458471, 0.22704923836513338, 0.2496123437855433, 0.27997030554485686, 0.2578988591675241, 0.30159196600039384, 0.2990758773277993, 0.37872318092881857, 0.4378763365755769, 0.45243903277074365, 0.5072619132846785, 0.5728660990951526, 0.10343621079854835, 0.1256121287401177, 0.12196073110494653, 0.139699352056505, 0.1607893982705982, 0.18353245852595634, 0.20669360836675826, 0.21612751669756197, 0.22897547552521463, 0.25510573277816445, 0.2842631549524943, 0.2604431882537883, 0.30696648674593563, 0.3049530441115213, 0.39026784198578557, 0.45930411045017383, 0.4738860399335474, 0.5366460270506908, 0.09817736910283033, 0.11812354775908825, 0.11264039302787224, 0.12703240913667407, 0.14756569645647305, 0.16719619856855508, 0.18830623478011477, 0.1966071701533031, 0.2078411924096673, 0.2322569881514756, 0.2554322190131127, 0.23242616827919754, 0.2758195694866976, 0.27469941893947375, 0.3543658228967521, 0.4263086382939674, 0.4400057646589768, 0.09732326256465401, 0.11361312589321874, 0.11261261642054039, 0.12478327116564966, 0.14316218838653844, 0.1626105758880733, 0.18032208876602107, 0.1908307359745724, 0.2012522764763847, 0.21815898906558923, 0.24390504690019743, 0.22422858684029076, 0.261991075868992, 0.25962814745348894, 0.3286821078543524, 0.38250716586233613, 0.396298413604171, 0.6988946604487707, 0.6059095282939544, 0.7295525560315385, 0.7654495118024238, 0.7944717424868062, 0.8181824043656236, 0.8287987710475653, 0.8401494897629982, 0.8516777695633717, 0.8700067445013153, 0.855135279275909, 0.8782178766617049, 0.8740168072342088, 0.8924737925752437, 0.8971711524286287, 0.8988320166351069, 0.3766907345410214, 0.5345535252513473, 0.5957804462387818, 0.6395438921259151, 0.6893319890973395, 0.6941424414862685, 0.7158899991256528, 0.7563693595655597, 0.7846552226490335, 0.7591412501605294, 0.803983214043466, 0.8008059459763902, 0.8461716682779488, 0.8618779735637635, 0.8665371584782298, 0.4295666091367415, 0.465343395975977, 0.5033853315640514, 0.5422164083734118, 0.5485964235088994, 0.5655768332330586, 0.6061608106399454, 0.6281171675350278, 0.6002977120698487, 0.6482563122133637, 0.6463576258580253, 0.7107870209787305, 0.7730604840055404, 0.7766006536904559, 0.5268317728897267, 0.5726149685541762, 0.6288849735914738, 0.6314853356526416, 0.6554785711266109, 0.7046859978912269, 0.7380033183257486, 0.7076441990445007, 0.7614633905959316, 0.7573296897014086, 0.817350046485362, 0.8383157698356847, 0.8444617345959144, 0.5365585458916015, 0.5993109587591852, 0.5984500879348131, 0.6247672912727008, 0.6855607196753785, 0.7163006066031676, 0.6817105913311816, 0.743161724765955, 0.7410219738253434, 0.8083528985656667, 0.8361018883349864, 0.8425122079405063, 0.5358884394186358, 0.5337462987102333, 0.5611933610485491, 0.6293289955087362, 0.6616519638772376, 0.6236723953657655, 0.6926251703132318, 0.6915186422708193, 0.7718509753356617, 0.8076810159473213, 0.8157981147357442, 0.506862989670104, 0.5342595046187029, 0.6026035319368346, 0.6366049916607187, 0.5977714349629852, 0.6685814030741726, 0.666881049311974, 0.7530026977159642, 0.7905846504973801, 0.7996621615228305, 0.5330772825133231, 0.6042543565135539, 0.6354674763770674, 0.5953131893618288, 0.6673025034117415, 0.6658927476316084, 0.7523565530701615, 0.7943914979194402, 0.8019520626668497, 0.6142926260065873, 0.6454184870113105, 0.6057112179067078, 0.6771731663350947, 0.676091226430811, 0.7609602344338844, 0.801896076082957, 0.8095385701587752, 0.5583906206183447, 0.5178356261566817, 0.5936796972956866, 0.5943632799567341, 0.6956402371986373, 0.7547363875140958, 0.7648229658897736, 0.5134140742801003, 0.5892865582726734, 0.5886209643633197, 0.6888832617415981, 0.7373068705358834, 0.7484915320571375, 0.6601704311248935, 0.6580208332060713, 0.744037861637376, 0.7795466413849684, 0.7896455371837785, 0.5569250974736704, 0.6623470486421199, 0.7172829554757018, 0.7292296067463561, 0.6868470754873751, 0.7452220811798038, 0.7556312709871862, 0.5506649761858424, 0.56525646343512, 0.47499874691825994]\n"
          ]
        }
      ],
      "id": "tfHLi8gYYJph"
    },
    {
      "cell_type": "code",
      "source": [
        "col=['game_id','prob']\n",
        "result2022=pd.DataFrame(columns=col)\n",
        "result2022['game_id']=df2022['game_id']\n",
        "result2022['prob']=l\n",
        "print(result2022.info())"
      ],
      "metadata": {
        "colab": {
          "base_uri": "https://localhost:8080/"
        },
        "id": "L97WJ0s7T-EQ",
        "outputId": "ae270b77-2733-42dd-86a9-e96751fbe7ac"
      },
      "id": "L97WJ0s7T-EQ",
      "execution_count": null,
      "outputs": [
        {
          "output_type": "stream",
          "name": "stdout",
          "text": [
            "<class 'pandas.core.frame.DataFrame'>\n",
            "RangeIndex: 2278 entries, 0 to 2277\n",
            "Data columns (total 2 columns):\n",
            " #   Column   Non-Null Count  Dtype  \n",
            "---  ------   --------------  -----  \n",
            " 0   game_id  2278 non-null   object \n",
            " 1   prob     2278 non-null   float64\n",
            "dtypes: float64(1), object(1)\n",
            "memory usage: 35.7+ KB\n",
            "None\n"
          ]
        }
      ]
    },
    {
      "cell_type": "code",
      "source": [
        "from google.colab import files\n",
        "result2022.to_csv('2022new.csv') \n",
        "files.download('2022new.csv')"
      ],
      "metadata": {
        "colab": {
          "base_uri": "https://localhost:8080/",
          "height": 17
        },
        "id": "y_v3wyJnT-Gd",
        "outputId": "760a0e62-1fb1-4c98-8c09-9adbb3353998"
      },
      "id": "y_v3wyJnT-Gd",
      "execution_count": null,
      "outputs": [
        {
          "output_type": "display_data",
          "data": {
            "text/plain": [
              "<IPython.core.display.Javascript object>"
            ],
            "application/javascript": [
              "\n",
              "    async function download(id, filename, size) {\n",
              "      if (!google.colab.kernel.accessAllowed) {\n",
              "        return;\n",
              "      }\n",
              "      const div = document.createElement('div');\n",
              "      const label = document.createElement('label');\n",
              "      label.textContent = `Downloading \"${filename}\": `;\n",
              "      div.appendChild(label);\n",
              "      const progress = document.createElement('progress');\n",
              "      progress.max = size;\n",
              "      div.appendChild(progress);\n",
              "      document.body.appendChild(div);\n",
              "\n",
              "      const buffers = [];\n",
              "      let downloaded = 0;\n",
              "\n",
              "      const channel = await google.colab.kernel.comms.open(id);\n",
              "      // Send a message to notify the kernel that we're ready.\n",
              "      channel.send({})\n",
              "\n",
              "      for await (const message of channel.messages) {\n",
              "        // Send a message to notify the kernel that we're ready.\n",
              "        channel.send({})\n",
              "        if (message.buffers) {\n",
              "          for (const buffer of message.buffers) {\n",
              "            buffers.push(buffer);\n",
              "            downloaded += buffer.byteLength;\n",
              "            progress.value = downloaded;\n",
              "          }\n",
              "        }\n",
              "      }\n",
              "      const blob = new Blob(buffers, {type: 'application/binary'});\n",
              "      const a = document.createElement('a');\n",
              "      a.href = window.URL.createObjectURL(blob);\n",
              "      a.download = filename;\n",
              "      div.appendChild(a);\n",
              "      a.click();\n",
              "      div.remove();\n",
              "    }\n",
              "  "
            ]
          },
          "metadata": {}
        },
        {
          "output_type": "display_data",
          "data": {
            "text/plain": [
              "<IPython.core.display.Javascript object>"
            ],
            "application/javascript": [
              "download(\"download_e9d88067-49b2-442b-bdfa-b620f4003dfa\", \"2022new.csv\", 88053)"
            ]
          },
          "metadata": {}
        }
      ]
    },
    {
      "cell_type": "code",
      "source": [
        "print(df2022['game_id'])"
      ],
      "metadata": {
        "colab": {
          "base_uri": "https://localhost:8080/"
        },
        "id": "_HKZU_khT-JA",
        "outputId": "714c31eb-d2d3-4c27-db79-edc5ba89feb2"
      },
      "id": "_HKZU_khT-JA",
      "execution_count": null,
      "outputs": [
        {
          "output_type": "stream",
          "name": "stdout",
          "text": [
            "0       2022-1124-1246\n",
            "1       2022-1124-1345\n",
            "2       2022-1124-1417\n",
            "3       2022-1124-1388\n",
            "4       2022-1124-1400\n",
            "             ...      \n",
            "2273    2022-1436-1168\n",
            "2274    2022-1436-1209\n",
            "2275    2022-1286-1168\n",
            "2276    2022-1286-1209\n",
            "2277    2022-1168-1209\n",
            "Name: game_id, Length: 2278, dtype: object\n"
          ]
        }
      ]
    },
    {
      "cell_type": "code",
      "source": [],
      "metadata": {
        "id": "u2UVbb-dT-LD"
      },
      "id": "u2UVbb-dT-LD",
      "execution_count": null,
      "outputs": []
    }
  ],
  "metadata": {
    "kernelspec": {
      "display_name": "Python 3",
      "language": "python",
      "name": "python3"
    },
    "language_info": {
      "codemirror_mode": {
        "name": "ipython",
        "version": 3
      },
      "file_extension": ".py",
      "mimetype": "text/x-python",
      "name": "python",
      "nbconvert_exporter": "python",
      "pygments_lexer": "ipython3",
      "version": "3.8.8"
    },
    "colab": {
      "provenance": [],
      "include_colab_link": true
    }
  },
  "nbformat": 4,
  "nbformat_minor": 5
}